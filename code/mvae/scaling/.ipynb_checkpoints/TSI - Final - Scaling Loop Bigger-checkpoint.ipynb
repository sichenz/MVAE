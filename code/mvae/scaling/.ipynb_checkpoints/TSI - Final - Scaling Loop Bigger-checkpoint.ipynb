{
 "cells": [
  {
   "cell_type": "code",
   "execution_count": 1,
   "metadata": {},
   "outputs": [],
   "source": [
    "from datetime import datetime\n",
    "save_index = str('x'+datetime.now().strftime(\"%m%d%y-%H%M%S\"))\n",
    "\n",
    "import os\n",
    "os.mkdir(save_index)"
   ]
  },
  {
   "cell_type": "code",
   "execution_count": 2,
   "metadata": {},
   "outputs": [],
   "source": [
    "DECODER_DIMS = {\"text\": 400, \"logo\": 400, \"bp\": 400, \"indus\": 400}\n",
    "ENCODER_DIMS = {\"full\": 400, \"res\": 50, \"mgr\": 200, \"design\": 200}\n",
    "K = 20\n",
    "\n",
    "FOLDS = 4\n",
    "BATCHES = 5000\n",
    "ITERS = 10\n",
    "\n",
    "ADAM_LR = 1e-5\n",
    "MIN_AF = 1e-6\n",
    "ANNEALING_BATCHES = 4000\n",
    "NUM_PARTICLES = 1\n",
    "\n",
    "CENTER_BP = True\n",
    "\n",
    "DISABLE_TQDM = False\n",
    "\n",
    "WEIGHT_DECAY = 0."
   ]
  },
  {
   "cell_type": "code",
   "execution_count": 3,
   "metadata": {},
   "outputs": [],
   "source": [
    "import sys\n",
    "sys.path.insert(1, '../')\n",
    "\n",
    "import os\n",
    "\n",
    "import numpy as np\n",
    "import torch\n",
    "import torchvision.datasets as dset\n",
    "import torch.nn as nn\n",
    "import torchvision.transforms as transforms\n",
    "\n",
    "import pyro\n",
    "import pyro.distributions as dist\n",
    "import pyro.contrib.examples.util  # patches torchvision\n",
    "from pyro.infer import SVI, Trace_ELBO\n",
    "from pyro.optim import Adam\n",
    "from pyro import poutine\n",
    "\n",
    "pyro.set_rng_seed(42)\n",
    "\n",
    "import random\n",
    "random.seed(42)\n",
    "\n",
    "import pandas as pd\n",
    "\n",
    "from skimage import io\n",
    "from sklearn import metrics\n",
    "from matplotlib import pyplot as plt\n",
    "\n",
    "from tqdm.auto import tqdm, trange\n",
    "\n",
    "from sklearn.metrics import classification_report\n",
    "\n",
    "from data import SplitData\n",
    "from model import LogoMVAE\n",
    "\n",
    "assert pyro.__version__.startswith('1.3.0')\n",
    "\n",
    "from IPython.display import clear_output\n",
    "import time\n",
    "from IPython import display"
   ]
  },
  {
   "cell_type": "markdown",
   "metadata": {},
   "source": [
    "# Helper functions:"
   ]
  },
  {
   "cell_type": "code",
   "execution_count": 4,
   "metadata": {},
   "outputs": [],
   "source": [
    "def split(a, n):\n",
    "    k, m = divmod(len(a), n)\n",
    "    return (a[i * k + min(i, m):(i + 1) * k + min(i + 1, m)] for i in range(n))\n",
    "\n",
    "def compute_distance(z):\n",
    "    b = z.reshape(z.shape[0], 1, z.shape[1])\n",
    "    return np.sqrt(np.einsum('ijk, ijk->ij', z-b, z-b))"
   ]
  },
  {
   "cell_type": "markdown",
   "metadata": {},
   "source": [
    "# Data Loading\n",
    "\n",
    "First, load text data, and apply word filter. Note on notation: `tx` stands for \"true x,\" because the model variables are also called x."
   ]
  },
  {
   "cell_type": "code",
   "execution_count": 5,
   "metadata": {},
   "outputs": [],
   "source": [
    "textdf = pd.read_csv(\"../../../data/web_dtfm20_binary.csv\", index_col=0)\n",
    "tx_text = textdf.values\n",
    "seltext = tx_text.sum(0) > 0.05\n",
    "tx_text = textdf.values[:,seltext]\n",
    "\n",
    "gt20words = tx_text.sum(1) > 20\n",
    "tx_text = tx_text[gt20words,:]\n",
    "\n",
    "words = textdf.columns[seltext]\n",
    "N, V = tx_text.shape\n",
    "\n",
    "binfeats = pd.read_csv(\"../../../data/y_bin_all_py2.csv\", index_col=0)\n",
    "tx_b = binfeats.values\n",
    "tx_b = tx_b[gt20words,:]\n",
    "M_b = tx_b.shape[1]\n",
    "\n",
    "catfeats = pd.read_csv(\"../../../data/y_mult_ncolors_py2.csv\", index_col=0)\n",
    "\n",
    "tx_c1 = catfeats.values[:,0][gt20words]\n",
    "M_c1 = len(np.unique(tx_c1))\n",
    "tx_c1 = np.expand_dims(tx_c1, 1)\n",
    "\n",
    "tx_c2 = catfeats.values[:,1][gt20words]\n",
    "M_c2 = len(np.unique(tx_c2))\n",
    "tx_c2 = np.expand_dims(tx_c2, 1)\n",
    "\n",
    "tx_c3 = catfeats.values[:,2][gt20words]\n",
    "M_c3 = len(np.unique(tx_c3))\n",
    "tx_c3 = np.expand_dims(tx_c3, 1)\n",
    "\n",
    "tx_c4 = catfeats.values[:,3][gt20words]\n",
    "M_c4 = len(np.unique(tx_c4))\n",
    "tx_c4 = np.expand_dims(tx_c4, 1)\n",
    "\n",
    "tx_c5 = catfeats.values[:,4][gt20words]\n",
    "M_c5 = len(np.unique(tx_c5))\n",
    "tx_c5 = np.expand_dims(tx_c5, 1)\n",
    "\n",
    "c1_labels = np.array([\"black\",\"blue_dark\",\"blue_light\",\"blue_medium\",\"brown\",\"green_dark\",\n",
    "                      \"green_light\",\"grey_dark\",\"grey_light\",\"orange\",\"red\",\"red_dark\",\n",
    "                      \"yellow\"])\n",
    "\n",
    "c2_labels = np.array([\"circle\",\"rect-oval_medium\",\"rect-oval_large\",\"rect-oval_thin\",\n",
    "                      \"square\",\"triangle\"])\n",
    "\n",
    "c3_labels = np.array([\"bad_letters\",\"bulky_hollow_geometric\",\"circular\",\"dense_simple_geom\",\n",
    "                      \"detailed_circle\",\"hollow_circle\",\"detailed_hor\",\"long_hor\",\"no_mark\",\n",
    "                      \"simple\",\"square\",\"thin_vert_rect\",\"vert_narrow\",\"detailed\",\"thin\",\n",
    "                      \"hor_wispy\"])\n",
    "\n",
    "c4_labels = np.array([\"nochars\",\"sans\",\"serif\"])\n",
    "\n",
    "c5_labels = np.array([\"one_color\",\"two_colors\",\"three_colors\",\"many_colors\"])\n",
    "\n",
    "bp = pd.read_csv(\"../../../data/bp_avg_all_traits.csv\", index_col=0)\n",
    "\n",
    "bp_labels = bp.columns\n",
    "\n",
    "tx_bp = bp.values\n",
    "tx_bp = tx_bp[gt20words]\n",
    "if CENTER_BP:\n",
    "    tx_bp = (tx_bp - tx_bp.mean(0)) / tx_bp.std(0)\n",
    "M_bp = tx_bp.shape[1]\n",
    "\n",
    "indus = pd.read_csv(\"../../../data/industry_codes_b2bc.csv\", index_col=0)\n",
    "indus = indus.iloc[np.in1d(indus.index, bp.index),:]\n",
    "indus = indus.sort_index()\n",
    "\n",
    "tx_indus = indus.values.astype('int')\n",
    "tx_indus = tx_indus[:, tx_indus.sum(0) > 9]\n",
    "tx_indus = tx_indus[gt20words,:]\n",
    "M_indus = tx_indus.shape[1]\n",
    "\n",
    "indus_labels = indus.columns[indus.values.sum(0) > 9]\n",
    "\n",
    "allnames = binfeats.index.values[gt20words]\n",
    "\n",
    "x_sizes = {\"text\": V, \n",
    "           \"bin\": M_b, \n",
    "           \"cat1\": M_c1, \n",
    "           \"cat2\": M_c2, \n",
    "           \"cat3\": M_c3, \n",
    "           \"cat4\": M_c4, \n",
    "           \"cat5\": M_c5, \n",
    "           \"bp\": M_bp, \n",
    "           \"indus\": M_indus, \n",
    "           \"logo\": M_b + M_c1 + M_c2 + M_c3 + M_c4 + M_c5, \n",
    "           \"all\": V + M_b + M_c1 + M_c2 + M_c3 + M_c4 + M_c5 + M_bp + M_indus}\n",
    "\n",
    "task_sizes = {\"full\": x_sizes[\"all\"], \n",
    "              \"res\": x_sizes[\"logo\"] + x_sizes[\"indus\"], \n",
    "              \"design\": x_sizes[\"text\"] + x_sizes[\"bp\"] + x_sizes[\"indus\"], \n",
    "              \"mgr\": x_sizes[\"all\"] - x_sizes[\"bp\"]}\n",
    "\n",
    "noptions = np.array([M_c1, M_c2, M_c3, M_c4, M_c5])"
   ]
  },
  {
   "cell_type": "markdown",
   "metadata": {},
   "source": [
    "# Training: Instantiate Model and Run"
   ]
  },
  {
   "cell_type": "code",
   "execution_count": 6,
   "metadata": {},
   "outputs": [],
   "source": [
    "givens = pd.DataFrame(np.concatenate(([[K], list(DECODER_DIMS.values()), list(ENCODER_DIMS.values()), [BATCHES], [ITERS], [ADAM_LR], [ANNEALING_BATCHES], [NUM_PARTICLES], [CENTER_BP], [WEIGHT_DECAY], [FOLDS]]))).T\n",
    "givens.columns = [\"K\", \"text_dec\", \"logo_dec\", \"bp_dec\", \"indus_dec\", \"full_enc\", \"res_enc\", \"mgr_enc\", \"des_enc\", \"batches\", \"iters\", \"adam_lr\", \"annealing_batches\", \"num_particles\", \"center_bp\", \"weight_decay\",\"folds\"]"
   ]
  },
  {
   "cell_type": "markdown",
   "metadata": {},
   "source": [
    "Create holdout and cross-validation subsets (just the indices):"
   ]
  },
  {
   "cell_type": "code",
   "execution_count": 7,
   "metadata": {},
   "outputs": [],
   "source": [
    "if FOLDS > 1:\n",
    "    holdout_indices = list(split(np.arange(N), FOLDS))\n",
    "    holdout_indices.append(np.array([]))\n",
    "    fold_indices = [np.setdiff1d(np.arange(N), holdout_indices[i]) for i in range(FOLDS)]\n",
    "    fold_indices.append(np.arange(N))\n",
    "else:\n",
    "    holdout_indices = [np.array([])]"
   ]
  },
  {
   "cell_type": "markdown",
   "metadata": {},
   "source": [
    "Set the KL annealing schedule (same across each fold):"
   ]
  },
  {
   "cell_type": "code",
   "execution_count": 8,
   "metadata": {},
   "outputs": [],
   "source": [
    "schedule = np.linspace(MIN_AF, 1., ANNEALING_BATCHES)\n",
    "# schedule = np.concatenate([np.linspace(MIN_AF, 1., round(ANNEALING_BATCHES/4.)) for _ in range(4)])"
   ]
  },
  {
   "cell_type": "code",
   "execution_count": 9,
   "metadata": {},
   "outputs": [],
   "source": [
    "track_z = dict()\n",
    "track_neighbors = dict()\n",
    "track_names = dict()"
   ]
  },
  {
   "cell_type": "code",
   "execution_count": null,
   "metadata": {
    "scrolled": true
   },
   "outputs": [
    {
     "data": {
      "application/vnd.jupyter.widget-view+json": {
       "model_id": "",
       "version_major": 2,
       "version_minor": 0
      },
      "text/plain": [
       "HBox(children=(FloatProgress(value=0.0, description='Batches', max=5000.0, style=ProgressStyle(description_wid…"
      ]
     },
     "metadata": {},
     "output_type": "display_data"
    },
    {
     "name": "stderr",
     "output_type": "stream",
     "text": [
      "/home/ryandew/anaconda3/envs/pyro/lib/python3.7/site-packages/sklearn/metrics/_classification.py:1272: UndefinedMetricWarning: Precision and F-score are ill-defined and being set to 0.0 in labels with no predicted samples. Use `zero_division` parameter to control this behavior.\n",
      "  _warn_prf(average, modifier, msg_start, len(result))\n"
     ]
    },
    {
     "data": {
      "application/vnd.jupyter.widget-view+json": {
       "model_id": "",
       "version_major": 2,
       "version_minor": 0
      },
      "text/plain": [
       "HBox(children=(FloatProgress(value=0.0, description='Batches', max=5000.0, style=ProgressStyle(description_wid…"
      ]
     },
     "metadata": {},
     "output_type": "display_data"
    },
    {
     "name": "stderr",
     "output_type": "stream",
     "text": [
      "/home/ryandew/anaconda3/envs/pyro/lib/python3.7/site-packages/sklearn/metrics/_classification.py:1272: UndefinedMetricWarning: Precision and F-score are ill-defined and being set to 0.0 in labels with no predicted samples. Use `zero_division` parameter to control this behavior.\n",
      "  _warn_prf(average, modifier, msg_start, len(result))\n"
     ]
    },
    {
     "data": {
      "application/vnd.jupyter.widget-view+json": {
       "model_id": "",
       "version_major": 2,
       "version_minor": 0
      },
      "text/plain": [
       "HBox(children=(FloatProgress(value=0.0, description='Batches', max=5000.0, style=ProgressStyle(description_wid…"
      ]
     },
     "metadata": {},
     "output_type": "display_data"
    },
    {
     "name": "stderr",
     "output_type": "stream",
     "text": [
      "/home/ryandew/anaconda3/envs/pyro/lib/python3.7/site-packages/sklearn/metrics/_classification.py:1272: UndefinedMetricWarning: Precision and F-score are ill-defined and being set to 0.0 in labels with no predicted samples. Use `zero_division` parameter to control this behavior.\n",
      "  _warn_prf(average, modifier, msg_start, len(result))\n"
     ]
    },
    {
     "data": {
      "application/vnd.jupyter.widget-view+json": {
       "model_id": "3608c0e6207f42599b8becc10a6af988",
       "version_major": 2,
       "version_minor": 0
      },
      "text/plain": [
       "HBox(children=(FloatProgress(value=0.0, description='Batches', max=5000.0, style=ProgressStyle(description_wid…"
      ]
     },
     "metadata": {},
     "output_type": "display_data"
    }
   ],
   "source": [
    "# Run the model across all folds (sequentially):\n",
    "\n",
    "fold = FOLDS\n",
    "\n",
    "for scale_zero in [\"text\",\"logo\",\"bp\",\"indus\",\"full\"]:\n",
    "    \n",
    "    domain_scaling = {\"text\": 1., \n",
    "                      \"logo\": 1., \n",
    "                      \"bp\": 1., \n",
    "                      \"indus\": 1.}\n",
    "    \n",
    "    if scale_zero is not \"full\":\n",
    "        domain_scaling[scale_zero] = 1e-8\n",
    "\n",
    "    pyro.clear_param_store()\n",
    "\n",
    "    data = SplitData(tx_text, tx_b, tx_c1, tx_c2, tx_c3, tx_c4, tx_c5, tx_bp, tx_indus, \n",
    "                     allnames, noptions, test_indices = holdout_indices[fold])   \n",
    "\n",
    "    lmvae = LogoMVAE(K, ENCODER_DIMS, DECODER_DIMS, x_sizes, task_sizes, use_cuda = True, domain_scaling = domain_scaling)\n",
    "    optimizer = Adam({\"lr\": ADAM_LR}) #, \"weight_decay\": 0.4})\n",
    "    svi = SVI(lmvae.model, lmvae.guide, optimizer, loss=Trace_ELBO(num_particles = NUM_PARTICLES))\n",
    "\n",
    "    for i in tqdm(range(BATCHES), desc=\"Batches\", leave=False, disable=DISABLE_TQDM):\n",
    "\n",
    "        if i < ANNEALING_BATCHES:\n",
    "            annealing_factor = schedule[i]\n",
    "        else:\n",
    "            annealing_factor = 1.\n",
    "\n",
    "        data.training.shuffle()\n",
    "\n",
    "        for j in tqdm(range(ITERS), desc=\"Iters\", leave=False, disable=True):\n",
    "            svi.step(data.training, annealing_factor)\n",
    "\n",
    "    # Final save of stats\n",
    "    lmvae.eval()\n",
    "\n",
    "    lmvae.predict(data.training)\n",
    "    lmvae.pred.metrics.summarize(path = save_index + \"/\" + save_index + \"_training_metrics.csv\", index = scale_zero, givens = givens)\n",
    "    lmvae.pred.metrics.save_features_table(path = save_index + \"/\" + save_index + \"_training_bin_features.csv\", names = binfeats.columns, index = scale_zero, givens = givens)\n",
    "    lmvae.pred.ll.summarize(path = save_index + \"/\" + save_index + \"_training_ll.csv\", index = scale_zero, givens = givens)\n",
    "\n",
    "    z = lmvae.pred.z.z_loc.cpu().numpy()\n",
    "    end_names = data.training.names\n",
    "    # z_est = z_est[:,z_est.std(0) > 0.5]\n",
    "\n",
    "    dist_z = compute_distance(z)\n",
    "\n",
    "    test_firms = ['itw','harman-intl','lilly','goldman-sachs','21st-century-fox','facebook','gucci','old-navy','3m','actavis','mcdonalds', 'kfc']\n",
    "    test_neighbors = [end_names[dist_z[np.where(end_names == test_firms[i])[0][0],:].argsort()][1:5] for i in range(len(test_firms))]\n",
    "    test_dist = [np.sort(dist_z[np.where(end_names == test_firms[i])[0][0],:].round(2))[1:5] for i in range(len(test_firms))]\n",
    "    formatted_neighbors = [\", \".join(test_neighbors[i].tolist()) for i in range(len(test_neighbors))]\n",
    "\n",
    "    neighbors_df = pd.DataFrame(test_neighbors)\n",
    "    neighbors_df.index = test_firms\n",
    "    neighbors_df.columns = np.arange(1,5)\n",
    "    \n",
    "    track_z[scale_zero] = z\n",
    "    track_names[scale_zero] = end_names\n",
    "    track_neighbors[scale_zero] = neighbors_df"
   ]
  },
  {
   "cell_type": "code",
   "execution_count": null,
   "metadata": {},
   "outputs": [],
   "source": [
    "import pickle\n",
    "\n",
    "tracked_things = {'z': track_z, 'neighbors': track_neighbors, 'names': track_names}\n",
    "\n",
    "with open(\"track_results.dat\", \"wb\") as f:\n",
    "    pickle.dump(tracked_things, f)"
   ]
  },
  {
   "cell_type": "code",
   "execution_count": 16,
   "metadata": {},
   "outputs": [],
   "source": [
    "import pickle\n",
    "infile = open(\"track_results.dat\",'rb')\n",
    "tracked_things = pickle.load(infile)\n",
    "infile.close()"
   ]
  },
  {
   "cell_type": "code",
   "execution_count": 17,
   "metadata": {
    "scrolled": true
   },
   "outputs": [
    {
     "data": {
      "text/html": [
       "<div>\n",
       "<style scoped>\n",
       "    .dataframe tbody tr th:only-of-type {\n",
       "        vertical-align: middle;\n",
       "    }\n",
       "\n",
       "    .dataframe tbody tr th {\n",
       "        vertical-align: top;\n",
       "    }\n",
       "\n",
       "    .dataframe thead th {\n",
       "        text-align: right;\n",
       "    }\n",
       "</style>\n",
       "<table border=\"1\" class=\"dataframe\">\n",
       "  <thead>\n",
       "    <tr style=\"text-align: right;\">\n",
       "      <th></th>\n",
       "      <th>1</th>\n",
       "      <th>2</th>\n",
       "      <th>3</th>\n",
       "      <th>4</th>\n",
       "    </tr>\n",
       "  </thead>\n",
       "  <tbody>\n",
       "    <tr>\n",
       "      <th>itw</th>\n",
       "      <td>illinois-tool-works</td>\n",
       "      <td>owens-corning</td>\n",
       "      <td>spirit-aerosystems-holdings</td>\n",
       "      <td>eastman-chemical-company</td>\n",
       "    </tr>\n",
       "    <tr>\n",
       "      <th>harman-intl</th>\n",
       "      <td>harman-international-industries</td>\n",
       "      <td>wipro</td>\n",
       "      <td>johnson-controls</td>\n",
       "      <td>accenture</td>\n",
       "    </tr>\n",
       "    <tr>\n",
       "      <th>lilly</th>\n",
       "      <td>johnsons</td>\n",
       "      <td>first-american-financial-corporation</td>\n",
       "      <td>cintas-corp</td>\n",
       "      <td>costco</td>\n",
       "    </tr>\n",
       "    <tr>\n",
       "      <th>goldman-sachs</th>\n",
       "      <td>mckinsey</td>\n",
       "      <td>kkr</td>\n",
       "      <td>the-bank-of-new-york-mellon</td>\n",
       "      <td>jones-lang-lasalle-incorporated</td>\n",
       "    </tr>\n",
       "    <tr>\n",
       "      <th>21st-century-fox</th>\n",
       "      <td>iheartmedia</td>\n",
       "      <td>xfinity</td>\n",
       "      <td>news-corporation</td>\n",
       "      <td>cbs</td>\n",
       "    </tr>\n",
       "    <tr>\n",
       "      <th>facebook</th>\n",
       "      <td>twitter</td>\n",
       "      <td>uber</td>\n",
       "      <td>ebay</td>\n",
       "      <td>mosaic</td>\n",
       "    </tr>\n",
       "    <tr>\n",
       "      <th>gucci</th>\n",
       "      <td>cartier</td>\n",
       "      <td>dior</td>\n",
       "      <td>mac</td>\n",
       "      <td>calvin-klein</td>\n",
       "    </tr>\n",
       "    <tr>\n",
       "      <th>old-navy</th>\n",
       "      <td>gap</td>\n",
       "      <td>walmart</td>\n",
       "      <td>ross-dress-for-less</td>\n",
       "      <td>kohls</td>\n",
       "    </tr>\n",
       "    <tr>\n",
       "      <th>3m</th>\n",
       "      <td>hp</td>\n",
       "      <td>stanley-black--decker</td>\n",
       "      <td>carrier</td>\n",
       "      <td>aig</td>\n",
       "    </tr>\n",
       "    <tr>\n",
       "      <th>actavis</th>\n",
       "      <td>patterson-companies</td>\n",
       "      <td>ingredion-incorporated</td>\n",
       "      <td>praxair</td>\n",
       "      <td>avery-dennison-corporation</td>\n",
       "    </tr>\n",
       "    <tr>\n",
       "      <th>mcdonalds</th>\n",
       "      <td>wells-fargo</td>\n",
       "      <td>walmart</td>\n",
       "      <td>heinz</td>\n",
       "      <td>upc</td>\n",
       "    </tr>\n",
       "    <tr>\n",
       "      <th>kfc</th>\n",
       "      <td>folgers</td>\n",
       "      <td>food-4-less</td>\n",
       "      <td>tyson</td>\n",
       "      <td>subway</td>\n",
       "    </tr>\n",
       "  </tbody>\n",
       "</table>\n",
       "</div>"
      ],
      "text/plain": [
       "                                                1  \\\n",
       "itw                           illinois-tool-works   \n",
       "harman-intl       harman-international-industries   \n",
       "lilly                                    johnsons   \n",
       "goldman-sachs                            mckinsey   \n",
       "21st-century-fox                      iheartmedia   \n",
       "facebook                                  twitter   \n",
       "gucci                                     cartier   \n",
       "old-navy                                      gap   \n",
       "3m                                             hp   \n",
       "actavis                       patterson-companies   \n",
       "mcdonalds                             wells-fargo   \n",
       "kfc                                       folgers   \n",
       "\n",
       "                                                     2  \\\n",
       "itw                                      owens-corning   \n",
       "harman-intl                                      wipro   \n",
       "lilly             first-american-financial-corporation   \n",
       "goldman-sachs                                      kkr   \n",
       "21st-century-fox                               xfinity   \n",
       "facebook                                          uber   \n",
       "gucci                                             dior   \n",
       "old-navy                                       walmart   \n",
       "3m                               stanley-black--decker   \n",
       "actavis                         ingredion-incorporated   \n",
       "mcdonalds                                      walmart   \n",
       "kfc                                        food-4-less   \n",
       "\n",
       "                                            3                                4  \n",
       "itw               spirit-aerosystems-holdings         eastman-chemical-company  \n",
       "harman-intl                  johnson-controls                        accenture  \n",
       "lilly                             cintas-corp                           costco  \n",
       "goldman-sachs     the-bank-of-new-york-mellon  jones-lang-lasalle-incorporated  \n",
       "21st-century-fox             news-corporation                              cbs  \n",
       "facebook                                 ebay                           mosaic  \n",
       "gucci                                     mac                     calvin-klein  \n",
       "old-navy                  ross-dress-for-less                            kohls  \n",
       "3m                                    carrier                              aig  \n",
       "actavis                               praxair       avery-dennison-corporation  \n",
       "mcdonalds                               heinz                              upc  \n",
       "kfc                                     tyson                           subway  "
      ]
     },
     "execution_count": 17,
     "metadata": {},
     "output_type": "execute_result"
    }
   ],
   "source": [
    "tracked_things['neighbors']['full']"
   ]
  },
  {
   "cell_type": "code",
   "execution_count": 18,
   "metadata": {
    "scrolled": true
   },
   "outputs": [
    {
     "data": {
      "text/html": [
       "<div>\n",
       "<style scoped>\n",
       "    .dataframe tbody tr th:only-of-type {\n",
       "        vertical-align: middle;\n",
       "    }\n",
       "\n",
       "    .dataframe tbody tr th {\n",
       "        vertical-align: top;\n",
       "    }\n",
       "\n",
       "    .dataframe thead th {\n",
       "        text-align: right;\n",
       "    }\n",
       "</style>\n",
       "<table border=\"1\" class=\"dataframe\">\n",
       "  <thead>\n",
       "    <tr style=\"text-align: right;\">\n",
       "      <th></th>\n",
       "      <th>1</th>\n",
       "      <th>2</th>\n",
       "      <th>3</th>\n",
       "      <th>4</th>\n",
       "    </tr>\n",
       "  </thead>\n",
       "  <tbody>\n",
       "    <tr>\n",
       "      <th>itw</th>\n",
       "      <td>textron</td>\n",
       "      <td>dana-holding-corporation</td>\n",
       "      <td>commercial-metals-company</td>\n",
       "      <td>illinois-tool-works</td>\n",
       "    </tr>\n",
       "    <tr>\n",
       "      <th>harman-intl</th>\n",
       "      <td>harman-international-industries</td>\n",
       "      <td>ingram-micro</td>\n",
       "      <td>wipro</td>\n",
       "      <td>accenture</td>\n",
       "    </tr>\n",
       "    <tr>\n",
       "      <th>lilly</th>\n",
       "      <td>lifepoint-health</td>\n",
       "      <td>massachusetts-mutual-life-insurance-company</td>\n",
       "      <td>simon-property-group</td>\n",
       "      <td>markel-corporation</td>\n",
       "    </tr>\n",
       "    <tr>\n",
       "      <th>goldman-sachs</th>\n",
       "      <td>kkr</td>\n",
       "      <td>american-financial-group</td>\n",
       "      <td>guardian-life-ins-co-of-america</td>\n",
       "      <td>hsbc</td>\n",
       "    </tr>\n",
       "    <tr>\n",
       "      <th>21st-century-fox</th>\n",
       "      <td>cbs</td>\n",
       "      <td>nbc</td>\n",
       "      <td>xfinity</td>\n",
       "      <td>time-inc</td>\n",
       "    </tr>\n",
       "    <tr>\n",
       "      <th>facebook</th>\n",
       "      <td>twitter</td>\n",
       "      <td>uber</td>\n",
       "      <td>taco-bell</td>\n",
       "      <td>salesforce</td>\n",
       "    </tr>\n",
       "    <tr>\n",
       "      <th>gucci</th>\n",
       "      <td>dior</td>\n",
       "      <td>mgm-resorts-international</td>\n",
       "      <td>mac</td>\n",
       "      <td>calvin-klein</td>\n",
       "    </tr>\n",
       "    <tr>\n",
       "      <th>old-navy</th>\n",
       "      <td>gap</td>\n",
       "      <td>kohls</td>\n",
       "      <td>walmart</td>\n",
       "      <td>fossil</td>\n",
       "    </tr>\n",
       "    <tr>\n",
       "      <th>3m</th>\n",
       "      <td>whirlpool</td>\n",
       "      <td>seagate</td>\n",
       "      <td>stanley-black--decker</td>\n",
       "      <td>hp</td>\n",
       "    </tr>\n",
       "    <tr>\n",
       "      <th>actavis</th>\n",
       "      <td>avery-dennison-corporation</td>\n",
       "      <td>cigna</td>\n",
       "      <td>praxair</td>\n",
       "      <td>davita-healthcar</td>\n",
       "    </tr>\n",
       "    <tr>\n",
       "      <th>mcdonalds</th>\n",
       "      <td>supervalu</td>\n",
       "      <td>performance-food-group-company</td>\n",
       "      <td>upc</td>\n",
       "      <td>fannie-mae</td>\n",
       "    </tr>\n",
       "    <tr>\n",
       "      <th>kfc</th>\n",
       "      <td>subway</td>\n",
       "      <td>burger-king</td>\n",
       "      <td>cabelas-inc</td>\n",
       "      <td>folgers</td>\n",
       "    </tr>\n",
       "  </tbody>\n",
       "</table>\n",
       "</div>"
      ],
      "text/plain": [
       "                                                1  \\\n",
       "itw                                       textron   \n",
       "harman-intl       harman-international-industries   \n",
       "lilly                            lifepoint-health   \n",
       "goldman-sachs                                 kkr   \n",
       "21st-century-fox                              cbs   \n",
       "facebook                                  twitter   \n",
       "gucci                                        dior   \n",
       "old-navy                                      gap   \n",
       "3m                                      whirlpool   \n",
       "actavis                avery-dennison-corporation   \n",
       "mcdonalds                               supervalu   \n",
       "kfc                                        subway   \n",
       "\n",
       "                                                            2  \\\n",
       "itw                                  dana-holding-corporation   \n",
       "harman-intl                                      ingram-micro   \n",
       "lilly             massachusetts-mutual-life-insurance-company   \n",
       "goldman-sachs                        american-financial-group   \n",
       "21st-century-fox                                          nbc   \n",
       "facebook                                                 uber   \n",
       "gucci                               mgm-resorts-international   \n",
       "old-navy                                                kohls   \n",
       "3m                                                    seagate   \n",
       "actavis                                                 cigna   \n",
       "mcdonalds                      performance-food-group-company   \n",
       "kfc                                               burger-king   \n",
       "\n",
       "                                                3                    4  \n",
       "itw                     commercial-metals-company  illinois-tool-works  \n",
       "harman-intl                                 wipro            accenture  \n",
       "lilly                        simon-property-group   markel-corporation  \n",
       "goldman-sachs     guardian-life-ins-co-of-america                 hsbc  \n",
       "21st-century-fox                          xfinity             time-inc  \n",
       "facebook                                taco-bell           salesforce  \n",
       "gucci                                         mac         calvin-klein  \n",
       "old-navy                                  walmart               fossil  \n",
       "3m                          stanley-black--decker                   hp  \n",
       "actavis                                   praxair     davita-healthcar  \n",
       "mcdonalds                                     upc           fannie-mae  \n",
       "kfc                                   cabelas-inc              folgers  "
      ]
     },
     "execution_count": 18,
     "metadata": {},
     "output_type": "execute_result"
    }
   ],
   "source": [
    "tracked_things['neighbors']['logo']"
   ]
  },
  {
   "cell_type": "code",
   "execution_count": 20,
   "metadata": {},
   "outputs": [],
   "source": [
    "full_z = tracked_things['z']['full']\n",
    "dist_full = compute_distance(full_z)\n",
    "\n",
    "top10_full = np.array([np.argsort(dist_full[i])[1:11] for i in range(dist_full.shape[0])])\n",
    "top10_full_names = tracked_things['names']['full'][top10_full]\n",
    "top10_full_names_ordered = top10_full_names[np.argsort(tracked_things['names']['full'])]"
   ]
  },
  {
   "cell_type": "code",
   "execution_count": 21,
   "metadata": {
    "scrolled": true
   },
   "outputs": [
    {
     "data": {
      "text/plain": [
       "array([['iheartmedia', 'xfinity', 'news-corporation', ...,\n",
       "        'universal-music-group', 'hyatt',\n",
       "        'cablevision-systems-corporation'],\n",
       "       ['hp', 'stanley-black--decker', 'carrier', ..., 'pedigree',\n",
       "        'illinois-tool-works', 'gillette'],\n",
       "       ['thermo-fisher-scientific', 'abbvie-inc', 'baxalta-incorporated',\n",
       "        ..., 'quintiles-transnational-holdings', 'huntsman-corporation',\n",
       "        'nestle'],\n",
       "       ...,\n",
       "       ['wrigleys', 'coca-cola', 'mccormick', ..., 'target', 'heinz',\n",
       "        'kraft'],\n",
       "       ['prada', 'louis-vuitton', 'ralph-lauren', ..., 'dior',\n",
       "        'tiffany-co', 'max-factor'],\n",
       "       ['honeywell', 'medtronic', 'corning', ..., 'texas-instruments',\n",
       "        'st-jude-medical', 'merck']], dtype=object)"
      ]
     },
     "execution_count": 21,
     "metadata": {},
     "output_type": "execute_result"
    }
   ],
   "source": [
    "top10_full_names_ordered"
   ]
  },
  {
   "cell_type": "code",
   "execution_count": 22,
   "metadata": {},
   "outputs": [],
   "source": [
    "no_logo_z = tracked_things['z']['logo']\n",
    "dist_no_logo = compute_distance(no_logo_z)\n",
    "\n",
    "top10_no_logo = np.array([np.argsort(dist_no_logo[i])[1:11] for i in range(dist_no_logo.shape[0])])\n",
    "top10_no_logo_names = tracked_things['names']['logo'][top10_no_logo]\n",
    "top10_no_logo_names_ordered = top10_no_logo_names[np.argsort(tracked_things['names']['logo'])]"
   ]
  },
  {
   "cell_type": "code",
   "execution_count": 23,
   "metadata": {},
   "outputs": [],
   "source": [
    "no_text_z = tracked_things['z']['text']\n",
    "dist_no_text = compute_distance(no_text_z)\n",
    "\n",
    "top10_no_text = np.array([np.argsort(dist_no_text[i])[1:11] for i in range(dist_no_text.shape[0])])\n",
    "top10_no_text_names = tracked_things['names']['text'][top10_no_text]\n",
    "top10_no_text_names_ordered = top10_no_text_names[np.argsort(tracked_things['names']['text'])]"
   ]
  },
  {
   "cell_type": "code",
   "execution_count": 24,
   "metadata": {},
   "outputs": [],
   "source": [
    "no_bp_z = tracked_things['z']['bp']\n",
    "dist_no_bp = compute_distance(no_bp_z)\n",
    "\n",
    "top10_no_bp = np.array([np.argsort(dist_no_bp[i])[1:11] for i in range(dist_no_bp.shape[0])])\n",
    "top10_no_bp_names = tracked_things['names']['bp'][top10_no_bp]\n",
    "top10_no_bp_names_ordered = top10_no_bp_names[np.argsort(tracked_things['names']['bp'])]"
   ]
  },
  {
   "cell_type": "code",
   "execution_count": 25,
   "metadata": {},
   "outputs": [],
   "source": [
    "no_indus_z = tracked_things['z']['indus']\n",
    "dist_no_indus = compute_distance(no_indus_z)\n",
    "\n",
    "top10_no_indus = np.array([np.argsort(dist_no_indus[i])[1:11] for i in range(dist_no_indus.shape[0])])\n",
    "top10_no_indus_names = tracked_things['names']['indus'][top10_no_indus]\n",
    "top10_no_indus_names_ordered = top10_no_indus_names[np.argsort(tracked_things['names']['indus'])]"
   ]
  },
  {
   "cell_type": "code",
   "execution_count": 26,
   "metadata": {
    "scrolled": true
   },
   "outputs": [
    {
     "data": {
      "text/plain": [
       "{'logo': 4.88243626062323,\n",
       " 'text': 2.764872521246459,\n",
       " 'bp': 3.8158640226628897,\n",
       " 'indus': 5.974504249291785}"
      ]
     },
     "execution_count": 26,
     "metadata": {},
     "output_type": "execute_result"
    }
   ],
   "source": [
    "{'logo': np.array([np.isin(top10_no_logo_names_ordered[i], top10_full_names_ordered[i]) for i in range(dist_full.shape[0])]).sum(1).mean(),\n",
    " 'text': np.array([np.isin(top10_no_text_names_ordered[i], top10_full_names_ordered[i]) for i in range(dist_full.shape[0])]).sum(1).mean(),\n",
    " 'bp': np.array([np.isin(top10_no_bp_names_ordered[i], top10_full_names_ordered[i]) for i in range(dist_full.shape[0])]).sum(1).mean(),\n",
    " 'indus': np.array([np.isin(top10_no_indus_names_ordered[i], top10_full_names_ordered[i]) for i in range(dist_full.shape[0])]).sum(1).mean()}"
   ]
  },
  {
   "cell_type": "code",
   "execution_count": null,
   "metadata": {},
   "outputs": [],
   "source": []
  }
 ],
 "metadata": {
  "kernelspec": {
   "display_name": "pyro",
   "language": "python",
   "name": "pyro"
  },
  "language_info": {
   "codemirror_mode": {
    "name": "ipython",
    "version": 3
   },
   "file_extension": ".py",
   "mimetype": "text/x-python",
   "name": "python",
   "nbconvert_exporter": "python",
   "pygments_lexer": "ipython3",
   "version": "3.7.7"
  }
 },
 "nbformat": 4,
 "nbformat_minor": 2
}
