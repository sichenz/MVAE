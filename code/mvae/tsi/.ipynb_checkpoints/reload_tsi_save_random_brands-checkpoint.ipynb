{
 "cells": [
  {
   "cell_type": "code",
   "execution_count": 1,
   "metadata": {},
   "outputs": [],
   "source": [
    "%run -i reload.py"
   ]
  },
  {
   "cell_type": "code",
   "execution_count": 2,
   "metadata": {},
   "outputs": [],
   "source": [
    "from analysis import *"
   ]
  },
  {
   "cell_type": "markdown",
   "metadata": {},
   "source": [
    "# Generate random brands"
   ]
  },
  {
   "cell_type": "markdown",
   "metadata": {},
   "source": [
    "## Examining common patterns"
   ]
  },
  {
   "cell_type": "code",
   "execution_count": 3,
   "metadata": {},
   "outputs": [],
   "source": [
    "testgen = RandomBrand(lmvae, K, N = 10000)"
   ]
  },
  {
   "cell_type": "code",
   "execution_count": 4,
   "metadata": {
    "scrolled": true
   },
   "outputs": [
    {
     "data": {
      "text/plain": [
       "tensor([0.5408, 0.5448, 0.5267, 0.5029, 0.5608, 0.4975, 0.5504, 0.5582, 0.5482,\n",
       "        0.5572, 0.4325, 0.5556, 0.5346, 0.5417, 0.5741, 0.5467, 0.5451, 0.4664,\n",
       "        0.5702, 0.5261, 0.5386, 0.5377, 0.5124, 0.4990, 0.5885, 0.5585, 0.5527,\n",
       "        0.5096, 0.5464, 0.4556, 0.4633, 0.5302, 0.5321, 0.5685, 0.5602, 0.5643,\n",
       "        0.5365, 0.5373, 0.5518, 0.4157, 0.5404, 0.5312])"
      ]
     },
     "execution_count": 4,
     "metadata": {},
     "output_type": "execute_result"
    }
   ],
   "source": [
    "testgen.pred.bp.std(0)"
   ]
  },
  {
   "cell_type": "code",
   "execution_count": 5,
   "metadata": {
    "scrolled": true
   },
   "outputs": [
    {
     "data": {
      "text/plain": [
       "array([1., 1., 1., 1., 1., 1., 1., 1., 1., 1., 1., 1., 1., 1., 1., 1., 1.,\n",
       "       1., 1., 1., 1., 1., 1., 1., 1., 1., 1., 1., 1., 1., 1., 1., 1., 1.,\n",
       "       1., 1., 1., 1., 1., 1., 1., 1.])"
      ]
     },
     "execution_count": 5,
     "metadata": {},
     "output_type": "execute_result"
    }
   ],
   "source": [
    "tx_bp.std(0)"
   ]
  },
  {
   "cell_type": "code",
   "execution_count": 6,
   "metadata": {
    "scrolled": true
   },
   "outputs": [
    {
     "data": {
      "text/plain": [
       "(array([0.0012113 , 0.01065944, 0.04748298, 0.21246207, 0.51528713,\n",
       "        0.79558207, 0.60322757, 0.20495203, 0.03028251, 0.00145356]),\n",
       " array([-2.3015077 , -1.8887281 , -1.4759486 , -1.0631691 , -0.65038955,\n",
       "        -0.23760998,  0.17516956,  0.5879491 ,  1.0007286 ,  1.4135082 ,\n",
       "         1.8262877 ], dtype=float32),\n",
       " <a list of 10 Patch objects>)"
      ]
     },
     "execution_count": 6,
     "metadata": {},
     "output_type": "execute_result"
    },
    {
     "data": {
      "image/png": "[encoded data removed]",
      "text/plain": [
       "<Figure size 432x288 with 1 Axes>"
      ]
     },
     "metadata": {
      "needs_background": "light"
     },
     "output_type": "display_data"
    }
   ],
   "source": [
    "plt.hist(tx_bp[:,0], alpha=0.5, density = True)\n",
    "plt.hist(testgen.pred.bp[:,5], alpha = 0.5, density = True)"
   ]
  },
  {
   "cell_type": "code",
   "execution_count": 7,
   "metadata": {},
   "outputs": [
    {
     "data": {
      "text/plain": [
       "<matplotlib.lines.Line2D at 0x7f5ce3ffa510>"
      ]
     },
     "execution_count": 7,
     "metadata": {},
     "output_type": "execute_result"
    },
    {
     "data": {
      "image/png": "[encoded data removed]",
      "text/plain": [
       "<Figure size 432x288 with 1 Axes>"
      ]
     },
     "metadata": {
      "needs_background": "light"
     },
     "output_type": "display_data"
    }
   ],
   "source": [
    "plt.scatter(np.arange(42),testgen.pred.bp.mean(0))\n",
    "plt.axhline(0)"
   ]
  },
  {
   "cell_type": "code",
   "execution_count": 8,
   "metadata": {},
   "outputs": [
    {
     "data": {
      "text/plain": [
       "<matplotlib.collections.PathCollection at 0x7f5ce3f5e510>"
      ]
     },
     "execution_count": 8,
     "metadata": {},
     "output_type": "execute_result"
    },
    {
     "data": {
      "image/png": "[encoded data removed]",
      "text/plain": [
       "<Figure size 432x288 with 1 Axes>"
      ]
     },
     "metadata": {
      "needs_background": "light"
     },
     "output_type": "display_data"
    }
   ],
   "source": [
    "plt.scatter(testgen.pred.bin.mean(0), binfeats.mean(0))"
   ]
  },
  {
   "cell_type": "code",
   "execution_count": 9,
   "metadata": {},
   "outputs": [
    {
     "data": {
      "text/plain": [
       "<matplotlib.collections.PathCollection at 0x7f5ce3edb5d0>"
      ]
     },
     "execution_count": 9,
     "metadata": {},
     "output_type": "execute_result"
    },
    {
     "data": {
      "image/png": "[encoded data removed]",
      "text/plain": [
       "<Figure size 432x288 with 1 Axes>"
      ]
     },
     "metadata": {
      "needs_background": "light"
     },
     "output_type": "display_data"
    }
   ],
   "source": [
    "plt.scatter(testgen.pred.bin.mean(0), binfeats.mean(0))"
   ]
  },
  {
   "cell_type": "markdown",
   "metadata": {},
   "source": [
    "## Examining the random profile"
   ]
  },
  {
   "cell_type": "code",
   "execution_count": 10,
   "metadata": {
    "scrolled": true
   },
   "outputs": [],
   "source": [
    "testprof = profile(testgen.pred, data = data.training)"
   ]
  },
  {
   "cell_type": "code",
   "execution_count": 11,
   "metadata": {
    "scrolled": false
   },
   "outputs": [
    {
     "data": {
      "text/html": [
       "<div>\n",
       "<style scoped>\n",
       "    .dataframe tbody tr th:only-of-type {\n",
       "        vertical-align: middle;\n",
       "    }\n",
       "\n",
       "    .dataframe tbody tr th {\n",
       "        vertical-align: top;\n",
       "    }\n",
       "\n",
       "    .dataframe thead th {\n",
       "        text-align: right;\n",
       "    }\n",
       "</style>\n",
       "<table border=\"1\" class=\"dataframe\">\n",
       "  <thead>\n",
       "    <tr style=\"text-align: right;\">\n",
       "      <th></th>\n",
       "      <th>Rel Values</th>\n",
       "    </tr>\n",
       "  </thead>\n",
       "  <tbody>\n",
       "    <tr>\n",
       "      <th>technical</th>\n",
       "      <td>0.457636</td>\n",
       "    </tr>\n",
       "    <tr>\n",
       "      <th>intelligent</th>\n",
       "      <td>0.196261</td>\n",
       "    </tr>\n",
       "    <tr>\n",
       "      <th>corporate</th>\n",
       "      <td>0.002238</td>\n",
       "    </tr>\n",
       "    <tr>\n",
       "      <th>sincere</th>\n",
       "      <td>-0.160873</td>\n",
       "    </tr>\n",
       "    <tr>\n",
       "      <th>up-to-date</th>\n",
       "      <td>-0.188494</td>\n",
       "    </tr>\n",
       "  </tbody>\n",
       "</table>\n",
       "</div>"
      ],
      "text/plain": [
       "             Rel Values\n",
       "technical      0.457636\n",
       "intelligent    0.196261\n",
       "corporate      0.002238\n",
       "sincere       -0.160873\n",
       "up-to-date    -0.188494"
      ]
     },
     "execution_count": 11,
     "metadata": {},
     "output_type": "execute_result"
    }
   ],
   "source": [
    "testprof['bp'][0:5]"
   ]
  },
  {
   "cell_type": "code",
   "execution_count": 12,
   "metadata": {},
   "outputs": [
    {
     "data": {
      "text/html": [
       "<div>\n",
       "<style scoped>\n",
       "    .dataframe tbody tr th:only-of-type {\n",
       "        vertical-align: middle;\n",
       "    }\n",
       "\n",
       "    .dataframe tbody tr th {\n",
       "        vertical-align: top;\n",
       "    }\n",
       "\n",
       "    .dataframe thead th {\n",
       "        text-align: right;\n",
       "    }\n",
       "</style>\n",
       "<table border=\"1\" class=\"dataframe\">\n",
       "  <thead>\n",
       "    <tr style=\"text-align: right;\">\n",
       "      <th></th>\n",
       "      <th>Rel Values</th>\n",
       "    </tr>\n",
       "  </thead>\n",
       "  <tbody>\n",
       "    <tr>\n",
       "      <th>successful</th>\n",
       "      <td>-1.210847</td>\n",
       "    </tr>\n",
       "    <tr>\n",
       "      <th>leader</th>\n",
       "      <td>-1.077512</td>\n",
       "    </tr>\n",
       "    <tr>\n",
       "      <th>original</th>\n",
       "      <td>-1.042740</td>\n",
       "    </tr>\n",
       "    <tr>\n",
       "      <th>charming</th>\n",
       "      <td>-0.998514</td>\n",
       "    </tr>\n",
       "    <tr>\n",
       "      <th>confident</th>\n",
       "      <td>-0.968959</td>\n",
       "    </tr>\n",
       "  </tbody>\n",
       "</table>\n",
       "</div>"
      ],
      "text/plain": [
       "            Rel Values\n",
       "successful   -1.210847\n",
       "leader       -1.077512\n",
       "original     -1.042740\n",
       "charming     -0.998514\n",
       "confident    -0.968959"
      ]
     },
     "execution_count": 12,
     "metadata": {},
     "output_type": "execute_result"
    }
   ],
   "source": [
    "testprof['bp'][:-6:-1]"
   ]
  },
  {
   "cell_type": "code",
   "execution_count": 13,
   "metadata": {
    "scrolled": true
   },
   "outputs": [
    {
     "data": {
      "text/html": [
       "<div>\n",
       "<style scoped>\n",
       "    .dataframe tbody tr th:only-of-type {\n",
       "        vertical-align: middle;\n",
       "    }\n",
       "\n",
       "    .dataframe tbody tr th {\n",
       "        vertical-align: top;\n",
       "    }\n",
       "\n",
       "    .dataframe thead th {\n",
       "        text-align: right;\n",
       "    }\n",
       "</style>\n",
       "<table border=\"1\" class=\"dataframe\">\n",
       "  <thead>\n",
       "    <tr style=\"text-align: right;\">\n",
       "      <th></th>\n",
       "      <th>Rel</th>\n",
       "      <th>Prob</th>\n",
       "    </tr>\n",
       "  </thead>\n",
       "  <tbody>\n",
       "    <tr>\n",
       "      <th>B2C</th>\n",
       "      <td>0.074951</td>\n",
       "      <td>0.767586</td>\n",
       "    </tr>\n",
       "    <tr>\n",
       "      <th>B2B</th>\n",
       "      <td>-0.106280</td>\n",
       "      <td>0.397970</td>\n",
       "    </tr>\n",
       "    <tr>\n",
       "      <th>Commerce and Shopping</th>\n",
       "      <td>0.086311</td>\n",
       "      <td>0.193959</td>\n",
       "    </tr>\n",
       "    <tr>\n",
       "      <th>Health Care</th>\n",
       "      <td>0.065272</td>\n",
       "      <td>0.144592</td>\n",
       "    </tr>\n",
       "    <tr>\n",
       "      <th>Administrative Services</th>\n",
       "      <td>0.037881</td>\n",
       "      <td>0.111535</td>\n",
       "    </tr>\n",
       "  </tbody>\n",
       "</table>\n",
       "</div>"
      ],
      "text/plain": [
       "                              Rel      Prob\n",
       "B2C                      0.074951  0.767586\n",
       "B2B                     -0.106280  0.397970\n",
       "Commerce and Shopping    0.086311  0.193959\n",
       "Health Care              0.065272  0.144592\n",
       "Administrative Services  0.037881  0.111535"
      ]
     },
     "execution_count": 13,
     "metadata": {},
     "output_type": "execute_result"
    }
   ],
   "source": [
    "testprof['indus'][:5]"
   ]
  },
  {
   "cell_type": "markdown",
   "metadata": {},
   "source": [
    "### Text by relevance:"
   ]
  },
  {
   "cell_type": "code",
   "execution_count": 14,
   "metadata": {
    "scrolled": true
   },
   "outputs": [
    {
     "data": {
      "text/html": [
       "<div>\n",
       "<style scoped>\n",
       "    .dataframe tbody tr th:only-of-type {\n",
       "        vertical-align: middle;\n",
       "    }\n",
       "\n",
       "    .dataframe tbody tr th {\n",
       "        vertical-align: top;\n",
       "    }\n",
       "\n",
       "    .dataframe thead th {\n",
       "        text-align: right;\n",
       "    }\n",
       "</style>\n",
       "<table border=\"1\" class=\"dataframe\">\n",
       "  <thead>\n",
       "    <tr style=\"text-align: right;\">\n",
       "      <th></th>\n",
       "      <th>Rel</th>\n",
       "      <th>Prob</th>\n",
       "    </tr>\n",
       "  </thead>\n",
       "  <tbody>\n",
       "    <tr>\n",
       "      <th>net</th>\n",
       "      <td>0.526773</td>\n",
       "      <td>0.452108</td>\n",
       "    </tr>\n",
       "    <tr>\n",
       "      <th>healthcar</th>\n",
       "      <td>0.499489</td>\n",
       "      <td>0.589333</td>\n",
       "    </tr>\n",
       "    <tr>\n",
       "      <th>care</th>\n",
       "      <td>0.349875</td>\n",
       "      <td>0.725532</td>\n",
       "    </tr>\n",
       "    <tr>\n",
       "      <th>approxim</th>\n",
       "      <td>0.333742</td>\n",
       "      <td>0.689501</td>\n",
       "    </tr>\n",
       "    <tr>\n",
       "      <th>specialti</th>\n",
       "      <td>0.312311</td>\n",
       "      <td>0.499417</td>\n",
       "    </tr>\n",
       "    <tr>\n",
       "      <th>network</th>\n",
       "      <td>0.213806</td>\n",
       "      <td>0.613588</td>\n",
       "    </tr>\n",
       "    <tr>\n",
       "      <th>program</th>\n",
       "      <td>0.202289</td>\n",
       "      <td>0.569042</td>\n",
       "    </tr>\n",
       "    <tr>\n",
       "      <th>children</th>\n",
       "      <td>0.195296</td>\n",
       "      <td>0.329488</td>\n",
       "    </tr>\n",
       "    <tr>\n",
       "      <th>stock</th>\n",
       "      <td>0.194846</td>\n",
       "      <td>0.482101</td>\n",
       "    </tr>\n",
       "    <tr>\n",
       "      <th>provid</th>\n",
       "      <td>0.151881</td>\n",
       "      <td>0.917105</td>\n",
       "    </tr>\n",
       "    <tr>\n",
       "      <th>servic</th>\n",
       "      <td>0.140133</td>\n",
       "      <td>0.888419</td>\n",
       "    </tr>\n",
       "    <tr>\n",
       "      <th>util</th>\n",
       "      <td>0.135785</td>\n",
       "      <td>0.390792</td>\n",
       "    </tr>\n",
       "    <tr>\n",
       "      <th>state</th>\n",
       "      <td>0.117720</td>\n",
       "      <td>0.639462</td>\n",
       "    </tr>\n",
       "    <tr>\n",
       "      <th>multi</th>\n",
       "      <td>0.099657</td>\n",
       "      <td>0.275885</td>\n",
       "    </tr>\n",
       "    <tr>\n",
       "      <th>patient</th>\n",
       "      <td>0.095916</td>\n",
       "      <td>0.359353</td>\n",
       "    </tr>\n",
       "    <tr>\n",
       "      <th>solut</th>\n",
       "      <td>0.093542</td>\n",
       "      <td>0.719067</td>\n",
       "    </tr>\n",
       "    <tr>\n",
       "      <th>integr</th>\n",
       "      <td>0.090234</td>\n",
       "      <td>0.648754</td>\n",
       "    </tr>\n",
       "    <tr>\n",
       "      <th>includ</th>\n",
       "      <td>0.086793</td>\n",
       "      <td>0.744731</td>\n",
       "    </tr>\n",
       "    <tr>\n",
       "      <th>inc</th>\n",
       "      <td>0.086245</td>\n",
       "      <td>0.516303</td>\n",
       "    </tr>\n",
       "    <tr>\n",
       "      <th>oper</th>\n",
       "      <td>0.076428</td>\n",
       "      <td>0.778632</td>\n",
       "    </tr>\n",
       "    <tr>\n",
       "      <th>addit</th>\n",
       "      <td>0.035858</td>\n",
       "      <td>0.446530</td>\n",
       "    </tr>\n",
       "    <tr>\n",
       "      <th>qualiti</th>\n",
       "      <td>0.019815</td>\n",
       "      <td>0.644440</td>\n",
       "    </tr>\n",
       "    <tr>\n",
       "      <th>manag</th>\n",
       "      <td>0.015561</td>\n",
       "      <td>0.598273</td>\n",
       "    </tr>\n",
       "    <tr>\n",
       "      <th>combin</th>\n",
       "      <td>-0.004587</td>\n",
       "      <td>0.426829</td>\n",
       "    </tr>\n",
       "    <tr>\n",
       "      <th>custom</th>\n",
       "      <td>-0.006372</td>\n",
       "      <td>0.805715</td>\n",
       "    </tr>\n",
       "    <tr>\n",
       "      <th>deliv</th>\n",
       "      <td>-0.012900</td>\n",
       "      <td>0.648567</td>\n",
       "    </tr>\n",
       "    <tr>\n",
       "      <th>nyse</th>\n",
       "      <td>-0.017441</td>\n",
       "      <td>0.346182</td>\n",
       "    </tr>\n",
       "    <tr>\n",
       "      <th>distribut</th>\n",
       "      <td>-0.018924</td>\n",
       "      <td>0.454354</td>\n",
       "    </tr>\n",
       "    <tr>\n",
       "      <th>compani</th>\n",
       "      <td>-0.061610</td>\n",
       "      <td>0.609650</td>\n",
       "    </tr>\n",
       "    <tr>\n",
       "      <th>cost</th>\n",
       "      <td>-0.068776</td>\n",
       "      <td>0.423740</td>\n",
       "    </tr>\n",
       "    <tr>\n",
       "      <th>strateg</th>\n",
       "      <td>-0.079348</td>\n",
       "      <td>0.368571</td>\n",
       "    </tr>\n",
       "    <tr>\n",
       "      <th>deliveri</th>\n",
       "      <td>-0.079922</td>\n",
       "      <td>0.295721</td>\n",
       "    </tr>\n",
       "    <tr>\n",
       "      <th>attract</th>\n",
       "      <td>-0.087226</td>\n",
       "      <td>0.272388</td>\n",
       "    </tr>\n",
       "    <tr>\n",
       "      <th>comprehens</th>\n",
       "      <td>-0.097888</td>\n",
       "      <td>0.319424</td>\n",
       "    </tr>\n",
       "    <tr>\n",
       "      <th>fortun</th>\n",
       "      <td>-0.114677</td>\n",
       "      <td>0.363663</td>\n",
       "    </tr>\n",
       "    <tr>\n",
       "      <th>enhanc</th>\n",
       "      <td>-0.116570</td>\n",
       "      <td>0.368714</td>\n",
       "    </tr>\n",
       "    <tr>\n",
       "      <th>inform</th>\n",
       "      <td>-0.120952</td>\n",
       "      <td>0.416584</td>\n",
       "    </tr>\n",
       "    <tr>\n",
       "      <th>partner</th>\n",
       "      <td>-0.127943</td>\n",
       "      <td>0.493124</td>\n",
       "    </tr>\n",
       "    <tr>\n",
       "      <th>offer</th>\n",
       "      <td>-0.129726</td>\n",
       "      <td>0.545902</td>\n",
       "    </tr>\n",
       "    <tr>\n",
       "      <th>serv</th>\n",
       "      <td>-0.131313</td>\n",
       "      <td>0.564777</td>\n",
       "    </tr>\n",
       "    <tr>\n",
       "      <th>broad</th>\n",
       "      <td>-0.137445</td>\n",
       "      <td>0.333625</td>\n",
       "    </tr>\n",
       "    <tr>\n",
       "      <th>facil</th>\n",
       "      <td>-0.142131</td>\n",
       "      <td>0.355694</td>\n",
       "    </tr>\n",
       "    <tr>\n",
       "      <th>organ</th>\n",
       "      <td>-0.156275</td>\n",
       "      <td>0.449052</td>\n",
       "    </tr>\n",
       "    <tr>\n",
       "      <th>valu</th>\n",
       "      <td>-0.157745</td>\n",
       "      <td>0.613697</td>\n",
       "    </tr>\n",
       "    <tr>\n",
       "      <th>high</th>\n",
       "      <td>-0.173283</td>\n",
       "      <td>0.486779</td>\n",
       "    </tr>\n",
       "    <tr>\n",
       "      <th>rang</th>\n",
       "      <td>-0.182424</td>\n",
       "      <td>0.416885</td>\n",
       "    </tr>\n",
       "    <tr>\n",
       "      <th>nation</th>\n",
       "      <td>-0.185695</td>\n",
       "      <td>0.390468</td>\n",
       "    </tr>\n",
       "    <tr>\n",
       "      <th>well</th>\n",
       "      <td>-0.188465</td>\n",
       "      <td>0.499080</td>\n",
       "    </tr>\n",
       "    <tr>\n",
       "      <th>also</th>\n",
       "      <td>-0.201704</td>\n",
       "      <td>0.507989</td>\n",
       "    </tr>\n",
       "    <tr>\n",
       "      <th>sale</th>\n",
       "      <td>-0.203414</td>\n",
       "      <td>0.373367</td>\n",
       "    </tr>\n",
       "  </tbody>\n",
       "</table>\n",
       "</div>"
      ],
      "text/plain": [
       "                 Rel      Prob\n",
       "net         0.526773  0.452108\n",
       "healthcar   0.499489  0.589333\n",
       "care        0.349875  0.725532\n",
       "approxim    0.333742  0.689501\n",
       "specialti   0.312311  0.499417\n",
       "network     0.213806  0.613588\n",
       "program     0.202289  0.569042\n",
       "children    0.195296  0.329488\n",
       "stock       0.194846  0.482101\n",
       "provid      0.151881  0.917105\n",
       "servic      0.140133  0.888419\n",
       "util        0.135785  0.390792\n",
       "state       0.117720  0.639462\n",
       "multi       0.099657  0.275885\n",
       "patient     0.095916  0.359353\n",
       "solut       0.093542  0.719067\n",
       "integr      0.090234  0.648754\n",
       "includ      0.086793  0.744731\n",
       "inc         0.086245  0.516303\n",
       "oper        0.076428  0.778632\n",
       "addit       0.035858  0.446530\n",
       "qualiti     0.019815  0.644440\n",
       "manag       0.015561  0.598273\n",
       "combin     -0.004587  0.426829\n",
       "custom     -0.006372  0.805715\n",
       "deliv      -0.012900  0.648567\n",
       "nyse       -0.017441  0.346182\n",
       "distribut  -0.018924  0.454354\n",
       "compani    -0.061610  0.609650\n",
       "cost       -0.068776  0.423740\n",
       "strateg    -0.079348  0.368571\n",
       "deliveri   -0.079922  0.295721\n",
       "attract    -0.087226  0.272388\n",
       "comprehens -0.097888  0.319424\n",
       "fortun     -0.114677  0.363663\n",
       "enhanc     -0.116570  0.368714\n",
       "inform     -0.120952  0.416584\n",
       "partner    -0.127943  0.493124\n",
       "offer      -0.129726  0.545902\n",
       "serv       -0.131313  0.564777\n",
       "broad      -0.137445  0.333625\n",
       "facil      -0.142131  0.355694\n",
       "organ      -0.156275  0.449052\n",
       "valu       -0.157745  0.613697\n",
       "high       -0.173283  0.486779\n",
       "rang       -0.182424  0.416885\n",
       "nation     -0.185695  0.390468\n",
       "well       -0.188465  0.499080\n",
       "also       -0.201704  0.507989\n",
       "sale       -0.203414  0.373367"
      ]
     },
     "execution_count": 14,
     "metadata": {},
     "output_type": "execute_result"
    }
   ],
   "source": [
    "testprof['text'][:50]"
   ]
  },
  {
   "cell_type": "code",
   "execution_count": 15,
   "metadata": {},
   "outputs": [],
   "source": [
    "rel_dict = dict()\n",
    "for i in range(50):\n",
    "    rel_dict[testprof['text'].index[i]] = int(5 - np.floor(i / 10))"
   ]
  },
  {
   "cell_type": "code",
   "execution_count": 16,
   "metadata": {},
   "outputs": [],
   "source": [
    "def random_color_func(word=None, font_size=None, position=None, orientation=None, font_path=None, random_state=None):\n",
    "    h = int(360.0 * 0.0 / 255.0)\n",
    "    s = int(100.0 * 0.0 / 255.0)\n",
    "    l = int(100.0 * float(random_state.randint(0, 0)) / 255.0)\n",
    "\n",
    "    return \"hsl({}, {}%, {}%)\".format(h, s, l)"
   ]
  },
  {
   "cell_type": "code",
   "execution_count": 17,
   "metadata": {},
   "outputs": [
    {
     "data": {
      "image/png": "[encoded data removed]",
      "text/plain": [
       "<Figure size 432x288 with 1 Axes>"
      ]
     },
     "metadata": {
      "needs_background": "light"
     },
     "output_type": "display_data"
    }
   ],
   "source": [
    "rel_wc = wc.WordCloud(background_color = \"white\", max_words = 50, min_font_size = 10, \n",
    "                       prefer_horizontal = 1., height=800, width=1200, \n",
    "                       color_func=random_color_func).generate_from_frequencies(rel_dict)\n",
    "\n",
    "plt.imshow(rel_wc, interpolation='bilinear')\n",
    "plt.axis(\"off\")\n",
    "plt.show()"
   ]
  },
  {
   "cell_type": "markdown",
   "metadata": {},
   "source": [
    "### Text by absolute probability:"
   ]
  },
  {
   "cell_type": "code",
   "execution_count": 18,
   "metadata": {},
   "outputs": [
    {
     "data": {
      "image/png": "[encoded data removed]",
      "text/plain": [
       "<Figure size 432x288 with 1 Axes>"
      ]
     },
     "metadata": {
      "needs_background": "light"
     },
     "output_type": "display_data"
    }
   ],
   "source": [
    "word_dict = dict()\n",
    "for i in range(testprof['text'].shape[0]):\n",
    "    if testprof['text'].iloc[i,1] < 0.05:\n",
    "        next\n",
    "    else:\n",
    "        word_dict[testprof['text'].index[i]] = int(10*round(testprof['text'].iloc[i,1],1))\n",
    "\n",
    "prof_wc = wc.WordCloud(background_color = \"white\", max_words = 50, min_font_size = 10, \n",
    "                       prefer_horizontal = 1., height=800, width=1200, \n",
    "                       color_func=random_color_func).generate_from_frequencies(word_dict)\n",
    "\n",
    "plt.imshow(prof_wc, interpolation='bilinear')\n",
    "plt.axis(\"off\")\n",
    "plt.show()"
   ]
  },
  {
   "cell_type": "markdown",
   "metadata": {},
   "source": [
    "## Visual features"
   ]
  },
  {
   "cell_type": "code",
   "execution_count": 19,
   "metadata": {},
   "outputs": [],
   "source": [
    "raw = raw_profile(testgen.pred, 2)"
   ]
  },
  {
   "cell_type": "code",
   "execution_count": 20,
   "metadata": {
    "scrolled": true
   },
   "outputs": [
    {
     "data": {
      "text/html": [
       "<div>\n",
       "<style scoped>\n",
       "    .dataframe tbody tr th:only-of-type {\n",
       "        vertical-align: middle;\n",
       "    }\n",
       "\n",
       "    .dataframe tbody tr th {\n",
       "        vertical-align: top;\n",
       "    }\n",
       "\n",
       "    .dataframe thead th {\n",
       "        text-align: right;\n",
       "    }\n",
       "</style>\n",
       "<table border=\"1\" class=\"dataframe\">\n",
       "  <thead>\n",
       "    <tr style=\"text-align: right;\">\n",
       "      <th></th>\n",
       "      <th>Rel</th>\n",
       "      <th>Prob</th>\n",
       "    </tr>\n",
       "  </thead>\n",
       "  <tbody>\n",
       "    <tr>\n",
       "      <th>Has the color: Light Grey</th>\n",
       "      <td>0.511655</td>\n",
       "      <td>0.911901</td>\n",
       "    </tr>\n",
       "    <tr>\n",
       "      <th>Accent color: Light Grey</th>\n",
       "      <td>0.508930</td>\n",
       "      <td>0.892013</td>\n",
       "    </tr>\n",
       "    <tr>\n",
       "      <th>Color saturation: Low variation</th>\n",
       "      <td>0.438955</td>\n",
       "      <td>0.736092</td>\n",
       "    </tr>\n",
       "    <tr>\n",
       "      <th>Color saturation: Low</th>\n",
       "      <td>0.435904</td>\n",
       "      <td>0.736153</td>\n",
       "    </tr>\n",
       "    <tr>\n",
       "      <th>Has the color: Black</th>\n",
       "      <td>0.420227</td>\n",
       "      <td>0.937923</td>\n",
       "    </tr>\n",
       "    <tr>\n",
       "      <th>Accent color: Dark Grey</th>\n",
       "      <td>0.314949</td>\n",
       "      <td>0.553003</td>\n",
       "    </tr>\n",
       "    <tr>\n",
       "      <th>Accent color: Dark Red</th>\n",
       "      <td>0.147538</td>\n",
       "      <td>0.222413</td>\n",
       "    </tr>\n",
       "    <tr>\n",
       "      <th>Has the color: Dark Grey</th>\n",
       "      <td>0.097276</td>\n",
       "      <td>0.504632</td>\n",
       "    </tr>\n",
       "    <tr>\n",
       "      <th>Design: Many characters</th>\n",
       "      <td>0.087206</td>\n",
       "      <td>0.512900</td>\n",
       "    </tr>\n",
       "    <tr>\n",
       "      <th>Design: Many corners</th>\n",
       "      <td>0.081520</td>\n",
       "      <td>0.541699</td>\n",
       "    </tr>\n",
       "    <tr>\n",
       "      <th>Design: Many distinct regions</th>\n",
       "      <td>0.077496</td>\n",
       "      <td>0.517620</td>\n",
       "    </tr>\n",
       "    <tr>\n",
       "      <th>Mark: Has a mark</th>\n",
       "      <td>0.050748</td>\n",
       "      <td>0.988283</td>\n",
       "    </tr>\n",
       "    <tr>\n",
       "      <th>Symmetry: Low vertical symmetry</th>\n",
       "      <td>0.029283</td>\n",
       "      <td>0.512666</td>\n",
       "    </tr>\n",
       "    <tr>\n",
       "      <th>Accent color: Red</th>\n",
       "      <td>-0.026966</td>\n",
       "      <td>0.337750</td>\n",
       "    </tr>\n",
       "    <tr>\n",
       "      <th>Design: High GPC (i.e., very complex)</th>\n",
       "      <td>-0.045975</td>\n",
       "      <td>0.478209</td>\n",
       "    </tr>\n",
       "    <tr>\n",
       "      <th>Font slant: None (non-italics)</th>\n",
       "      <td>-0.085704</td>\n",
       "      <td>0.839790</td>\n",
       "    </tr>\n",
       "    <tr>\n",
       "      <th>Accent color: Black</th>\n",
       "      <td>-0.153296</td>\n",
       "      <td>0.341689</td>\n",
       "    </tr>\n",
       "    <tr>\n",
       "      <th>Font weight: Bold</th>\n",
       "      <td>-0.161471</td>\n",
       "      <td>0.711042</td>\n",
       "    </tr>\n",
       "    <tr>\n",
       "      <th>Has the color: Dark Red</th>\n",
       "      <td>-0.209466</td>\n",
       "      <td>0.195443</td>\n",
       "    </tr>\n",
       "    <tr>\n",
       "      <th>Edges: Many upward diagonal edges</th>\n",
       "      <td>-0.251253</td>\n",
       "      <td>0.385038</td>\n",
       "    </tr>\n",
       "  </tbody>\n",
       "</table>\n",
       "</div>"
      ],
      "text/plain": [
       "                                            Rel      Prob\n",
       "Has the color: Light Grey              0.511655  0.911901\n",
       "Accent color: Light Grey               0.508930  0.892013\n",
       "Color saturation: Low variation        0.438955  0.736092\n",
       "Color saturation: Low                  0.435904  0.736153\n",
       "Has the color: Black                   0.420227  0.937923\n",
       "Accent color: Dark Grey                0.314949  0.553003\n",
       "Accent color: Dark Red                 0.147538  0.222413\n",
       "Has the color: Dark Grey               0.097276  0.504632\n",
       "Design: Many characters                0.087206  0.512900\n",
       "Design: Many corners                   0.081520  0.541699\n",
       "Design: Many distinct regions          0.077496  0.517620\n",
       "Mark: Has a mark                       0.050748  0.988283\n",
       "Symmetry: Low vertical symmetry        0.029283  0.512666\n",
       "Accent color: Red                     -0.026966  0.337750\n",
       "Design: High GPC (i.e., very complex) -0.045975  0.478209\n",
       "Font slant: None (non-italics)        -0.085704  0.839790\n",
       "Accent color: Black                   -0.153296  0.341689\n",
       "Font weight: Bold                     -0.161471  0.711042\n",
       "Has the color: Dark Red               -0.209466  0.195443\n",
       "Edges: Many upward diagonal edges     -0.251253  0.385038"
      ]
     },
     "execution_count": 20,
     "metadata": {},
     "output_type": "execute_result"
    }
   ],
   "source": [
    "prob = pd.DataFrame(raw[\"bin\"])\n",
    "prob.index = bin_labels_clean\n",
    "prob.columns = [\"Prob\"]\n",
    "\n",
    "rel = pd.DataFrame(relevance(raw[\"bin\"], tx_b.mean(0), 0.5))\n",
    "rel.index = bin_labels_clean\n",
    "rel.columns = [\"Rel\"]\n",
    "\n",
    "bin_profile = pd.concat([rel, prob], axis=1)\n",
    "bin_profile = bin_profile.sort_values(by=\"Rel\", ascending=False)\n",
    "\n",
    "bin_profile[:20]"
   ]
  },
  {
   "cell_type": "code",
   "execution_count": 21,
   "metadata": {
    "scrolled": true
   },
   "outputs": [
    {
     "data": {
      "text/html": [
       "<div>\n",
       "<style scoped>\n",
       "    .dataframe tbody tr th:only-of-type {\n",
       "        vertical-align: middle;\n",
       "    }\n",
       "\n",
       "    .dataframe tbody tr th {\n",
       "        vertical-align: top;\n",
       "    }\n",
       "\n",
       "    .dataframe thead th {\n",
       "        text-align: right;\n",
       "    }\n",
       "</style>\n",
       "<table border=\"1\" class=\"dataframe\">\n",
       "  <thead>\n",
       "    <tr style=\"text-align: right;\">\n",
       "      <th></th>\n",
       "      <th>Rel</th>\n",
       "      <th>Prob</th>\n",
       "    </tr>\n",
       "  </thead>\n",
       "  <tbody>\n",
       "    <tr>\n",
       "      <th>Black</th>\n",
       "      <td>-0.646445</td>\n",
       "      <td>0.896730</td>\n",
       "    </tr>\n",
       "    <tr>\n",
       "      <th>Brown</th>\n",
       "      <td>-3.882180</td>\n",
       "      <td>0.035270</td>\n",
       "    </tr>\n",
       "    <tr>\n",
       "      <th>Light Grey</th>\n",
       "      <td>-4.286026</td>\n",
       "      <td>0.023551</td>\n",
       "    </tr>\n",
       "    <tr>\n",
       "      <th>Blue</th>\n",
       "      <td>-4.872834</td>\n",
       "      <td>0.013097</td>\n",
       "    </tr>\n",
       "    <tr>\n",
       "      <th>Dark Blue</th>\n",
       "      <td>-5.192377</td>\n",
       "      <td>0.009515</td>\n",
       "    </tr>\n",
       "    <tr>\n",
       "      <th>Red</th>\n",
       "      <td>-5.477745</td>\n",
       "      <td>0.007152</td>\n",
       "    </tr>\n",
       "    <tr>\n",
       "      <th>Dark Grey</th>\n",
       "      <td>-5.728608</td>\n",
       "      <td>0.005566</td>\n",
       "    </tr>\n",
       "    <tr>\n",
       "      <th>Dark Red</th>\n",
       "      <td>-5.828839</td>\n",
       "      <td>0.005035</td>\n",
       "    </tr>\n",
       "    <tr>\n",
       "      <th>Dark Green</th>\n",
       "      <td>-7.038420</td>\n",
       "      <td>0.001502</td>\n",
       "    </tr>\n",
       "    <tr>\n",
       "      <th>Light Blue</th>\n",
       "      <td>-7.203107</td>\n",
       "      <td>0.001274</td>\n",
       "    </tr>\n",
       "    <tr>\n",
       "      <th>Orange</th>\n",
       "      <td>-7.407814</td>\n",
       "      <td>0.001038</td>\n",
       "    </tr>\n",
       "    <tr>\n",
       "      <th>Yellow</th>\n",
       "      <td>-9.197947</td>\n",
       "      <td>0.000173</td>\n",
       "    </tr>\n",
       "    <tr>\n",
       "      <th>Light Green</th>\n",
       "      <td>-9.765430</td>\n",
       "      <td>0.000098</td>\n",
       "    </tr>\n",
       "  </tbody>\n",
       "</table>\n",
       "</div>"
      ],
      "text/plain": [
       "                  Rel      Prob\n",
       "Black       -0.646445  0.896730\n",
       "Brown       -3.882180  0.035270\n",
       "Light Grey  -4.286026  0.023551\n",
       "Blue        -4.872834  0.013097\n",
       "Dark Blue   -5.192377  0.009515\n",
       "Red         -5.477745  0.007152\n",
       "Dark Grey   -5.728608  0.005566\n",
       "Dark Red    -5.828839  0.005035\n",
       "Dark Green  -7.038420  0.001502\n",
       "Light Blue  -7.203107  0.001274\n",
       "Orange      -7.407814  0.001038\n",
       "Yellow      -9.197947  0.000173\n",
       "Light Green -9.765430  0.000098"
      ]
     },
     "execution_count": 21,
     "metadata": {},
     "output_type": "execute_result"
    }
   ],
   "source": [
    "prob = pd.DataFrame(raw[\"cat1\"])\n",
    "prob.index = c1_labels_clean\n",
    "prob.columns = [\"Prob\"]\n",
    "\n",
    "rel = pd.DataFrame(relevance(raw[\"cat1\"], tx_c1.mean(0), 0.6))\n",
    "rel.index = c1_labels_clean\n",
    "rel.columns = [\"Rel\"]\n",
    "\n",
    "cat1_profile = pd.concat([rel, prob], axis=1)\n",
    "cat1_profile = cat1_profile.sort_values(by=\"Rel\", ascending=False)\n",
    "\n",
    "cat1_profile[:20]"
   ]
  },
  {
   "cell_type": "code",
   "execution_count": 22,
   "metadata": {},
   "outputs": [],
   "source": [
    "testprof = profile(testgen.pred, data.training, 1)"
   ]
  },
  {
   "cell_type": "code",
   "execution_count": 23,
   "metadata": {
    "scrolled": false
   },
   "outputs": [
    {
     "data": {
      "text/html": [
       "<div>\n",
       "<style scoped>\n",
       "    .dataframe tbody tr th:only-of-type {\n",
       "        vertical-align: middle;\n",
       "    }\n",
       "\n",
       "    .dataframe tbody tr th {\n",
       "        vertical-align: top;\n",
       "    }\n",
       "\n",
       "    .dataframe thead th {\n",
       "        text-align: right;\n",
       "    }\n",
       "</style>\n",
       "<table border=\"1\" class=\"dataframe\">\n",
       "  <thead>\n",
       "    <tr style=\"text-align: right;\">\n",
       "      <th></th>\n",
       "      <th>Rel</th>\n",
       "      <th>Prob</th>\n",
       "    </tr>\n",
       "  </thead>\n",
       "  <tbody>\n",
       "    <tr>\n",
       "      <th>Orange</th>\n",
       "      <td>-0.146634</td>\n",
       "      <td>0.174732</td>\n",
       "    </tr>\n",
       "    <tr>\n",
       "      <th>Dark Grey</th>\n",
       "      <td>-0.303317</td>\n",
       "      <td>0.219453</td>\n",
       "    </tr>\n",
       "    <tr>\n",
       "      <th>Red</th>\n",
       "      <td>-0.888414</td>\n",
       "      <td>0.191920</td>\n",
       "    </tr>\n",
       "    <tr>\n",
       "      <th>Light Blue</th>\n",
       "      <td>-1.095480</td>\n",
       "      <td>0.120465</td>\n",
       "    </tr>\n",
       "    <tr>\n",
       "      <th>Black</th>\n",
       "      <td>-1.383053</td>\n",
       "      <td>0.148364</td>\n",
       "    </tr>\n",
       "  </tbody>\n",
       "</table>\n",
       "</div>"
      ],
      "text/plain": [
       "                 Rel      Prob\n",
       "Orange     -0.146634  0.174732\n",
       "Dark Grey  -0.303317  0.219453\n",
       "Red        -0.888414  0.191920\n",
       "Light Blue -1.095480  0.120465\n",
       "Black      -1.383053  0.148364"
      ]
     },
     "execution_count": 23,
     "metadata": {},
     "output_type": "execute_result"
    }
   ],
   "source": [
    "testprof['cat1'][:5]"
   ]
  },
  {
   "cell_type": "code",
   "execution_count": 24,
   "metadata": {},
   "outputs": [
    {
     "data": {
      "text/html": [
       "<div>\n",
       "<style scoped>\n",
       "    .dataframe tbody tr th:only-of-type {\n",
       "        vertical-align: middle;\n",
       "    }\n",
       "\n",
       "    .dataframe tbody tr th {\n",
       "        vertical-align: top;\n",
       "    }\n",
       "\n",
       "    .dataframe thead th {\n",
       "        text-align: right;\n",
       "    }\n",
       "</style>\n",
       "<table border=\"1\" class=\"dataframe\">\n",
       "  <thead>\n",
       "    <tr style=\"text-align: right;\">\n",
       "      <th></th>\n",
       "      <th>Rel</th>\n",
       "      <th>Prob</th>\n",
       "    </tr>\n",
       "  </thead>\n",
       "  <tbody>\n",
       "    <tr>\n",
       "      <th>Rectangle/Oval</th>\n",
       "      <td>-0.200999</td>\n",
       "      <td>0.492864</td>\n",
       "    </tr>\n",
       "    <tr>\n",
       "      <th>Narrow Rectangle/Oval</th>\n",
       "      <td>-1.019005</td>\n",
       "      <td>0.260036</td>\n",
       "    </tr>\n",
       "    <tr>\n",
       "      <th>Wide Rectangle/Oval</th>\n",
       "      <td>-1.254407</td>\n",
       "      <td>0.109865</td>\n",
       "    </tr>\n",
       "    <tr>\n",
       "      <th>Triangle</th>\n",
       "      <td>-1.297525</td>\n",
       "      <td>0.102589</td>\n",
       "    </tr>\n",
       "    <tr>\n",
       "      <th>Circle</th>\n",
       "      <td>-2.593550</td>\n",
       "      <td>0.026931</td>\n",
       "    </tr>\n",
       "  </tbody>\n",
       "</table>\n",
       "</div>"
      ],
      "text/plain": [
       "                            Rel      Prob\n",
       "Rectangle/Oval        -0.200999  0.492864\n",
       "Narrow Rectangle/Oval -1.019005  0.260036\n",
       "Wide Rectangle/Oval   -1.254407  0.109865\n",
       "Triangle              -1.297525  0.102589\n",
       "Circle                -2.593550  0.026931"
      ]
     },
     "execution_count": 24,
     "metadata": {},
     "output_type": "execute_result"
    }
   ],
   "source": [
    "testprof['cat2'][:5]"
   ]
  },
  {
   "cell_type": "code",
   "execution_count": 25,
   "metadata": {},
   "outputs": [
    {
     "data": {
      "text/html": [
       "<div>\n",
       "<style scoped>\n",
       "    .dataframe tbody tr th:only-of-type {\n",
       "        vertical-align: middle;\n",
       "    }\n",
       "\n",
       "    .dataframe tbody tr th {\n",
       "        vertical-align: top;\n",
       "    }\n",
       "\n",
       "    .dataframe thead th {\n",
       "        text-align: right;\n",
       "    }\n",
       "</style>\n",
       "<table border=\"1\" class=\"dataframe\">\n",
       "  <thead>\n",
       "    <tr style=\"text-align: right;\">\n",
       "      <th></th>\n",
       "      <th>Rel</th>\n",
       "      <th>Prob</th>\n",
       "    </tr>\n",
       "  </thead>\n",
       "  <tbody>\n",
       "    <tr>\n",
       "      <th>Thin design</th>\n",
       "      <td>-0.250018</td>\n",
       "      <td>0.349129</td>\n",
       "    </tr>\n",
       "    <tr>\n",
       "      <th>Vertical and narrow design</th>\n",
       "      <td>-0.911563</td>\n",
       "      <td>0.120842</td>\n",
       "    </tr>\n",
       "    <tr>\n",
       "      <th>No mark</th>\n",
       "      <td>-1.302702</td>\n",
       "      <td>0.115439</td>\n",
       "    </tr>\n",
       "    <tr>\n",
       "      <th>Detailed and circular</th>\n",
       "      <td>-1.237798</td>\n",
       "      <td>0.113740</td>\n",
       "    </tr>\n",
       "    <tr>\n",
       "      <th>Horizontal and wispy</th>\n",
       "      <td>-1.704116</td>\n",
       "      <td>0.073000</td>\n",
       "    </tr>\n",
       "  </tbody>\n",
       "</table>\n",
       "</div>"
      ],
      "text/plain": [
       "                                 Rel      Prob\n",
       "Thin design                -0.250018  0.349129\n",
       "Vertical and narrow design -0.911563  0.120842\n",
       "No mark                    -1.302702  0.115439\n",
       "Detailed and circular      -1.237798  0.113740\n",
       "Horizontal and wispy       -1.704116  0.073000"
      ]
     },
     "execution_count": 25,
     "metadata": {},
     "output_type": "execute_result"
    }
   ],
   "source": [
    "testprof['cat3'][:5]"
   ]
  },
  {
   "cell_type": "code",
   "execution_count": 26,
   "metadata": {},
   "outputs": [
    {
     "data": {
      "text/html": [
       "<div>\n",
       "<style scoped>\n",
       "    .dataframe tbody tr th:only-of-type {\n",
       "        vertical-align: middle;\n",
       "    }\n",
       "\n",
       "    .dataframe tbody tr th {\n",
       "        vertical-align: top;\n",
       "    }\n",
       "\n",
       "    .dataframe thead th {\n",
       "        text-align: right;\n",
       "    }\n",
       "</style>\n",
       "<table border=\"1\" class=\"dataframe\">\n",
       "  <thead>\n",
       "    <tr style=\"text-align: right;\">\n",
       "      <th></th>\n",
       "      <th>Rel</th>\n",
       "      <th>Prob</th>\n",
       "    </tr>\n",
       "  </thead>\n",
       "  <tbody>\n",
       "    <tr>\n",
       "      <th>Sans-serif font (e.g., Arial, Helvetica)</th>\n",
       "      <td>-0.595656</td>\n",
       "      <td>0.504918</td>\n",
       "    </tr>\n",
       "    <tr>\n",
       "      <th>Serif font (e.g., Times New Roman)</th>\n",
       "      <td>-0.061292</td>\n",
       "      <td>0.473566</td>\n",
       "    </tr>\n",
       "    <tr>\n",
       "      <th>No characters in the logo</th>\n",
       "      <td>-2.209114</td>\n",
       "      <td>0.021515</td>\n",
       "    </tr>\n",
       "  </tbody>\n",
       "</table>\n",
       "</div>"
      ],
      "text/plain": [
       "                                               Rel      Prob\n",
       "Sans-serif font (e.g., Arial, Helvetica) -0.595656  0.504918\n",
       "Serif font (e.g., Times New Roman)       -0.061292  0.473566\n",
       "No characters in the logo                -2.209114  0.021515"
      ]
     },
     "execution_count": 26,
     "metadata": {},
     "output_type": "execute_result"
    }
   ],
   "source": [
    "testprof['cat4'][:5]"
   ]
  },
  {
   "cell_type": "code",
   "execution_count": 27,
   "metadata": {},
   "outputs": [
    {
     "data": {
      "text/html": [
       "<div>\n",
       "<style scoped>\n",
       "    .dataframe tbody tr th:only-of-type {\n",
       "        vertical-align: middle;\n",
       "    }\n",
       "\n",
       "    .dataframe tbody tr th {\n",
       "        vertical-align: top;\n",
       "    }\n",
       "\n",
       "    .dataframe thead th {\n",
       "        text-align: right;\n",
       "    }\n",
       "</style>\n",
       "<table border=\"1\" class=\"dataframe\">\n",
       "  <thead>\n",
       "    <tr style=\"text-align: right;\">\n",
       "      <th></th>\n",
       "      <th>Rel</th>\n",
       "      <th>Prob</th>\n",
       "    </tr>\n",
       "  </thead>\n",
       "  <tbody>\n",
       "    <tr>\n",
       "      <th>Two colors</th>\n",
       "      <td>-0.601858</td>\n",
       "      <td>0.344854</td>\n",
       "    </tr>\n",
       "    <tr>\n",
       "      <th>Three colors</th>\n",
       "      <td>-0.585664</td>\n",
       "      <td>0.303571</td>\n",
       "    </tr>\n",
       "    <tr>\n",
       "      <th>One color</th>\n",
       "      <td>-0.805490</td>\n",
       "      <td>0.286814</td>\n",
       "    </tr>\n",
       "    <tr>\n",
       "      <th>More than three colors</th>\n",
       "      <td>-1.938950</td>\n",
       "      <td>0.064761</td>\n",
       "    </tr>\n",
       "  </tbody>\n",
       "</table>\n",
       "</div>"
      ],
      "text/plain": [
       "                             Rel      Prob\n",
       "Two colors             -0.601858  0.344854\n",
       "Three colors           -0.585664  0.303571\n",
       "One color              -0.805490  0.286814\n",
       "More than three colors -1.938950  0.064761"
      ]
     },
     "execution_count": 27,
     "metadata": {},
     "output_type": "execute_result"
    }
   ],
   "source": [
    "testprof['cat5'][:5]"
   ]
  },
  {
   "cell_type": "code",
   "execution_count": null,
   "metadata": {},
   "outputs": [],
   "source": []
  },
  {
   "cell_type": "markdown",
   "metadata": {},
   "source": [
    "# Creating a CSV file for use in Qualtrics"
   ]
  },
  {
   "cell_type": "code",
   "execution_count": 28,
   "metadata": {},
   "outputs": [
    {
     "name": "stdout",
     "output_type": "stream",
     "text": [
      "This brand's logo is expected to have the following features: \n",
      " - Dominant color: Orange\n",
      " - Overall shape: Rectangle/Oval\n",
      " - High-level description of the shape and form of the mark (if present): Thin design\n",
      " - Type of font: Sans-serif font (e.g., Arial, Helvetica)\n",
      " - Number of colors: Two colors\n"
     ]
    }
   ],
   "source": [
    "print(\"This brand's logo is expected to have the following features: \\n\" + \n",
    "       \" - Dominant color: \" + testprof['cat1'].index[0] + \"\\n\" + \n",
    "       \" - Overall shape: \" + testprof['cat2'].index[0] + \"\\n\" + \n",
    "       \" - High-level description of the shape and form of the mark (if present): \" + testprof['cat3'].index[0] + \"\\n\" + \n",
    "       \" - Type of font: \" + testprof['cat4'].index[0] + \"\\n\" + \n",
    "       \" - Number of colors: \" + testprof['cat5'].index[0])"
   ]
  },
  {
   "cell_type": "code",
   "execution_count": 30,
   "metadata": {
    "scrolled": true
   },
   "outputs": [],
   "source": [
    "top_bin_abs = testprof['bin'].sort_values(by=\"Prob\", ascending=False)[:5]\n",
    "top_bin_rel = testprof['bin'].sort_values(by=\"Rel\", ascending=False)[:5]"
   ]
  },
  {
   "cell_type": "code",
   "execution_count": 31,
   "metadata": {
    "scrolled": true
   },
   "outputs": [
    {
     "name": "stdout",
     "output_type": "stream",
     "text": [
      "A few other features we expect this logo to have include: \n",
      " - Color lightness: High (i.e., bright colors)\n",
      " - Design: High percentage of whitespace\n",
      " - Font width: Ordinary\n",
      " - Mark: Has a mark\n",
      " - Font slant: None (non-italics)\n"
     ]
    }
   ],
   "source": [
    "print(\"A few other features we expect this logo to have include: \\n\" + \n",
    "      \" - \" + top_bin_abs.index[0] + \"\\n\" + \n",
    "      \" - \" + top_bin_abs.index[1] + \"\\n\" + \n",
    "      \" - \" + top_bin_abs.index[2] + \"\\n\" + \n",
    "      \" - \" + top_bin_abs.index[3] + \"\\n\" + \n",
    "      \" - \" + top_bin_abs.index[4])"
   ]
  },
  {
   "cell_type": "code",
   "execution_count": 32,
   "metadata": {
    "scrolled": true
   },
   "outputs": [
    {
     "name": "stdout",
     "output_type": "stream",
     "text": [
      "Relative to other brands, some unique features we expect this brand's logo to have include: \n",
      " - Color lightness: High (i.e., bright colors)\n",
      " - Design: High percentage of whitespace\n",
      " - Color saturation: Low variation\n",
      " - Color saturation: Low\n",
      " - Design: Low entropy (i.e., not very detailed)\n"
     ]
    }
   ],
   "source": [
    "print(\"Relative to other brands, some unique features we expect this brand's logo to have include: \\n\" + \n",
    "      \" - \" + top_bin_rel.index[0] + \"\\n\" + \n",
    "      \" - \" + top_bin_rel.index[1] + \"\\n\" + \n",
    "      \" - \" + top_bin_rel.index[2] + \"\\n\" + \n",
    "      \" - \" + top_bin_rel.index[3] + \"\\n\" + \n",
    "      \" - \" + top_bin_rel.index[4])"
   ]
  },
  {
   "cell_type": "code",
   "execution_count": 33,
   "metadata": {},
   "outputs": [
    {
     "name": "stdout",
     "output_type": "stream",
     "text": [
      "When asked to evaluate this brand's personality, consumers thought the following traits described this brand particularly well: original, unique, daring, imaginative, smooth. \n",
      "On the other hand, consumers thought these traits did not describe this brand: outdoorsy, corporate, family-oriented, cheerful, glamorous\n"
     ]
    }
   ],
   "source": [
    "print(\"When asked to evaluate this brand's personality, consumers thought the following traits described this brand particularly well: \" + ', '.join(testprof['bp'][:5].index) + \". \\n\" + \"On the other hand, consumers thought these traits did not describe this brand: \" + ', '.join(testprof['bp'][:-6:-1].index))"
   ]
  },
  {
   "cell_type": "code",
   "execution_count": 34,
   "metadata": {
    "scrolled": true
   },
   "outputs": [
    {
     "data": {
      "text/plain": [
       "['Health Care', 'Biotechnology']"
      ]
     },
     "execution_count": 34,
     "metadata": {},
     "output_type": "execute_result"
    }
   ],
   "source": [
    "top2_indus = []\n",
    "j = 0\n",
    "while len(top2_indus) < 2:\n",
    "    if testprof['indus'].index[j][0:2] != 'B2':\n",
    "        top2_indus.append(testprof['indus'].index[j])\n",
    "    j += 1\n",
    "    \n",
    "top2_indus"
   ]
  },
  {
   "cell_type": "code",
   "execution_count": 35,
   "metadata": {},
   "outputs": [],
   "source": [
    "is_b2b = (testprof['indus'].loc['B2B','Prob'] > 0.5)\n",
    "is_b2c = (testprof['indus'].loc['B2C','Prob'] > 0.5)\n",
    "\n",
    "if (~is_b2b) & (~is_b2c):\n",
    "    if testprof['indus'].loc['B2B','Prob'] > testprof['indus'].loc['B2C','Prob']:\n",
    "        is_b2b = True\n",
    "    else:\n",
    "        is_b2c = True"
   ]
  },
  {
   "cell_type": "code",
   "execution_count": 36,
   "metadata": {},
   "outputs": [
    {
     "data": {
      "text/plain": [
       "(True, False)"
      ]
     },
     "execution_count": 36,
     "metadata": {},
     "output_type": "execute_result"
    }
   ],
   "source": [
    "is_b2b, is_b2c"
   ]
  },
  {
   "cell_type": "code",
   "execution_count": 37,
   "metadata": {},
   "outputs": [
    {
     "data": {
      "text/html": [
       "<div>\n",
       "<style scoped>\n",
       "    .dataframe tbody tr th:only-of-type {\n",
       "        vertical-align: middle;\n",
       "    }\n",
       "\n",
       "    .dataframe tbody tr th {\n",
       "        vertical-align: top;\n",
       "    }\n",
       "\n",
       "    .dataframe thead th {\n",
       "        text-align: right;\n",
       "    }\n",
       "</style>\n",
       "<table border=\"1\" class=\"dataframe\">\n",
       "  <thead>\n",
       "    <tr style=\"text-align: right;\">\n",
       "      <th></th>\n",
       "      <th>bp</th>\n",
       "      <th>b2what</th>\n",
       "      <th>indus</th>\n",
       "      <th>cat_abs</th>\n",
       "      <th>bin_rel</th>\n",
       "      <th>bin_abs</th>\n",
       "    </tr>\n",
       "  </thead>\n",
       "  <tbody>\n",
       "    <tr>\n",
       "      <th>0</th>\n",
       "      <td>When asked to evaluate this brand's personalit...</td>\n",
       "      <td>The company offers its products and services p...</td>\n",
       "      <td>The company operates in these industries: Heal...</td>\n",
       "      <td>This brand's logo has the following features: ...</td>\n",
       "      <td>Relative to other brands, some unique features...</td>\n",
       "      <td>A few other features this logo has include: \\n...</td>\n",
       "    </tr>\n",
       "  </tbody>\n",
       "</table>\n",
       "</div>"
      ],
      "text/plain": [
       "                                                  bp  \\\n",
       "0  When asked to evaluate this brand's personalit...   \n",
       "\n",
       "                                              b2what  \\\n",
       "0  The company offers its products and services p...   \n",
       "\n",
       "                                               indus  \\\n",
       "0  The company operates in these industries: Heal...   \n",
       "\n",
       "                                             cat_abs  \\\n",
       "0  This brand's logo has the following features: ...   \n",
       "\n",
       "                                             bin_rel  \\\n",
       "0  Relative to other brands, some unique features...   \n",
       "\n",
       "                                             bin_abs  \n",
       "0  A few other features this logo has include: \\n...  "
      ]
     },
     "execution_count": 37,
     "metadata": {},
     "output_type": "execute_result"
    }
   ],
   "source": [
    "cat_abs_str = \"This brand's logo has the following features: \\n\" + \" - Dominant color: \" + testprof['cat1'].index[0] + \"\\n\" + \" - Overall shape: \" + testprof['cat2'].index[0] + \"\\n\" + \" - High-level description of the shape and form of the mark (if present): \" + testprof['cat3'].index[0] + \"\\n\" + \" - Type of font: \" + testprof['cat4'].index[0] + \"\\n\" + \" - Number of colors: \" + testprof['cat5'].index[0]\n",
    "bin_abs_str = \"A few other features this logo has include: \\n\" + \" - \" + top_bin_abs.index[0] + \"\\n\" + \" - \" + top_bin_abs.index[1] + \"\\n\" + \" - \" + top_bin_abs.index[2] + \"\\n\" + \" - \" + top_bin_abs.index[3] + \"\\n\" + \" - \" + top_bin_abs.index[4]\n",
    "bin_rel_str = \"Relative to other brands, some unique features that this brand's logo has include: \\n\" + \" - \" + top_bin_rel.index[0] + \"\\n\" + \" - \" + top_bin_rel.index[1] + \"\\n\" + \" - \" + top_bin_rel.index[2] + \"\\n\" + \" - \" + top_bin_rel.index[3] + \"\\n\" + \" - \" + top_bin_rel.index[4]\n",
    "bp_str = \"When asked to evaluate this brand's personality, consumers thought the following traits described this brand particularly well: \" + ', '.join(testprof['bp'][:5].index) + \". \\n\" + \"On the other hand, consumers thought these traits did not describe this brand: \" + ', '.join(testprof['bp'][:-6:-1].index)\n",
    "indus_str = \"The company operates in these industries: \" + ', '.join(top2_indus)\n",
    "\n",
    "if is_b2b & is_b2c:\n",
    "    b2what_str = \"The company offers its products and services to both consumers and to other businesses.\"\n",
    "elif is_b2b:\n",
    "    b2what_str = \"The company offers its products and services primarily to consumers.\"\n",
    "else:\n",
    "    b2what_str = \"The company offers its products and services primarily to other businesses.\"\n",
    "    \n",
    "pd.DataFrame({\"bp\": bp_str, \"b2what\": b2what_str, \"indus\": indus_str, \"cat_abs\": cat_abs_str, \n",
    "              \"bin_rel\": bin_rel_str, \"bin_abs\": bin_abs_str}, index = [0])"
   ]
  },
  {
   "cell_type": "markdown",
   "metadata": {},
   "source": [
    "## Mapping features to R logo generation features:"
   ]
  },
  {
   "cell_type": "code",
   "execution_count": 68,
   "metadata": {},
   "outputs": [],
   "source": [
    "def make_R_feat_df(bin_profile, index):\n",
    "    bin_profile = bin_profile.sort_index()\n",
    "    \n",
    "    # Determine number of regions based on complexity measures:\n",
    "    mean_nreg_high = bin_profile.loc[['Design: Many marks', 'Design: High entropy (i.e., very detailed)', 'Design: Many distinct regions'], 'Prob'].mean()\n",
    "    max_nreg_high = bin_profile.loc[['Design: Many marks', 'Design: High entropy (i.e., very detailed)', 'Design: Many distinct regions'], 'Prob'].max()\n",
    "\n",
    "    mean_nreg_low = bin_profile.loc[['Design: Low entropy (i.e., not very detailed)', 'Design: Few distinct regions'], 'Prob'].mean()\n",
    "    max_nreg_low = bin_profile.loc[['Design: Low entropy (i.e., not very detailed)', 'Design: Few distinct regions'], 'Prob'].max()\n",
    "\n",
    "    if (max_nreg_high > 0.5) and (max_nreg_low > 0.5):\n",
    "        if mean_nreg_high > mean_nreg_low:\n",
    "            nreg = 4\n",
    "        else:\n",
    "            nreg = 1\n",
    "    elif max_nreg_high > 0.5:\n",
    "        nreg = 4\n",
    "    elif max_nreg_low > 0.5:\n",
    "        nreg = 1\n",
    "    else:\n",
    "        if mean_nreg_high > mean_nreg_low:\n",
    "            nreg = 3\n",
    "        else:\n",
    "            nreg = 2\n",
    "\n",
    "    \n",
    "    # Determine the number of corners (angularity):\n",
    "    prob_ncorn_high = bin_profile.loc['Design: Many corners','Prob']\n",
    "    prob_ncorn_low = bin_profile.loc['Design: Few corners','Prob']\n",
    "\n",
    "    if prob_ncorn_high > 0.5 and prob_ncorn_low > 0.5:\n",
    "        if prob_ncorn_high > prob_ncorn_low:\n",
    "            ncorn = 4\n",
    "        else:\n",
    "            ncorn = 1\n",
    "    elif prob_ncorn_high > 0.5:\n",
    "        ncorn = 4\n",
    "    elif prob_ncorn_low > 0.5:\n",
    "        ncorn = 1\n",
    "    else:\n",
    "        ncorn = 3\n",
    "\n",
    "    \n",
    "    # Dominant color:\n",
    "    dc = testprof['cat1'].sort_values(by = \"Prob\", ascending = False).index[0]\n",
    "    \n",
    "    # Accent colors, in order of probability:\n",
    "    ac = '; '.join(bin_profile.loc[\"Accent color: Black\":\"Accent color: Yellow\"].sort_values(by = \"Prob\", ascending = False).index[:10])\n",
    "    \n",
    "    # Percent whitespace:\n",
    "    lowws, highws = bin_profile.loc['Design: Low percentage of whitespace','Prob'], bin_profile.loc['Design: High percentage of whitespace','Prob']\n",
    "\n",
    "    if lowws > 0.5 and highws > 0.5:\n",
    "        if lowws > highws:\n",
    "            ws = \"low\"\n",
    "        else:\n",
    "            ws = \"high\"\n",
    "    elif lowws > 0.5:\n",
    "        ws = \"low\"\n",
    "    elif highws > 0.5:\n",
    "        ws = \"high\"\n",
    "    else:\n",
    "        ws = \"reg\"\n",
    "\n",
    "    \n",
    "    # Font styling:\n",
    "    serifs = testprof['cat4'].sort_values(by = \"Prob\", ascending = False).index[0]\n",
    "    geom_prob, sqgeom_prob, slab_prob = bin_profile.loc[['Font class: Geometric', 'Font class: Square Geometric', 'Font class: Slab'], 'Prob']\n",
    "    if geom_prob > 0.5 or sqgeom_prob > 0.5:\n",
    "        family = \"geom\"\n",
    "    elif slab_prob > 0.5:\n",
    "        family = \"slab\"\n",
    "    else:\n",
    "        family = serifs\n",
    "    if family == 'Sans-serif font (e.g., Arial, Helvetica)':\n",
    "        family = 'sans'\n",
    "    if family == 'Serif font (e.g., Times New Roman)':\n",
    "        family = 'serif'\n",
    "\n",
    "    weight = ['Font weight: Bold', 'Font weight: Light', 'Font weight: Ordinary (not bold, not light)'][np.argmax(bin_profile.loc[['Font weight: Bold', 'Font weight: Light', 'Font weight: Ordinary (not bold, not light)'], 'Prob'])]\n",
    "    weight = weight[13:]\n",
    "\n",
    "    italics = ['Font slant: Italics', 'Font slant: None (non-italics)'][np.argmax(bin_profile.loc[['Font slant: Italics', 'Font slant: None (non-italics)'], 'Prob'])]\n",
    "    if italics[12:] == 'None (non-italics)':\n",
    "        italics = 'FALSE'\n",
    "    else:\n",
    "        italics = 'TRUE'\n",
    "\n",
    "    \n",
    "    # Number of colors:\n",
    "    ncol = testprof['cat5'].sort_values('Prob', ascending = False).index[0]\n",
    "    if ncol == \"One color\":\n",
    "        ncol = 1\n",
    "    elif ncol == \"Two colors\":\n",
    "        ncol = 2\n",
    "    else:\n",
    "        ncol = 3\n",
    "    \n",
    "    # Shape of the logo:\n",
    "    hull = testprof['cat2'].sort_values(by = \"Prob\", ascending = False).index[0]\n",
    "\n",
    "    if hull == 'Rectangle/Oval' or hull == 'Narrow Rectangle/Oval':\n",
    "        shape = \"narrow\"\n",
    "    elif hull == 'Square' or hull == 'Triangle':\n",
    "        shape = \"square\"\n",
    "    elif hull == 'Circle':\n",
    "        shape = 'circle'\n",
    "    else:\n",
    "        shape = 'rect'\n",
    "    \n",
    "    # Horizontal orientation:\n",
    "    hor_prob = bin_profile.loc['Edges: Many horizontal edges', 'Prob']\n",
    "    \n",
    "    \n",
    "    # Position of the mark:\n",
    "    left_prob = bin_profile.loc[['Mark position: to the left of the brand name', 'Mark position: toward the left of the logo'], 'Prob'].max()\n",
    "    right_prob = bin_profile.loc[['Mark position: to the right of the brand name', 'Mark position: toward the right of the logo'], 'Prob'].max()\n",
    "    top_prob = bin_profile.loc[['Mark position: above the brand name', 'Mark position: toward the top of the logo'], 'Prob'].max()\n",
    "    bottom_prob = bin_profile.loc[['Mark position: underneath the brand name', 'Mark position: toward the bottom of the logo'], 'Prob'].max()\n",
    "\n",
    "    mark_pos = ['left','right','top','bottom'][np.argmax(np.array([left_prob, right_prob, top_prob, bottom_prob]))]\n",
    "\n",
    "\n",
    "    # GPC:\n",
    "    if bin_profile.loc['Design: High GPC (i.e., very complex)', 'Prob'] > 0.5:\n",
    "        high_gpc = 'TRUE'\n",
    "    else:\n",
    "        high_gpc = 'FALSE'\n",
    "\n",
    "\n",
    "    return pd.DataFrame({'nreg': nreg, 'ncorn': ncorn, 'dc': dc, 'ac': ac, 'ws': ws, 'family': family, \n",
    "                  'font_weight': weight, 'font_italics': italics, 'ncolors': ncol, 'shape': shape, \n",
    "                  'hor_prob': hor_prob, 'mark_pos': mark_pos, 'high_gpc': high_gpc}, index = [index])"
   ]
  },
  {
   "cell_type": "markdown",
   "metadata": {},
   "source": [
    "# Save everything:"
   ]
  },
  {
   "cell_type": "code",
   "execution_count": 78,
   "metadata": {
    "scrolled": true
   },
   "outputs": [
    {
     "data": {
      "image/png": "[encoded data removed]",
      "text/plain": [
       "<Figure size 432x288 with 1 Axes>"
      ]
     },
     "metadata": {
      "needs_background": "light"
     },
     "output_type": "display_data"
    }
   ],
   "source": [
    "random.seed(42)\n",
    "\n",
    "brands = RandomBrand(lmvae, K, N = 50)\n",
    "\n",
    "for i in range(50):\n",
    "    index = \"brand\" + str(i)\n",
    "    os.mkdir(\"brand_sims/\" + index)\n",
    "    savepath = \"brand_sims/\" + index + \"/\" + index + \"_\"\n",
    "    \n",
    "    prof_i = profile(brands.pred, data = data.training, i = i)\n",
    "    \n",
    "    prof_i['bin'].sort_values(by=\"Prob\", ascending=False)[:10].to_csv(savepath + \"bin_top10_prob.csv\")\n",
    "    prof_i['bin'].sort_values(by=\"Rel\", ascending=False)[:10].to_csv(savepath + \"bin_top10_rel.csv\")\n",
    "    prof_i['bin'].to_csv(savepath + \"bin_full.csv\")\n",
    "    \n",
    "    prof_i['cat1'][:3].to_csv(savepath + \"domcolor_top3.csv\")\n",
    "    prof_i['cat2'][:3].to_csv(savepath + \"hull_top3.csv\")\n",
    "    prof_i['cat3'][:3].to_csv(savepath + \"mark_top3.csv\")\n",
    "    prof_i['cat4'][:3].to_csv(savepath + \"serif_top3.csv\")\n",
    "    prof_i['cat5'][:3].to_csv(savepath + \"ncolors_top3.csv\")\n",
    "    \n",
    "    prof_i['bp'][:5].to_csv(savepath + \"bp_top5.csv\")\n",
    "    prof_i['bp'][:-6:-1].to_csv(savepath + \"bp_bottom5.csv\")\n",
    "    \n",
    "    prof_i['indus'][:5].to_csv(savepath + \"indus_top5.csv\")\n",
    "    \n",
    "    rel_dict = dict()\n",
    "    for j in range(50):\n",
    "        rel_dict[prof_i['text'].index[j]] = int(5 - np.floor(j / 10))\n",
    "    \n",
    "    rel_wc = wc.WordCloud(background_color = \"white\", max_words = 50, min_font_size = 10, \n",
    "                           prefer_horizontal = 1., height=800, width=1200, \n",
    "                           color_func=random_color_func).generate_from_frequencies(rel_dict)\n",
    "\n",
    "    plt.imshow(rel_wc, interpolation='bilinear')\n",
    "    plt.axis(\"off\")\n",
    "    plt.savefig(savepath + \"words_prob.png\", dpi=100)\n",
    "    plt.savefig(\"random_outputs/brand_\" + str(i) + \"_words_prob.png\", dpi=100)\n",
    "    \n",
    "    top_bin_abs = prof_i['bin'].sort_values(by=\"Prob\", ascending=False)[:5]\n",
    "    top_bin_rel = prof_i['bin'].sort_values(by=\"Rel\", ascending=False)[:5]\n",
    "\n",
    "    top2_indus = []\n",
    "    j = 0\n",
    "    while len(top2_indus) < 2:\n",
    "        if prof_i['indus'].index[j][0:2] != 'B2':\n",
    "            top2_indus.append(prof_i['indus'].index[j])\n",
    "        j += 1\n",
    "\n",
    "    is_b2b = (prof_i['indus'].loc['B2B','Prob'] > 0.5)\n",
    "    is_b2c = (prof_i['indus'].loc['B2C','Prob'] > 0.5)\n",
    "\n",
    "    if (~is_b2b) & (~is_b2c):\n",
    "        if prof_i['indus'].loc['B2B','Prob'] > prof_i['indus'].loc['B2C','Prob']:\n",
    "            is_b2b = True\n",
    "        else:\n",
    "            is_b2c = True\n",
    "    \n",
    "    cat_abs_str = \"This brand's logo has the following features: \\n\" + \" - Dominant color: \" + prof_i['cat1'].index[0] + \"\\n\" + \" - Overall shape: \" + prof_i['cat2'].index[0] + \"\\n\" + \" - High-level description of the shape and form of the mark (if present): \" + prof_i['cat3'].index[0] + \"\\n\" + \" - Type of font: \" + prof_i['cat4'].index[0] + \"\\n\" + \" - Number of colors: \" + prof_i['cat5'].index[0]\n",
    "    bin_abs_str = \"A few other features this logo has include: \\n\" + \" - \" + top_bin_abs.index[0] + \"\\n\" + \" - \" + top_bin_abs.index[1] + \"\\n\" + \" - \" + top_bin_abs.index[2] + \"\\n\" + \" - \" + top_bin_abs.index[3] + \"\\n\" + \" - \" + top_bin_abs.index[4]\n",
    "    bin_rel_str = \"Relative to other brands, some unique features that this brand's logo has include: \\n\" + \" - \" + top_bin_rel.index[0] + \"\\n\" + \" - \" + top_bin_rel.index[1] + \"\\n\" + \" - \" + top_bin_rel.index[2] + \"\\n\" + \" - \" + top_bin_rel.index[3] + \"\\n\" + \" - \" + top_bin_rel.index[4]\n",
    "    bp_str = \"When asked to evaluate this brand's personality, consumers thought the following traits described this brand particularly well: \" + ', '.join(prof_i['bp'][:5].index) + \". \\n\" + \"On the other hand, consumers thought these traits did not describe this brand: \" + ', '.join(prof_i['bp'][:-6:-1].index)\n",
    "    indus_str = \"The company operates in these industries: \" + ', '.join(top2_indus)\n",
    "\n",
    "    if is_b2b & is_b2c:\n",
    "        b2what_str = \"The company offers its products and services to both consumers and to other businesses.\"\n",
    "    elif is_b2b:\n",
    "        b2what_str = \"The company offers its products and services primarily to consumers.\"\n",
    "    else:\n",
    "        b2what_str = \"The company offers its products and services primarily to other businesses.\"\n",
    "        \n",
    "    if i == 0:    \n",
    "        save_df = pd.DataFrame({\"bp\": bp_str, \"b2what\": b2what_str, \"indus\": indus_str, \"cat_abs\": cat_abs_str, \n",
    "                                \"bin_rel\": bin_rel_str, \"bin_abs\": bin_abs_str}, index = [i])\n",
    "        r_feats_df = make_R_feat_df(prof_i['bin'], index = i)\n",
    "        \n",
    "    else:\n",
    "        save_df = save_df.append(pd.DataFrame({\"bp\": bp_str, \"b2what\": b2what_str, \"indus\": indus_str, \"cat_abs\": cat_abs_str, \n",
    "                                \"bin_rel\": bin_rel_str, \"bin_abs\": bin_abs_str}, index = [i]))\n",
    "        r_feats_df = r_feats_df.append(make_R_feat_df(prof_i['bin'], index = i))\n",
    "        \n",
    "    \n",
    "        \n",
    "save_df.to_csv(\"random_outputs/brand_descs.csv\")\n",
    "r_feats_df.to_csv(\"r_inputs.csv\")"
   ]
  }
 ],
 "metadata": {
  "kernelspec": {
   "display_name": "pyro",
   "language": "python",
   "name": "pyro"
  },
  "language_info": {
   "codemirror_mode": {
    "name": "ipython",
    "version": 3
   },
   "file_extension": ".py",
   "mimetype": "text/x-python",
   "name": "python",
   "nbconvert_exporter": "python",
   "pygments_lexer": "ipython3",
   "version": "3.7.7"
  }
 },
 "nbformat": 4,
 "nbformat_minor": 2
}
