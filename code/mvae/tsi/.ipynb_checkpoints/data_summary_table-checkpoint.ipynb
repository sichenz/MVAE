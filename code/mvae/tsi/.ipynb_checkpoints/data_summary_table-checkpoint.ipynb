{
 "cells": [
  {
   "cell_type": "code",
   "execution_count": 2,
   "metadata": {},
   "outputs": [],
   "source": [
    "%run -i reload.py"
   ]
  },
  {
   "cell_type": "markdown",
   "metadata": {},
   "source": [
    "# Test: Re-create Neighbors Table"
   ]
  },
  {
   "cell_type": "code",
   "execution_count": 20,
   "metadata": {
    "scrolled": false
   },
   "outputs": [
    {
     "data": {
      "text/html": [
       "<div>\n",
       "<style scoped>\n",
       "    .dataframe tbody tr th:only-of-type {\n",
       "        vertical-align: middle;\n",
       "    }\n",
       "\n",
       "    .dataframe tbody tr th {\n",
       "        vertical-align: top;\n",
       "    }\n",
       "\n",
       "    .dataframe thead th {\n",
       "        text-align: right;\n",
       "    }\n",
       "</style>\n",
       "<table border=\"1\" class=\"dataframe\">\n",
       "  <thead>\n",
       "    <tr style=\"text-align: right;\">\n",
       "      <th></th>\n",
       "      <th>1</th>\n",
       "      <th>2</th>\n",
       "      <th>3</th>\n",
       "      <th>4</th>\n",
       "    </tr>\n",
       "  </thead>\n",
       "  <tbody>\n",
       "    <tr>\n",
       "      <th>facebook</th>\n",
       "      <td>twitter</td>\n",
       "      <td>uber</td>\n",
       "      <td>ebay</td>\n",
       "      <td>youtube</td>\n",
       "    </tr>\n",
       "    <tr>\n",
       "      <th>gucci</th>\n",
       "      <td>dior</td>\n",
       "      <td>cartier</td>\n",
       "      <td>mac</td>\n",
       "      <td>calvin-klein</td>\n",
       "    </tr>\n",
       "    <tr>\n",
       "      <th>lowes</th>\n",
       "      <td>travelcenters-of-america-llc</td>\n",
       "      <td>union-pacific</td>\n",
       "      <td>geico</td>\n",
       "      <td>lennar</td>\n",
       "    </tr>\n",
       "    <tr>\n",
       "      <th>mcdonalds</th>\n",
       "      <td>heinz</td>\n",
       "      <td>wells-fargo</td>\n",
       "      <td>walmart</td>\n",
       "      <td>upc</td>\n",
       "    </tr>\n",
       "    <tr>\n",
       "      <th>21st-century-fox</th>\n",
       "      <td>iheartmedia</td>\n",
       "      <td>xfinity</td>\n",
       "      <td>nbc</td>\n",
       "      <td>news-corporation</td>\n",
       "    </tr>\n",
       "    <tr>\n",
       "      <th>old-navy</th>\n",
       "      <td>gap</td>\n",
       "      <td>walmart</td>\n",
       "      <td>ross-dress-for-less</td>\n",
       "      <td>kohls</td>\n",
       "    </tr>\n",
       "    <tr>\n",
       "      <th>actavis</th>\n",
       "      <td>ingredion-incorporated</td>\n",
       "      <td>avery-dennison-corporation</td>\n",
       "      <td>praxair</td>\n",
       "      <td>patterson-companies</td>\n",
       "    </tr>\n",
       "    <tr>\n",
       "      <th>goldman-sachs</th>\n",
       "      <td>mckinsey</td>\n",
       "      <td>kkr</td>\n",
       "      <td>jones-lang-lasalle-incorporated</td>\n",
       "      <td>the-bank-of-new-york-mellon</td>\n",
       "    </tr>\n",
       "  </tbody>\n",
       "</table>\n",
       "</div>"
      ],
      "text/plain": [
       "                                             1                           2  \\\n",
       "facebook                               twitter                        uber   \n",
       "gucci                                     dior                     cartier   \n",
       "lowes             travelcenters-of-america-llc               union-pacific   \n",
       "mcdonalds                                heinz                 wells-fargo   \n",
       "21st-century-fox                   iheartmedia                     xfinity   \n",
       "old-navy                                   gap                     walmart   \n",
       "actavis                 ingredion-incorporated  avery-dennison-corporation   \n",
       "goldman-sachs                         mckinsey                         kkr   \n",
       "\n",
       "                                                3                            4  \n",
       "facebook                                     ebay                      youtube  \n",
       "gucci                                         mac                 calvin-klein  \n",
       "lowes                                       geico                       lennar  \n",
       "mcdonalds                                 walmart                          upc  \n",
       "21st-century-fox                              nbc             news-corporation  \n",
       "old-navy                      ross-dress-for-less                        kohls  \n",
       "actavis                                   praxair          patterson-companies  \n",
       "goldman-sachs     jones-lang-lasalle-incorporated  the-bank-of-new-york-mellon  "
      ]
     },
     "execution_count": 20,
     "metadata": {},
     "output_type": "execute_result"
    }
   ],
   "source": [
    "lmvae.predict(data.training)\n",
    "\n",
    "z = lmvae.pred.z.z_loc.cpu().numpy()\n",
    "end_names = data.training.names\n",
    "\n",
    "dist_z = compute_distance(z)\n",
    "\n",
    "test_firms = ['facebook','gucci','lowes','mcdonalds','21st-century-fox','old-navy','actavis','goldman-sachs']\n",
    "test_neighbors = [end_names[dist_z[np.where(end_names == test_firms[i])[0][0],:].argsort()][1:5] for i in range(len(test_firms))]\n",
    "test_dist = [np.sort(dist_z[np.where(end_names == test_firms[i])[0][0],:].round(2))[1:5] for i in range(len(test_firms))]\n",
    "formatted_neighbors = [\", \".join(test_neighbors[i].tolist()) for i in range(len(test_neighbors))]\n",
    "\n",
    "neighbors_df = pd.DataFrame(test_neighbors)\n",
    "neighbors_df.index = test_firms\n",
    "neighbors_df.columns = np.arange(1,5)\n",
    "\n",
    "neighbors_df"
   ]
  },
  {
   "cell_type": "code",
   "execution_count": 22,
   "metadata": {},
   "outputs": [
    {
     "data": {
      "text/plain": [
       "[array([3.  , 3.6 , 4.64, 4.75], dtype=float32),\n",
       " array([3.48, 3.71, 3.82, 3.9 ], dtype=float32),\n",
       " array([3.93, 4.05, 4.19, 4.19], dtype=float32),\n",
       " array([4.84, 4.87, 4.95, 5.11], dtype=float32),\n",
       " array([3.66, 3.84, 3.87, 3.93], dtype=float32),\n",
       " array([2.82, 3.63, 3.88, 3.96], dtype=float32),\n",
       " array([3.84, 3.87, 3.89, 3.9 ], dtype=float32),\n",
       " array([4.1 , 4.49, 4.9 , 4.98], dtype=float32)]"
      ]
     },
     "execution_count": 22,
     "metadata": {},
     "output_type": "execute_result"
    }
   ],
   "source": [
    "test_dist"
   ]
  },
  {
   "cell_type": "markdown",
   "metadata": {},
   "source": [
    "# Brand Arithmetic"
   ]
  },
  {
   "cell_type": "code",
   "execution_count": 23,
   "metadata": {},
   "outputs": [],
   "source": [
    "from analysis import *"
   ]
  },
  {
   "cell_type": "code",
   "execution_count": 24,
   "metadata": {
    "scrolled": true
   },
   "outputs": [],
   "source": [
    "x_mckinsey = get_company(data.training, name = \"mckinsey\", cuda = True)\n",
    "x_goldman = get_company(data.training, name = \"goldman-sachs\", cuda = True)"
   ]
  },
  {
   "cell_type": "code",
   "execution_count": 25,
   "metadata": {},
   "outputs": [
    {
     "data": {
      "text/plain": [
       "tensor([[-0.3897, -1.6536,  1.0376, -1.3042, -1.2885,  2.0831, -0.9798, -1.9506,\n",
       "         -1.0082, -1.5210, -0.9744, -2.1583,  0.7038, -0.5330, -0.6251, -2.6404,\n",
       "         -1.6058, -0.2057, -0.0750, -0.1845,  0.9328, -1.6500, -1.2597, -1.5817,\n",
       "         -1.1877, -0.9718, -1.1507, -1.1697, -1.8489, -0.2959,  0.1408, -1.6526,\n",
       "          0.9227, -0.5152, -0.4351, -1.4868, -1.4525, -0.3161,  2.3189, -0.4404,\n",
       "         -1.4936, -0.7948]], device='cuda:0')"
      ]
     },
     "execution_count": 25,
     "metadata": {},
     "output_type": "execute_result"
    }
   ],
   "source": [
    "x_goldman.bp"
   ]
  },
  {
   "cell_type": "code",
   "execution_count": 57,
   "metadata": {},
   "outputs": [],
   "source": [
    "wells_bp = get_company(data.training, name = \"wells-fargo\", cuda = False).bp.numpy().flatten()\n",
    "mcd_bp = get_company(data.training, name = \"mcdonalds\", cuda = False).bp.numpy().flatten()\n",
    "heinz_bp = get_company(data.training, name = \"heinz\", cuda = False).bp.numpy().flatten()"
   ]
  },
  {
   "cell_type": "code",
   "execution_count": 58,
   "metadata": {},
   "outputs": [
    {
     "data": {
      "text/plain": [
       "<matplotlib.collections.PathCollection at 0x7f8dfaa8d150>"
      ]
     },
     "execution_count": 58,
     "metadata": {},
     "output_type": "execute_result"
    },
    {
     "data": {
      "image/png": "[encoded data removed]",
      "text/plain": [
       "<Figure size 432x288 with 1 Axes>"
      ]
     },
     "metadata": {
      "needs_background": "light"
     },
     "output_type": "display_data"
    }
   ],
   "source": [
    "plt.scatter(heinz_bp, mcd_bp)"
   ]
  },
  {
   "cell_type": "code",
   "execution_count": 59,
   "metadata": {},
   "outputs": [
    {
     "data": {
      "text/plain": [
       "array([40,  9,  1, 27,  7, 11, 23, 15, 29,  0, 32, 39, 24,  5, 19, 30, 21,\n",
       "       22, 28, 31, 14, 25, 13,  2,  8, 10, 20, 26, 12, 41, 34,  4, 16, 36,\n",
       "       17, 38, 35,  6,  3, 18, 37, 33])"
      ]
     },
     "execution_count": 59,
     "metadata": {},
     "output_type": "execute_result"
    }
   ],
   "source": []
  },
  {
   "cell_type": "code",
   "execution_count": 67,
   "metadata": {},
   "outputs": [
    {
     "data": {
      "text/plain": [
       "Index(['wholesome', 'family.oriented', 'cheerful', 'sentimental',\n",
       "       'down.to.earth', 'friendly', 'real', 'honest', 'small.town',\n",
       "       'charming'],\n",
       "      dtype='object')"
      ]
     },
     "execution_count": 67,
     "metadata": {},
     "output_type": "execute_result"
    }
   ],
   "source": [
    "bp.columns[np.argsort(heinz_bp)[::-1][:10]]"
   ]
  },
  {
   "cell_type": "code",
   "execution_count": 68,
   "metadata": {},
   "outputs": [
    {
     "data": {
      "text/plain": [
       "Index(['family.oriented', 'western', 'successful', 'corporate', 'cheerful',\n",
       "       'small.town', 'friendly', 'leader', 'sentimental', 'young'],\n",
       "      dtype='object')"
      ]
     },
     "execution_count": 68,
     "metadata": {},
     "output_type": "execute_result"
    }
   ],
   "source": [
    "bp.columns[np.argsort(mcd_bp)[::-1][:10]]"
   ]
  },
  {
   "cell_type": "code",
   "execution_count": 69,
   "metadata": {},
   "outputs": [
    {
     "data": {
      "text/plain": [
       "Index(['corporate', 'upper.class', 'confident', 'western', 'technical',\n",
       "       'masculine', 'successful', 'leader', 'small.town', 'feminine'],\n",
       "      dtype='object')"
      ]
     },
     "execution_count": 69,
     "metadata": {},
     "output_type": "execute_result"
    }
   ],
   "source": [
    "bp.columns[np.argsort(wells_bp)[::-1][:10]]"
   ]
  },
  {
   "cell_type": "code",
   "execution_count": 49,
   "metadata": {},
   "outputs": [
    {
     "data": {
      "text/plain": [
       "5"
      ]
     },
     "execution_count": 49,
     "metadata": {},
     "output_type": "execute_result"
    }
   ],
   "source": []
  },
  {
   "cell_type": "code",
   "execution_count": 51,
   "metadata": {},
   "outputs": [
    {
     "data": {
      "text/plain": [
       "tensor(0.7502)"
      ]
     },
     "execution_count": 51,
     "metadata": {},
     "output_type": "execute_result"
    }
   ],
   "source": [
    "mcd_bp[np.where(bp.columns == 'corporate')[0][0]]"
   ]
  },
  {
   "cell_type": "code",
   "execution_count": 52,
   "metadata": {
    "scrolled": true
   },
   "outputs": [
    {
     "data": {
      "text/plain": [
       "tensor(-0.5626)"
      ]
     },
     "execution_count": 52,
     "metadata": {},
     "output_type": "execute_result"
    }
   ],
   "source": [
    "mcd_bp[np.where(bp.columns == 'wholesome')[0][0]]"
   ]
  },
  {
   "cell_type": "markdown",
   "metadata": {},
   "source": [
    "## Brand Interpolation"
   ]
  },
  {
   "cell_type": "code",
   "execution_count": 6,
   "metadata": {},
   "outputs": [],
   "source": [
    "lmvae.predict(data.training)\n",
    "\n",
    "z = lmvae.pred.z.z_loc.cpu().numpy()\n",
    "end_names = data.training.names"
   ]
  },
  {
   "cell_type": "code",
   "execution_count": 7,
   "metadata": {},
   "outputs": [
    {
     "data": {
      "text/plain": [
       "4.972158"
      ]
     },
     "execution_count": 7,
     "metadata": {},
     "output_type": "execute_result"
    }
   ],
   "source": [
    "avg_norm = np.sqrt((z**2).sum(1)).mean()\n",
    "avg_norm"
   ]
  },
  {
   "cell_type": "code",
   "execution_count": 72,
   "metadata": {},
   "outputs": [],
   "source": [
    "def interp(logic1, logic2, n=10, w1=0.5, w2=0.5, return_z=False, norm=6.17):\n",
    "    z1_unscaled = z[logic1].mean(0)\n",
    "    z2_unscaled = z[logic2].mean(0)\n",
    "    \n",
    "    z1_scaling = norm / np.sqrt(np.sum(np.power(z1_unscaled,2)))\n",
    "    z2_scaling = norm / np.sqrt(np.sum(np.power(z2_unscaled,2)))\n",
    "    \n",
    "    z1 = z1_scaling * z1_unscaled\n",
    "    z2 = z2_scaling * z2_unscaled\n",
    "    \n",
    "    interp = w1 * z1 + w2 * z2\n",
    "    interp_dists = compute_distance(np.vstack([z, interp]))\n",
    "    if return_z:\n",
    "        return interp\n",
    "    else: \n",
    "        return end_names[interp_dists[-1,:].argsort()[1:(n+1)]]"
   ]
  },
  {
   "cell_type": "code",
   "execution_count": 73,
   "metadata": {},
   "outputs": [
    {
     "data": {
      "text/plain": [
       "array(['mckinsey', 'goldman-sachs', 'jones-lang-lasalle-incorporated',\n",
       "       'kkr', 'the-bank-of-new-york-mellon', 'emcor-group',\n",
       "       'emc-corporation', 'state-street', 'bbt', 'hsbc'], dtype=object)"
      ]
     },
     "execution_count": 73,
     "metadata": {},
     "output_type": "execute_result"
    }
   ],
   "source": [
    "interp(end_names == \"goldman-sachs\", end_names == \"mckinsey\", n=10)"
   ]
  },
  {
   "cell_type": "code",
   "execution_count": 74,
   "metadata": {},
   "outputs": [
    {
     "data": {
      "text/plain": [
       "array(['adidas', 'louis-vuitton', 'burberry', 'bmw', 'tiffany-co', 'mac',\n",
       "       'calvin-klein', 'under-armour', 'blackstone', 'nike'], dtype=object)"
      ]
     },
     "execution_count": 74,
     "metadata": {},
     "output_type": "execute_result"
    }
   ],
   "source": [
    "interp(end_names == \"nike\", end_names == \"louis-vuitton\", n=10)"
   ]
  },
  {
   "cell_type": "markdown",
   "metadata": {},
   "source": [
    "## Health + {Tech, Finance}"
   ]
  },
  {
   "cell_type": "code",
   "execution_count": 75,
   "metadata": {},
   "outputs": [],
   "source": [
    "tech_company = data.training.indus.cpu().numpy()[:,np.isin(indus_labels, [\"Hardware\",\"Consumer.Electronics\",\"Software\"])].max(1) == 1\n",
    "health_company = data.training.indus.cpu().numpy()[:,np.isin(indus_labels, [\"Health.Care\"])].max(1) == 1\n",
    "finance_company = data.training.indus.cpu().numpy()[:,np.isin(indus_labels, [\"Financial.Services\"])].max(1) == 1"
   ]
  },
  {
   "cell_type": "code",
   "execution_count": 76,
   "metadata": {
    "scrolled": false
   },
   "outputs": [
    {
     "data": {
      "text/plain": [
       "array(['cerner-corp', 'infosys', 'celgene', 'thermo-fisher-scientific',\n",
       "       'baxter-international', 'mckesson', 'becton-dickinson-and-company',\n",
       "       'emerson', 'abbvie-inc', 'wipro'], dtype=object)"
      ]
     },
     "execution_count": 76,
     "metadata": {},
     "output_type": "execute_result"
    }
   ],
   "source": [
    "interp(tech_company, health_company)"
   ]
  },
  {
   "cell_type": "code",
   "execution_count": 85,
   "metadata": {},
   "outputs": [
    {
     "data": {
      "text/plain": [
       "tensor([ 1.2912, -0.4352,  2.1225,  0.6876,  0.7018, -0.6216,  0.1496,  0.4337,\n",
       "         0.3787, -0.3324, -1.7131, -1.3167, -0.0534, -1.2357,  1.2308,  2.0602,\n",
       "         1.8033, -0.2005,  0.0043,  0.0192], device='cuda:0')"
      ]
     },
     "execution_count": 85,
     "metadata": {},
     "output_type": "execute_result"
    }
   ],
   "source": []
  },
  {
   "cell_type": "code",
   "execution_count": 87,
   "metadata": {
    "scrolled": true
   },
   "outputs": [],
   "source": [
    "md_pred = PredictNoVar(lmvae, torch.tensor([interp(tech_company, health_company, return_z=True)]).cuda())\n",
    "md_prof = profile(md_pred, data.training)"
   ]
  },
  {
   "cell_type": "code",
   "execution_count": 90,
   "metadata": {
    "scrolled": true
   },
   "outputs": [
    {
     "data": {
      "text/html": [
       "<div>\n",
       "<style scoped>\n",
       "    .dataframe tbody tr th:only-of-type {\n",
       "        vertical-align: middle;\n",
       "    }\n",
       "\n",
       "    .dataframe tbody tr th {\n",
       "        vertical-align: top;\n",
       "    }\n",
       "\n",
       "    .dataframe thead th {\n",
       "        text-align: right;\n",
       "    }\n",
       "</style>\n",
       "<table border=\"1\" class=\"dataframe\">\n",
       "  <thead>\n",
       "    <tr style=\"text-align: right;\">\n",
       "      <th></th>\n",
       "      <th>Rel</th>\n",
       "      <th>Prob</th>\n",
       "    </tr>\n",
       "  </thead>\n",
       "  <tbody>\n",
       "    <tr>\n",
       "      <th>B2B</th>\n",
       "      <td>0.459521</td>\n",
       "      <td>9.637698e-01</td>\n",
       "    </tr>\n",
       "    <tr>\n",
       "      <th>Health Care</th>\n",
       "      <td>0.584921</td>\n",
       "      <td>6.642408e-01</td>\n",
       "    </tr>\n",
       "    <tr>\n",
       "      <th>Biotechnology</th>\n",
       "      <td>0.590036</td>\n",
       "      <td>6.268628e-01</td>\n",
       "    </tr>\n",
       "    <tr>\n",
       "      <th>Software</th>\n",
       "      <td>0.450673</td>\n",
       "      <td>5.597385e-01</td>\n",
       "    </tr>\n",
       "    <tr>\n",
       "      <th>Information Technology</th>\n",
       "      <td>0.470130</td>\n",
       "      <td>5.423677e-01</td>\n",
       "    </tr>\n",
       "    <tr>\n",
       "      <th>Hardware</th>\n",
       "      <td>0.429362</td>\n",
       "      <td>4.916852e-01</td>\n",
       "    </tr>\n",
       "    <tr>\n",
       "      <th>Professional Services</th>\n",
       "      <td>0.118023</td>\n",
       "      <td>1.973433e-01</td>\n",
       "    </tr>\n",
       "    <tr>\n",
       "      <th>Manufacturing</th>\n",
       "      <td>-0.074097</td>\n",
       "      <td>1.057893e-01</td>\n",
       "    </tr>\n",
       "    <tr>\n",
       "      <th>B2C</th>\n",
       "      <td>-0.605274</td>\n",
       "      <td>8.736034e-02</td>\n",
       "    </tr>\n",
       "    <tr>\n",
       "      <th>Consumer Electronics</th>\n",
       "      <td>0.032956</td>\n",
       "      <td>7.403272e-02</td>\n",
       "    </tr>\n",
       "    <tr>\n",
       "      <th>Data and Analytics</th>\n",
       "      <td>0.025332</td>\n",
       "      <td>4.657871e-02</td>\n",
       "    </tr>\n",
       "    <tr>\n",
       "      <th>Administrative Services</th>\n",
       "      <td>-0.041217</td>\n",
       "      <td>3.243779e-02</td>\n",
       "    </tr>\n",
       "    <tr>\n",
       "      <th>Community and Lifestyle</th>\n",
       "      <td>-0.034172</td>\n",
       "      <td>1.965281e-02</td>\n",
       "    </tr>\n",
       "    <tr>\n",
       "      <th>Government and Military</th>\n",
       "      <td>-0.029384</td>\n",
       "      <td>1.594215e-02</td>\n",
       "    </tr>\n",
       "    <tr>\n",
       "      <th>Internet Services</th>\n",
       "      <td>-0.070546</td>\n",
       "      <td>1.160665e-02</td>\n",
       "    </tr>\n",
       "    <tr>\n",
       "      <th>Education</th>\n",
       "      <td>-0.005577</td>\n",
       "      <td>8.587475e-03</td>\n",
       "    </tr>\n",
       "    <tr>\n",
       "      <th>Sustainability</th>\n",
       "      <td>-0.013299</td>\n",
       "      <td>7.947151e-03</td>\n",
       "    </tr>\n",
       "    <tr>\n",
       "      <th>Telecommunications</th>\n",
       "      <td>-0.033670</td>\n",
       "      <td>7.406102e-03</td>\n",
       "    </tr>\n",
       "    <tr>\n",
       "      <th>Platforms</th>\n",
       "      <td>-0.012619</td>\n",
       "      <td>7.211058e-03</td>\n",
       "    </tr>\n",
       "    <tr>\n",
       "      <th>Sales and Marketing</th>\n",
       "      <td>-0.035407</td>\n",
       "      <td>5.669341e-03</td>\n",
       "    </tr>\n",
       "    <tr>\n",
       "      <th>Mobile</th>\n",
       "      <td>-0.014353</td>\n",
       "      <td>5.476682e-03</td>\n",
       "    </tr>\n",
       "    <tr>\n",
       "      <th>Privacy and Security</th>\n",
       "      <td>-0.015744</td>\n",
       "      <td>4.086389e-03</td>\n",
       "    </tr>\n",
       "    <tr>\n",
       "      <th>Transportation</th>\n",
       "      <td>-0.106553</td>\n",
       "      <td>2.511707e-03</td>\n",
       "    </tr>\n",
       "    <tr>\n",
       "      <th>Lending and Investments</th>\n",
       "      <td>-0.015437</td>\n",
       "      <td>1.560530e-03</td>\n",
       "    </tr>\n",
       "    <tr>\n",
       "      <th>Financial Services</th>\n",
       "      <td>-0.124600</td>\n",
       "      <td>1.462134e-03</td>\n",
       "    </tr>\n",
       "    <tr>\n",
       "      <th>Consumer Goods</th>\n",
       "      <td>-0.073666</td>\n",
       "      <td>1.404486e-03</td>\n",
       "    </tr>\n",
       "    <tr>\n",
       "      <th>Commerce and Shopping</th>\n",
       "      <td>-0.106292</td>\n",
       "      <td>1.357140e-03</td>\n",
       "    </tr>\n",
       "    <tr>\n",
       "      <th>Real Estate</th>\n",
       "      <td>-0.019260</td>\n",
       "      <td>5.704516e-04</td>\n",
       "    </tr>\n",
       "    <tr>\n",
       "      <th>Travel and Tourism</th>\n",
       "      <td>-0.059300</td>\n",
       "      <td>1.900973e-04</td>\n",
       "    </tr>\n",
       "    <tr>\n",
       "      <th>Energy</th>\n",
       "      <td>-0.074907</td>\n",
       "      <td>1.638309e-04</td>\n",
       "    </tr>\n",
       "    <tr>\n",
       "      <th>Natural Resources</th>\n",
       "      <td>-0.072172</td>\n",
       "      <td>6.562527e-05</td>\n",
       "    </tr>\n",
       "    <tr>\n",
       "      <th>Media and Entertainment</th>\n",
       "      <td>-0.038179</td>\n",
       "      <td>6.418450e-05</td>\n",
       "    </tr>\n",
       "    <tr>\n",
       "      <th>Payments</th>\n",
       "      <td>-0.014144</td>\n",
       "      <td>2.075750e-05</td>\n",
       "    </tr>\n",
       "    <tr>\n",
       "      <th>Sports</th>\n",
       "      <td>-0.018411</td>\n",
       "      <td>2.905705e-06</td>\n",
       "    </tr>\n",
       "    <tr>\n",
       "      <th>Food and Beverage</th>\n",
       "      <td>-0.089233</td>\n",
       "      <td>2.275911e-06</td>\n",
       "    </tr>\n",
       "    <tr>\n",
       "      <th>Clothing and Apparel</th>\n",
       "      <td>-0.038243</td>\n",
       "      <td>4.900663e-07</td>\n",
       "    </tr>\n",
       "  </tbody>\n",
       "</table>\n",
       "</div>"
      ],
      "text/plain": [
       "                              Rel          Prob\n",
       "B2B                      0.459521  9.637698e-01\n",
       "Health Care              0.584921  6.642408e-01\n",
       "Biotechnology            0.590036  6.268628e-01\n",
       "Software                 0.450673  5.597385e-01\n",
       "Information Technology   0.470130  5.423677e-01\n",
       "Hardware                 0.429362  4.916852e-01\n",
       "Professional Services    0.118023  1.973433e-01\n",
       "Manufacturing           -0.074097  1.057893e-01\n",
       "B2C                     -0.605274  8.736034e-02\n",
       "Consumer Electronics     0.032956  7.403272e-02\n",
       "Data and Analytics       0.025332  4.657871e-02\n",
       "Administrative Services -0.041217  3.243779e-02\n",
       "Community and Lifestyle -0.034172  1.965281e-02\n",
       "Government and Military -0.029384  1.594215e-02\n",
       "Internet Services       -0.070546  1.160665e-02\n",
       "Education               -0.005577  8.587475e-03\n",
       "Sustainability          -0.013299  7.947151e-03\n",
       "Telecommunications      -0.033670  7.406102e-03\n",
       "Platforms               -0.012619  7.211058e-03\n",
       "Sales and Marketing     -0.035407  5.669341e-03\n",
       "Mobile                  -0.014353  5.476682e-03\n",
       "Privacy and Security    -0.015744  4.086389e-03\n",
       "Transportation          -0.106553  2.511707e-03\n",
       "Lending and Investments -0.015437  1.560530e-03\n",
       "Financial Services      -0.124600  1.462134e-03\n",
       "Consumer Goods          -0.073666  1.404486e-03\n",
       "Commerce and Shopping   -0.106292  1.357140e-03\n",
       "Real Estate             -0.019260  5.704516e-04\n",
       "Travel and Tourism      -0.059300  1.900973e-04\n",
       "Energy                  -0.074907  1.638309e-04\n",
       "Natural Resources       -0.072172  6.562527e-05\n",
       "Media and Entertainment -0.038179  6.418450e-05\n",
       "Payments                -0.014144  2.075750e-05\n",
       "Sports                  -0.018411  2.905705e-06\n",
       "Food and Beverage       -0.089233  2.275911e-06\n",
       "Clothing and Apparel    -0.038243  4.900663e-07"
      ]
     },
     "execution_count": 90,
     "metadata": {},
     "output_type": "execute_result"
    }
   ],
   "source": [
    "md_prof['indus']"
   ]
  },
  {
   "cell_type": "code",
   "execution_count": 91,
   "metadata": {},
   "outputs": [
    {
     "data": {
      "text/html": [
       "<div>\n",
       "<style scoped>\n",
       "    .dataframe tbody tr th:only-of-type {\n",
       "        vertical-align: middle;\n",
       "    }\n",
       "\n",
       "    .dataframe tbody tr th {\n",
       "        vertical-align: top;\n",
       "    }\n",
       "\n",
       "    .dataframe thead th {\n",
       "        text-align: right;\n",
       "    }\n",
       "</style>\n",
       "<table border=\"1\" class=\"dataframe\">\n",
       "  <thead>\n",
       "    <tr style=\"text-align: right;\">\n",
       "      <th></th>\n",
       "      <th>Rel</th>\n",
       "      <th>Prob</th>\n",
       "    </tr>\n",
       "  </thead>\n",
       "  <tbody>\n",
       "    <tr>\n",
       "      <th>patients</th>\n",
       "      <td>0.935390</td>\n",
       "      <td>0.831956</td>\n",
       "    </tr>\n",
       "    <tr>\n",
       "      <th>clinical</th>\n",
       "      <td>0.805369</td>\n",
       "      <td>0.568770</td>\n",
       "    </tr>\n",
       "    <tr>\n",
       "      <th>healthcare</th>\n",
       "      <td>0.498819</td>\n",
       "      <td>0.588939</td>\n",
       "    </tr>\n",
       "    <tr>\n",
       "      <th>treatment</th>\n",
       "      <td>0.457392</td>\n",
       "      <td>0.401617</td>\n",
       "    </tr>\n",
       "    <tr>\n",
       "      <th>outcomes</th>\n",
       "      <td>0.411215</td>\n",
       "      <td>0.443070</td>\n",
       "    </tr>\n",
       "    <tr>\n",
       "      <th>...</th>\n",
       "      <td>...</td>\n",
       "      <td>...</td>\n",
       "    </tr>\n",
       "    <tr>\n",
       "      <th>guests</th>\n",
       "      <td>-8.747195</td>\n",
       "      <td>0.000040</td>\n",
       "    </tr>\n",
       "    <tr>\n",
       "      <th>apparel</th>\n",
       "      <td>-9.281806</td>\n",
       "      <td>0.000025</td>\n",
       "    </tr>\n",
       "    <tr>\n",
       "      <th>luxury</th>\n",
       "      <td>-9.328795</td>\n",
       "      <td>0.000024</td>\n",
       "    </tr>\n",
       "    <tr>\n",
       "      <th>delicious</th>\n",
       "      <td>-10.386295</td>\n",
       "      <td>0.000008</td>\n",
       "    </tr>\n",
       "    <tr>\n",
       "      <th>accessories</th>\n",
       "      <td>-10.637965</td>\n",
       "      <td>0.000006</td>\n",
       "    </tr>\n",
       "  </tbody>\n",
       "</table>\n",
       "<p>852 rows × 2 columns</p>\n",
       "</div>"
      ],
      "text/plain": [
       "                   Rel      Prob\n",
       "patients      0.935390  0.831956\n",
       "clinical      0.805369  0.568770\n",
       "healthcare    0.498819  0.588939\n",
       "treatment     0.457392  0.401617\n",
       "outcomes      0.411215  0.443070\n",
       "...                ...       ...\n",
       "guests       -8.747195  0.000040\n",
       "apparel      -9.281806  0.000025\n",
       "luxury       -9.328795  0.000024\n",
       "delicious   -10.386295  0.000008\n",
       "accessories -10.637965  0.000006\n",
       "\n",
       "[852 rows x 2 columns]"
      ]
     },
     "execution_count": 91,
     "metadata": {},
     "output_type": "execute_result"
    }
   ],
   "source": [
    "md_prof['text']"
   ]
  },
  {
   "cell_type": "code",
   "execution_count": 94,
   "metadata": {},
   "outputs": [],
   "source": [
    "def random_color_func(word=None, font_size=None, position=None, orientation=None, font_path=None, random_state=None):\n",
    "    h = int(360.0 * 0.0 / 255.0)\n",
    "    s = int(100.0 * 0.0 / 255.0)\n",
    "    l = int(100.0 * float(random_state.randint(0, 0)) / 255.0)\n",
    "\n",
    "    return \"hsl({}, {}%, {}%)\".format(h, s, l)"
   ]
  },
  {
   "cell_type": "code",
   "execution_count": 98,
   "metadata": {},
   "outputs": [
    {
     "data": {
      "image/png": "[encoded data removed]",
      "text/plain": [
       "<Figure size 432x288 with 1 Axes>"
      ]
     },
     "metadata": {
      "needs_background": "light"
     },
     "output_type": "display_data"
    }
   ],
   "source": [
    "word_dict = dict()\n",
    "for i in range(md_prof['text'].shape[0]):\n",
    "    if md_prof['text'].iloc[i,1] < 0.05:\n",
    "        next\n",
    "    else:\n",
    "        word_dict[md_prof['text'].index[i]] = int(10*round(md_prof['text'].iloc[i,1],1))\n",
    "\n",
    "prof_wc = wc.WordCloud(background_color = \"white\", max_words = 50, min_font_size = 10, \n",
    "                       prefer_horizontal = 1., height=800, width=1200, \n",
    "                       color_func=random_color_func).generate_from_frequencies(word_dict)\n",
    "\n",
    "plt.figure()\n",
    "plt.imshow(prof_wc, interpolation='bilinear')\n",
    "plt.axis(\"off\")\n",
    "plt.savefig(\"/home/ryandew/Dropbox/1_proj/logos_paper/fig/med_dev_wc.png\", dpi=100)"
   ]
  },
  {
   "cell_type": "code",
   "execution_count": 102,
   "metadata": {},
   "outputs": [
    {
     "data": {
      "text/html": [
       "<div>\n",
       "<style scoped>\n",
       "    .dataframe tbody tr th:only-of-type {\n",
       "        vertical-align: middle;\n",
       "    }\n",
       "\n",
       "    .dataframe tbody tr th {\n",
       "        vertical-align: top;\n",
       "    }\n",
       "\n",
       "    .dataframe thead th {\n",
       "        text-align: right;\n",
       "    }\n",
       "</style>\n",
       "<table border=\"1\" class=\"dataframe\">\n",
       "  <thead>\n",
       "    <tr style=\"text-align: right;\">\n",
       "      <th></th>\n",
       "      <th>Rel</th>\n",
       "      <th>Prob</th>\n",
       "    </tr>\n",
       "  </thead>\n",
       "  <tbody>\n",
       "    <tr>\n",
       "      <th>One color</th>\n",
       "      <td>0.097422</td>\n",
       "      <td>0.707506</td>\n",
       "    </tr>\n",
       "    <tr>\n",
       "      <th>Two colors</th>\n",
       "      <td>-0.982464</td>\n",
       "      <td>0.235690</td>\n",
       "    </tr>\n",
       "    <tr>\n",
       "      <th>Three colors</th>\n",
       "      <td>-2.528641</td>\n",
       "      <td>0.043495</td>\n",
       "    </tr>\n",
       "    <tr>\n",
       "      <th>More than three colors</th>\n",
       "      <td>-3.521173</td>\n",
       "      <td>0.013309</td>\n",
       "    </tr>\n",
       "  </tbody>\n",
       "</table>\n",
       "</div>"
      ],
      "text/plain": [
       "                             Rel      Prob\n",
       "One color               0.097422  0.707506\n",
       "Two colors             -0.982464  0.235690\n",
       "Three colors           -2.528641  0.043495\n",
       "More than three colors -3.521173  0.013309"
      ]
     },
     "execution_count": 102,
     "metadata": {},
     "output_type": "execute_result"
    }
   ],
   "source": [
    "md_prof['cat5']"
   ]
  },
  {
   "cell_type": "code",
   "execution_count": 13,
   "metadata": {},
   "outputs": [
    {
     "data": {
      "text/plain": [
       "array(['envision-healthcare-holdings',\n",
       "       'teachers-insurance-and-annuity-association', 'anthem',\n",
       "       'unum-group', 'humana-inc', 'first-american-financial-corporation',\n",
       "       'celgene', 'baxalta-incorporated', 'cigna', 'centene-corporation'],\n",
       "      dtype=object)"
      ]
     },
     "execution_count": 13,
     "metadata": {},
     "output_type": "execute_result"
    }
   ],
   "source": [
    "interp(finance_company, health_company)"
   ]
  },
  {
   "cell_type": "code",
   "execution_count": null,
   "metadata": {},
   "outputs": [],
   "source": []
  },
  {
   "cell_type": "markdown",
   "metadata": {},
   "source": [
    "## Shopping + {Data, Payments}"
   ]
  },
  {
   "cell_type": "code",
   "execution_count": 14,
   "metadata": {},
   "outputs": [],
   "source": [
    "payments_company = data.training.indus.cpu().numpy()[:,np.isin(indus_labels, [\"Payments\"])].max(1) == 1\n",
    "shopping_company = data.training.indus.cpu().numpy()[:,np.isin(indus_labels, [\"Commerce.and.Shopping\"])].max(1) == 1\n",
    "data_company = data.training.indus.cpu().numpy()[:,np.isin(indus_labels, [\"Data.and.Analytics\"])].max(1) == 1"
   ]
  },
  {
   "cell_type": "code",
   "execution_count": 15,
   "metadata": {},
   "outputs": [
    {
     "data": {
      "text/plain": [
       "array(['walmart', 'staples', 'kohls', 'old-navy', 'gamestop', 'chase',\n",
       "       'office-depot', 'family-dollar', 'capital-one', 'paypal'],\n",
       "      dtype=object)"
      ]
     },
     "execution_count": 15,
     "metadata": {},
     "output_type": "execute_result"
    }
   ],
   "source": [
    "interp(payments_company, shopping_company)"
   ]
  },
  {
   "cell_type": "code",
   "execution_count": 16,
   "metadata": {},
   "outputs": [
    {
     "data": {
      "text/plain": [
       "array(['essendant', 'navient-corporation', 'adobe', 'pitney-bowes-inc',\n",
       "       'gamestop', 'fiserv-inc', 'lawson-software', 'first-data-corp',\n",
       "       'walmart', 'staples'], dtype=object)"
      ]
     },
     "execution_count": 16,
     "metadata": {},
     "output_type": "execute_result"
    }
   ],
   "source": [
    "interp(shopping_company, data_company)"
   ]
  },
  {
   "cell_type": "markdown",
   "metadata": {},
   "source": [
    "## Daring Fast Food"
   ]
  },
  {
   "cell_type": "code",
   "execution_count": 17,
   "metadata": {
    "scrolled": true
   },
   "outputs": [],
   "source": [
    "daring_company = data.training.bp.cpu().numpy()[:, bp.columns == \"daring\"].flatten() > 2.\n",
    "fastfood_company = np.isin(end_names, [\"mcdonalds\",\"burger-king\",\"kfc\"])\n",
    "\n",
    "z_daring_ff = interp(daring_company, fastfood_company, return_z = True)\n",
    "\n",
    "pred_daring_ff = PredictNoVar(lmvae, torch.tensor(z_daring_ff).unsqueeze(0))\n",
    "prof_daring_ff = profile(pred_daring_ff, data.training, i=0)"
   ]
  },
  {
   "cell_type": "code",
   "execution_count": 18,
   "metadata": {},
   "outputs": [
    {
     "data": {
      "text/html": [
       "<div>\n",
       "<style scoped>\n",
       "    .dataframe tbody tr th:only-of-type {\n",
       "        vertical-align: middle;\n",
       "    }\n",
       "\n",
       "    .dataframe tbody tr th {\n",
       "        vertical-align: top;\n",
       "    }\n",
       "\n",
       "    .dataframe thead th {\n",
       "        text-align: right;\n",
       "    }\n",
       "</style>\n",
       "<table border=\"1\" class=\"dataframe\">\n",
       "  <thead>\n",
       "    <tr style=\"text-align: right;\">\n",
       "      <th></th>\n",
       "      <th>Rel Values</th>\n",
       "    </tr>\n",
       "  </thead>\n",
       "  <tbody>\n",
       "    <tr>\n",
       "      <th>cool</th>\n",
       "      <td>1.602592</td>\n",
       "    </tr>\n",
       "    <tr>\n",
       "      <th>trendy</th>\n",
       "      <td>1.489769</td>\n",
       "    </tr>\n",
       "    <tr>\n",
       "      <th>spirited</th>\n",
       "      <td>1.465249</td>\n",
       "    </tr>\n",
       "    <tr>\n",
       "      <th>exciting</th>\n",
       "      <td>1.421486</td>\n",
       "    </tr>\n",
       "    <tr>\n",
       "      <th>young</th>\n",
       "      <td>1.407487</td>\n",
       "    </tr>\n",
       "    <tr>\n",
       "      <th>original</th>\n",
       "      <td>1.372420</td>\n",
       "    </tr>\n",
       "    <tr>\n",
       "      <th>cheerful</th>\n",
       "      <td>1.238502</td>\n",
       "    </tr>\n",
       "    <tr>\n",
       "      <th>daring</th>\n",
       "      <td>1.228452</td>\n",
       "    </tr>\n",
       "    <tr>\n",
       "      <th>imaginative</th>\n",
       "      <td>1.167294</td>\n",
       "    </tr>\n",
       "    <tr>\n",
       "      <th>unique</th>\n",
       "      <td>1.031686</td>\n",
       "    </tr>\n",
       "    <tr>\n",
       "      <th>successful</th>\n",
       "      <td>1.016525</td>\n",
       "    </tr>\n",
       "    <tr>\n",
       "      <th>smooth</th>\n",
       "      <td>0.984856</td>\n",
       "    </tr>\n",
       "    <tr>\n",
       "      <th>good-looking</th>\n",
       "      <td>0.945971</td>\n",
       "    </tr>\n",
       "    <tr>\n",
       "      <th>charming</th>\n",
       "      <td>0.911415</td>\n",
       "    </tr>\n",
       "    <tr>\n",
       "      <th>contemporary</th>\n",
       "      <td>0.883497</td>\n",
       "    </tr>\n",
       "    <tr>\n",
       "      <th>leader</th>\n",
       "      <td>0.867098</td>\n",
       "    </tr>\n",
       "    <tr>\n",
       "      <th>friendly</th>\n",
       "      <td>0.825402</td>\n",
       "    </tr>\n",
       "    <tr>\n",
       "      <th>independent</th>\n",
       "      <td>0.815812</td>\n",
       "    </tr>\n",
       "    <tr>\n",
       "      <th>confident</th>\n",
       "      <td>0.705811</td>\n",
       "    </tr>\n",
       "    <tr>\n",
       "      <th>sentimental</th>\n",
       "      <td>0.603148</td>\n",
       "    </tr>\n",
       "    <tr>\n",
       "      <th>glamorous</th>\n",
       "      <td>0.600985</td>\n",
       "    </tr>\n",
       "    <tr>\n",
       "      <th>family-oriented</th>\n",
       "      <td>0.581662</td>\n",
       "    </tr>\n",
       "    <tr>\n",
       "      <th>up-to-date</th>\n",
       "      <td>0.515382</td>\n",
       "    </tr>\n",
       "    <tr>\n",
       "      <th>real</th>\n",
       "      <td>0.439497</td>\n",
       "    </tr>\n",
       "    <tr>\n",
       "      <th>down-to-earth</th>\n",
       "      <td>0.402825</td>\n",
       "    </tr>\n",
       "    <tr>\n",
       "      <th>outdoorsy</th>\n",
       "      <td>0.382898</td>\n",
       "    </tr>\n",
       "    <tr>\n",
       "      <th>western</th>\n",
       "      <td>0.361623</td>\n",
       "    </tr>\n",
       "    <tr>\n",
       "      <th>feminine</th>\n",
       "      <td>0.349678</td>\n",
       "    </tr>\n",
       "    <tr>\n",
       "      <th>wholesome</th>\n",
       "      <td>0.212526</td>\n",
       "    </tr>\n",
       "    <tr>\n",
       "      <th>masculine</th>\n",
       "      <td>0.154187</td>\n",
       "    </tr>\n",
       "    <tr>\n",
       "      <th>honest</th>\n",
       "      <td>0.114611</td>\n",
       "    </tr>\n",
       "    <tr>\n",
       "      <th>sincere</th>\n",
       "      <td>0.113727</td>\n",
       "    </tr>\n",
       "    <tr>\n",
       "      <th>rugged</th>\n",
       "      <td>0.094840</td>\n",
       "    </tr>\n",
       "    <tr>\n",
       "      <th>tough</th>\n",
       "      <td>-0.000245</td>\n",
       "    </tr>\n",
       "    <tr>\n",
       "      <th>small-town</th>\n",
       "      <td>-0.174732</td>\n",
       "    </tr>\n",
       "    <tr>\n",
       "      <th>reliable</th>\n",
       "      <td>-0.176655</td>\n",
       "    </tr>\n",
       "    <tr>\n",
       "      <th>secure</th>\n",
       "      <td>-0.196940</td>\n",
       "    </tr>\n",
       "    <tr>\n",
       "      <th>upper-class</th>\n",
       "      <td>-0.207091</td>\n",
       "    </tr>\n",
       "    <tr>\n",
       "      <th>corporate</th>\n",
       "      <td>-0.348422</td>\n",
       "    </tr>\n",
       "    <tr>\n",
       "      <th>hard-working</th>\n",
       "      <td>-0.441948</td>\n",
       "    </tr>\n",
       "    <tr>\n",
       "      <th>intelligent</th>\n",
       "      <td>-0.630211</td>\n",
       "    </tr>\n",
       "    <tr>\n",
       "      <th>technical</th>\n",
       "      <td>-0.786676</td>\n",
       "    </tr>\n",
       "  </tbody>\n",
       "</table>\n",
       "</div>"
      ],
      "text/plain": [
       "                 Rel Values\n",
       "cool               1.602592\n",
       "trendy             1.489769\n",
       "spirited           1.465249\n",
       "exciting           1.421486\n",
       "young              1.407487\n",
       "original           1.372420\n",
       "cheerful           1.238502\n",
       "daring             1.228452\n",
       "imaginative        1.167294\n",
       "unique             1.031686\n",
       "successful         1.016525\n",
       "smooth             0.984856\n",
       "good-looking       0.945971\n",
       "charming           0.911415\n",
       "contemporary       0.883497\n",
       "leader             0.867098\n",
       "friendly           0.825402\n",
       "independent        0.815812\n",
       "confident          0.705811\n",
       "sentimental        0.603148\n",
       "glamorous          0.600985\n",
       "family-oriented    0.581662\n",
       "up-to-date         0.515382\n",
       "real               0.439497\n",
       "down-to-earth      0.402825\n",
       "outdoorsy          0.382898\n",
       "western            0.361623\n",
       "feminine           0.349678\n",
       "wholesome          0.212526\n",
       "masculine          0.154187\n",
       "honest             0.114611\n",
       "sincere            0.113727\n",
       "rugged             0.094840\n",
       "tough             -0.000245\n",
       "small-town        -0.174732\n",
       "reliable          -0.176655\n",
       "secure            -0.196940\n",
       "upper-class       -0.207091\n",
       "corporate         -0.348422\n",
       "hard-working      -0.441948\n",
       "intelligent       -0.630211\n",
       "technical         -0.786676"
      ]
     },
     "execution_count": 18,
     "metadata": {},
     "output_type": "execute_result"
    }
   ],
   "source": [
    "prof_daring_ff['bp']"
   ]
  },
  {
   "cell_type": "markdown",
   "metadata": {},
   "source": [
    "# Decision support"
   ]
  },
  {
   "cell_type": "markdown",
   "metadata": {},
   "source": [
    "## McDonald's Analysis"
   ]
  },
  {
   "cell_type": "code",
   "execution_count": 103,
   "metadata": {},
   "outputs": [],
   "source": [
    "from model import NewZ, Predict"
   ]
  },
  {
   "cell_type": "code",
   "execution_count": 104,
   "metadata": {},
   "outputs": [],
   "source": [
    "new_mcds1 = NewCompany(name = \"mcdonalds1\", noptions = noptions, read_dir = \"../../extract_features/new_logo_outputs/\")\n",
    "new_mcds1.make_torch(cuda = True)\n",
    "z_mcds1 = NewZ(lmvae, new_mcds1, network = \"mgr\")\n",
    "\n",
    "new_mcds2 = NewCompany(name = \"mcdonalds2\", noptions = noptions, read_dir = \"../../extract_features/new_logo_outputs/\")\n",
    "new_mcds2.make_torch(cuda = True)\n",
    "z_mcds2 = NewZ(lmvae, new_mcds2, network = \"mgr\")\n",
    "\n",
    "new_mcds0 = NewCompany(name = \"mcdonalds-old\", noptions = noptions, read_dir = \"../../extract_features/new_logo_outputs/\")\n",
    "new_mcds0.make_torch(cuda = True)\n",
    "z_mcds0 = NewZ(lmvae, new_mcds0, network = \"mgr\")"
   ]
  },
  {
   "cell_type": "code",
   "execution_count": 105,
   "metadata": {},
   "outputs": [],
   "source": [
    "pred_mcds1 = Predict(lmvae, z = z_mcds1)\n",
    "pred_mcds2 = Predict(lmvae, z = z_mcds2)\n",
    "pred_mcds0 = Predict(lmvae, z = z_mcds0)"
   ]
  },
  {
   "cell_type": "code",
   "execution_count": 106,
   "metadata": {},
   "outputs": [
    {
     "data": {
      "text/plain": [
       "array([[ 0.7786126 ,  1.3427993 , -0.07380544, -0.22983912, -0.03620828,\n",
       "        -0.5147934 , -0.46841505,  1.5057267 , -0.32523847,  1.5465856 ,\n",
       "         0.23010664,  1.3810165 , -0.57667214, -0.00854469,  0.20281427,\n",
       "         1.1664643 ,  0.14144413,  0.23728015, -0.7371661 ,  0.64793724,\n",
       "        -0.55012584,  0.6570883 ,  0.14230578,  0.69717705,  0.67771894,\n",
       "        -0.16260077,  0.04161431,  1.022491  ,  0.9349331 ,  1.0878948 ,\n",
       "        -0.04734574,  0.47858375,  0.99354327, -1.3779832 , -0.43022326,\n",
       "        -0.03382719, -0.21388194, -0.5251843 , -1.2505947 ,  0.45083225,\n",
       "         1.5722853 ,  0.09597328]], dtype=float32)"
      ]
     },
     "execution_count": 106,
     "metadata": {},
     "output_type": "execute_result"
    }
   ],
   "source": [
    "pred_mcds1.bp"
   ]
  },
  {
   "cell_type": "code",
   "execution_count": 107,
   "metadata": {
    "scrolled": true
   },
   "outputs": [
    {
     "data": {
      "text/plain": [
       "array([[ 1.1515081 ,  1.6745219 ,  0.11009625,  0.19954807,  0.28506824,\n",
       "        -0.51006466, -0.17629752,  1.5787023 ,  0.01310732,  1.7199411 ,\n",
       "         0.40555623,  1.6990634 , -0.38697743,  0.28548503,  0.27999964,\n",
       "         1.3583322 ,  0.5308141 ,  0.42671433, -0.4113594 ,  0.6869684 ,\n",
       "        -0.76087165,  0.86263984,  0.05995011,  0.85195094,  0.7954424 ,\n",
       "        -0.37990564,  0.18174212,  1.2573583 ,  1.2512184 ,  0.95745546,\n",
       "         0.2333874 ,  0.88535583,  0.98708016, -1.2522377 , -0.5783378 ,\n",
       "         0.29281002,  0.18810453, -0.17005928, -1.0713657 ,  0.25302184,\n",
       "         1.7676016 ,  0.36770958]], dtype=float32)"
      ]
     },
     "execution_count": 107,
     "metadata": {},
     "output_type": "execute_result"
    }
   ],
   "source": [
    "pred_mcds2.bp"
   ]
  },
  {
   "cell_type": "code",
   "execution_count": 108,
   "metadata": {
    "scrolled": true
   },
   "outputs": [
    {
     "data": {
      "text/plain": [
       "array([[ 1.0068388 ,  1.6576524 , -0.12899235, -0.27012277, -0.01950932,\n",
       "        -0.61903167, -0.5251283 ,  1.7404244 , -0.31854028,  1.8946688 ,\n",
       "         0.24791133,  1.7187783 , -0.6240067 , -0.03088813,  0.23833029,\n",
       "         1.3211406 ,  0.13656844,  0.23806687, -0.8158253 ,  0.57538205,\n",
       "        -0.5870115 ,  0.6401605 ,  0.23370259,  0.7793769 ,  0.7192278 ,\n",
       "        -0.17098561,  0.0656357 ,  1.3799022 ,  1.1383007 ,  1.3277435 ,\n",
       "        -0.01912665,  0.62522113,  0.97624815, -1.550736  , -0.50978434,\n",
       "        -0.07874393, -0.23506315, -0.6367634 , -1.3320117 ,  0.5974385 ,\n",
       "         1.9032767 ,  0.07531755]], dtype=float32)"
      ]
     },
     "execution_count": 108,
     "metadata": {},
     "output_type": "execute_result"
    }
   ],
   "source": [
    "pred_mcds0.bp"
   ]
  },
  {
   "cell_type": "code",
   "execution_count": 109,
   "metadata": {},
   "outputs": [],
   "source": [
    "out = pd.DataFrame(np.vstack([bp.columns, pred_mcds1.bp, pred_mcds2.bp, pred_mcds0.bp]).T)\n",
    "out.to_csv(\"../../mcdonalds/new_model_mcd_bp.csv\")"
   ]
  },
  {
   "cell_type": "markdown",
   "metadata": {},
   "source": [
    "## Shake Shack / In-n-Out Analysis"
   ]
  },
  {
   "cell_type": "code",
   "execution_count": 26,
   "metadata": {},
   "outputs": [],
   "source": [
    "from model import Predict"
   ]
  },
  {
   "cell_type": "code",
   "execution_count": 27,
   "metadata": {
    "scrolled": true
   },
   "outputs": [],
   "source": [
    "data_ss = NewCompany(name = \"shake-shack\", noptions = noptions, read_dir = \"../../extract_features/new_logo_outputs/\")\n",
    "data_ss.make_torch(cuda = True)\n",
    "z_ss = MultiviewZ(lmvae, data_ss)"
   ]
  },
  {
   "cell_type": "code",
   "execution_count": 28,
   "metadata": {},
   "outputs": [],
   "source": [
    "data_ino = NewCompany(name = \"in-n-out\", noptions = noptions, read_dir = \"../../extract_features/new_logo_outputs/\")\n",
    "data_ino.make_torch(cuda = True)\n",
    "z_ino = MultiviewZ(lmvae, data_ino)"
   ]
  },
  {
   "cell_type": "code",
   "execution_count": 29,
   "metadata": {},
   "outputs": [],
   "source": [
    "pred_ss = Predict(lmvae, z_ss.des)\n",
    "prof_ss = profile(pred_ss, data.training)"
   ]
  },
  {
   "cell_type": "code",
   "execution_count": 30,
   "metadata": {
    "scrolled": true
   },
   "outputs": [
    {
     "data": {
      "text/html": [
       "<div>\n",
       "<style scoped>\n",
       "    .dataframe tbody tr th:only-of-type {\n",
       "        vertical-align: middle;\n",
       "    }\n",
       "\n",
       "    .dataframe tbody tr th {\n",
       "        vertical-align: top;\n",
       "    }\n",
       "\n",
       "    .dataframe thead th {\n",
       "        text-align: right;\n",
       "    }\n",
       "</style>\n",
       "<table border=\"1\" class=\"dataframe\">\n",
       "  <thead>\n",
       "    <tr style=\"text-align: right;\">\n",
       "      <th></th>\n",
       "      <th>Rel Prob</th>\n",
       "      <th>Prob</th>\n",
       "    </tr>\n",
       "  </thead>\n",
       "  <tbody>\n",
       "    <tr>\n",
       "      <th>Mark: Has a mark</th>\n",
       "      <td>0.084460</td>\n",
       "      <td>0.966896</td>\n",
       "    </tr>\n",
       "    <tr>\n",
       "      <th>Font slant: None (non-italics)</th>\n",
       "      <td>0.109088</td>\n",
       "      <td>0.946198</td>\n",
       "    </tr>\n",
       "    <tr>\n",
       "      <th>Font width: Ordinary</th>\n",
       "      <td>0.105398</td>\n",
       "      <td>0.904265</td>\n",
       "    </tr>\n",
       "    <tr>\n",
       "      <th>Has the color: Black</th>\n",
       "      <td>0.296673</td>\n",
       "      <td>0.676277</td>\n",
       "    </tr>\n",
       "    <tr>\n",
       "      <th>Has the color: Light Grey</th>\n",
       "      <td>0.369502</td>\n",
       "      <td>0.668368</td>\n",
       "    </tr>\n",
       "    <tr>\n",
       "      <th>...</th>\n",
       "      <td>...</td>\n",
       "      <td>...</td>\n",
       "    </tr>\n",
       "    <tr>\n",
       "      <th>Color saturation: High</th>\n",
       "      <td>-0.217557</td>\n",
       "      <td>0.013321</td>\n",
       "    </tr>\n",
       "    <tr>\n",
       "      <th>Mark position: toward the bottom of the logo</th>\n",
       "      <td>-0.015558</td>\n",
       "      <td>0.009937</td>\n",
       "    </tr>\n",
       "    <tr>\n",
       "      <th>Font class: Old Style</th>\n",
       "      <td>-0.020732</td>\n",
       "      <td>0.009013</td>\n",
       "    </tr>\n",
       "    <tr>\n",
       "      <th>Font class: Slab</th>\n",
       "      <td>-0.013611</td>\n",
       "      <td>0.003386</td>\n",
       "    </tr>\n",
       "    <tr>\n",
       "      <th>Design: No characters (just a mark)</th>\n",
       "      <td>-0.016223</td>\n",
       "      <td>0.000774</td>\n",
       "    </tr>\n",
       "  </tbody>\n",
       "</table>\n",
       "<p>84 rows × 2 columns</p>\n",
       "</div>"
      ],
      "text/plain": [
       "                                              Rel Prob      Prob\n",
       "Mark: Has a mark                              0.084460  0.966896\n",
       "Font slant: None (non-italics)                0.109088  0.946198\n",
       "Font width: Ordinary                          0.105398  0.904265\n",
       "Has the color: Black                          0.296673  0.676277\n",
       "Has the color: Light Grey                     0.369502  0.668368\n",
       "...                                                ...       ...\n",
       "Color saturation: High                       -0.217557  0.013321\n",
       "Mark position: toward the bottom of the logo -0.015558  0.009937\n",
       "Font class: Old Style                        -0.020732  0.009013\n",
       "Font class: Slab                             -0.013611  0.003386\n",
       "Design: No characters (just a mark)          -0.016223  0.000774\n",
       "\n",
       "[84 rows x 2 columns]"
      ]
     },
     "execution_count": 30,
     "metadata": {},
     "output_type": "execute_result"
    }
   ],
   "source": [
    "prof_ss[\"bin\"]"
   ]
  },
  {
   "cell_type": "code",
   "execution_count": 31,
   "metadata": {},
   "outputs": [
    {
     "data": {
      "text/html": [
       "<div>\n",
       "<style scoped>\n",
       "    .dataframe tbody tr th:only-of-type {\n",
       "        vertical-align: middle;\n",
       "    }\n",
       "\n",
       "    .dataframe tbody tr th {\n",
       "        vertical-align: top;\n",
       "    }\n",
       "\n",
       "    .dataframe thead th {\n",
       "        text-align: right;\n",
       "    }\n",
       "</style>\n",
       "<table border=\"1\" class=\"dataframe\">\n",
       "  <thead>\n",
       "    <tr style=\"text-align: right;\">\n",
       "      <th></th>\n",
       "      <th>Rel Prob</th>\n",
       "      <th>Prob</th>\n",
       "    </tr>\n",
       "  </thead>\n",
       "  <tbody>\n",
       "    <tr>\n",
       "      <th>Black</th>\n",
       "      <td>0.249680</td>\n",
       "      <td>0.518802</td>\n",
       "    </tr>\n",
       "    <tr>\n",
       "      <th>Dark Grey</th>\n",
       "      <td>0.115548</td>\n",
       "      <td>0.163706</td>\n",
       "    </tr>\n",
       "    <tr>\n",
       "      <th>Red</th>\n",
       "      <td>-0.076085</td>\n",
       "      <td>0.072640</td>\n",
       "    </tr>\n",
       "    <tr>\n",
       "      <th>Dark Blue</th>\n",
       "      <td>-0.013986</td>\n",
       "      <td>0.063918</td>\n",
       "    </tr>\n",
       "    <tr>\n",
       "      <th>Light Grey</th>\n",
       "      <td>0.029844</td>\n",
       "      <td>0.045424</td>\n",
       "    </tr>\n",
       "    <tr>\n",
       "      <th>Blue</th>\n",
       "      <td>-0.199333</td>\n",
       "      <td>0.035795</td>\n",
       "    </tr>\n",
       "    <tr>\n",
       "      <th>Brown</th>\n",
       "      <td>0.021995</td>\n",
       "      <td>0.034743</td>\n",
       "    </tr>\n",
       "    <tr>\n",
       "      <th>Light Green</th>\n",
       "      <td>0.009013</td>\n",
       "      <td>0.030260</td>\n",
       "    </tr>\n",
       "    <tr>\n",
       "      <th>Dark Green</th>\n",
       "      <td>-0.025752</td>\n",
       "      <td>0.013908</td>\n",
       "    </tr>\n",
       "    <tr>\n",
       "      <th>Light Blue</th>\n",
       "      <td>-0.070527</td>\n",
       "      <td>0.007377</td>\n",
       "    </tr>\n",
       "    <tr>\n",
       "      <th>Dark Red</th>\n",
       "      <td>-0.015416</td>\n",
       "      <td>0.007247</td>\n",
       "    </tr>\n",
       "    <tr>\n",
       "      <th>Orange</th>\n",
       "      <td>-0.012316</td>\n",
       "      <td>0.006098</td>\n",
       "    </tr>\n",
       "    <tr>\n",
       "      <th>Yellow</th>\n",
       "      <td>-0.012666</td>\n",
       "      <td>0.000082</td>\n",
       "    </tr>\n",
       "  </tbody>\n",
       "</table>\n",
       "</div>"
      ],
      "text/plain": [
       "             Rel Prob      Prob\n",
       "Black        0.249680  0.518802\n",
       "Dark Grey    0.115548  0.163706\n",
       "Red         -0.076085  0.072640\n",
       "Dark Blue   -0.013986  0.063918\n",
       "Light Grey   0.029844  0.045424\n",
       "Blue        -0.199333  0.035795\n",
       "Brown        0.021995  0.034743\n",
       "Light Green  0.009013  0.030260\n",
       "Dark Green  -0.025752  0.013908\n",
       "Light Blue  -0.070527  0.007377\n",
       "Dark Red    -0.015416  0.007247\n",
       "Orange      -0.012316  0.006098\n",
       "Yellow      -0.012666  0.000082"
      ]
     },
     "execution_count": 31,
     "metadata": {},
     "output_type": "execute_result"
    }
   ],
   "source": [
    "prof_ss[\"cat1\"]"
   ]
  },
  {
   "cell_type": "code",
   "execution_count": 32,
   "metadata": {},
   "outputs": [],
   "source": [
    "pred_ino = Predict(lmvae, z_ino.des)\n",
    "prof_ino = profile(pred_ino, data.training)"
   ]
  },
  {
   "cell_type": "code",
   "execution_count": 33,
   "metadata": {
    "scrolled": true
   },
   "outputs": [
    {
     "data": {
      "text/html": [
       "<div>\n",
       "<style scoped>\n",
       "    .dataframe tbody tr th:only-of-type {\n",
       "        vertical-align: middle;\n",
       "    }\n",
       "\n",
       "    .dataframe tbody tr th {\n",
       "        vertical-align: top;\n",
       "    }\n",
       "\n",
       "    .dataframe thead th {\n",
       "        text-align: right;\n",
       "    }\n",
       "</style>\n",
       "<table border=\"1\" class=\"dataframe\">\n",
       "  <thead>\n",
       "    <tr style=\"text-align: right;\">\n",
       "      <th></th>\n",
       "      <th>Rel Prob</th>\n",
       "      <th>Prob</th>\n",
       "    </tr>\n",
       "  </thead>\n",
       "  <tbody>\n",
       "    <tr>\n",
       "      <th>Mark: Has a mark</th>\n",
       "      <td>0.067079</td>\n",
       "      <td>0.949515</td>\n",
       "    </tr>\n",
       "    <tr>\n",
       "      <th>Font slant: None (non-italics)</th>\n",
       "      <td>0.006667</td>\n",
       "      <td>0.843777</td>\n",
       "    </tr>\n",
       "    <tr>\n",
       "      <th>Font weight: Bold</th>\n",
       "      <td>0.115462</td>\n",
       "      <td>0.813762</td>\n",
       "    </tr>\n",
       "    <tr>\n",
       "      <th>Font width: Ordinary</th>\n",
       "      <td>-0.020618</td>\n",
       "      <td>0.778249</td>\n",
       "    </tr>\n",
       "    <tr>\n",
       "      <th>Has the color: Red</th>\n",
       "      <td>0.457686</td>\n",
       "      <td>0.719726</td>\n",
       "    </tr>\n",
       "    <tr>\n",
       "      <th>...</th>\n",
       "      <td>...</td>\n",
       "      <td>...</td>\n",
       "    </tr>\n",
       "    <tr>\n",
       "      <th>Font class: Old Style</th>\n",
       "      <td>-0.021645</td>\n",
       "      <td>0.008100</td>\n",
       "    </tr>\n",
       "    <tr>\n",
       "      <th>Mark position: underneath the brand name</th>\n",
       "      <td>-0.004808</td>\n",
       "      <td>0.007940</td>\n",
       "    </tr>\n",
       "    <tr>\n",
       "      <th>Color saturation: Grayscale</th>\n",
       "      <td>-0.073383</td>\n",
       "      <td>0.005937</td>\n",
       "    </tr>\n",
       "    <tr>\n",
       "      <th>Mark position: toward the bottom of the logo</th>\n",
       "      <td>-0.020113</td>\n",
       "      <td>0.005383</td>\n",
       "    </tr>\n",
       "    <tr>\n",
       "      <th>Color saturation: Low</th>\n",
       "      <td>-0.221681</td>\n",
       "      <td>0.004948</td>\n",
       "    </tr>\n",
       "  </tbody>\n",
       "</table>\n",
       "<p>84 rows × 2 columns</p>\n",
       "</div>"
      ],
      "text/plain": [
       "                                              Rel Prob      Prob\n",
       "Mark: Has a mark                              0.067079  0.949515\n",
       "Font slant: None (non-italics)                0.006667  0.843777\n",
       "Font weight: Bold                             0.115462  0.813762\n",
       "Font width: Ordinary                         -0.020618  0.778249\n",
       "Has the color: Red                            0.457686  0.719726\n",
       "...                                                ...       ...\n",
       "Font class: Old Style                        -0.021645  0.008100\n",
       "Mark position: underneath the brand name     -0.004808  0.007940\n",
       "Color saturation: Grayscale                  -0.073383  0.005937\n",
       "Mark position: toward the bottom of the logo -0.020113  0.005383\n",
       "Color saturation: Low                        -0.221681  0.004948\n",
       "\n",
       "[84 rows x 2 columns]"
      ]
     },
     "execution_count": 33,
     "metadata": {},
     "output_type": "execute_result"
    }
   ],
   "source": [
    "prof_ino[\"bin\"]"
   ]
  },
  {
   "cell_type": "code",
   "execution_count": 34,
   "metadata": {
    "scrolled": true
   },
   "outputs": [
    {
     "data": {
      "text/html": [
       "<div>\n",
       "<style scoped>\n",
       "    .dataframe tbody tr th:only-of-type {\n",
       "        vertical-align: middle;\n",
       "    }\n",
       "\n",
       "    .dataframe tbody tr th {\n",
       "        vertical-align: top;\n",
       "    }\n",
       "\n",
       "    .dataframe thead th {\n",
       "        text-align: right;\n",
       "    }\n",
       "</style>\n",
       "<table border=\"1\" class=\"dataframe\">\n",
       "  <thead>\n",
       "    <tr style=\"text-align: right;\">\n",
       "      <th></th>\n",
       "      <th>Rel Prob</th>\n",
       "      <th>Prob</th>\n",
       "    </tr>\n",
       "  </thead>\n",
       "  <tbody>\n",
       "    <tr>\n",
       "      <th>Red</th>\n",
       "      <td>0.501976</td>\n",
       "      <td>0.650701</td>\n",
       "    </tr>\n",
       "    <tr>\n",
       "      <th>Blue</th>\n",
       "      <td>-0.110375</td>\n",
       "      <td>0.124752</td>\n",
       "    </tr>\n",
       "    <tr>\n",
       "      <th>Orange</th>\n",
       "      <td>0.056214</td>\n",
       "      <td>0.074627</td>\n",
       "    </tr>\n",
       "    <tr>\n",
       "      <th>Dark Blue</th>\n",
       "      <td>-0.027217</td>\n",
       "      <td>0.050687</td>\n",
       "    </tr>\n",
       "    <tr>\n",
       "      <th>Dark Green</th>\n",
       "      <td>-0.009781</td>\n",
       "      <td>0.029879</td>\n",
       "    </tr>\n",
       "    <tr>\n",
       "      <th>Light Green</th>\n",
       "      <td>-0.003276</td>\n",
       "      <td>0.017971</td>\n",
       "    </tr>\n",
       "    <tr>\n",
       "      <th>Black</th>\n",
       "      <td>-0.254703</td>\n",
       "      <td>0.014418</td>\n",
       "    </tr>\n",
       "    <tr>\n",
       "      <th>Dark Red</th>\n",
       "      <td>-0.010636</td>\n",
       "      <td>0.012027</td>\n",
       "    </tr>\n",
       "    <tr>\n",
       "      <th>Yellow</th>\n",
       "      <td>-0.001523</td>\n",
       "      <td>0.011225</td>\n",
       "    </tr>\n",
       "    <tr>\n",
       "      <th>Light Blue</th>\n",
       "      <td>-0.069720</td>\n",
       "      <td>0.008183</td>\n",
       "    </tr>\n",
       "    <tr>\n",
       "      <th>Dark Grey</th>\n",
       "      <td>-0.044997</td>\n",
       "      <td>0.003162</td>\n",
       "    </tr>\n",
       "    <tr>\n",
       "      <th>Brown</th>\n",
       "      <td>-0.010639</td>\n",
       "      <td>0.002109</td>\n",
       "    </tr>\n",
       "    <tr>\n",
       "      <th>Light Grey</th>\n",
       "      <td>-0.015323</td>\n",
       "      <td>0.000258</td>\n",
       "    </tr>\n",
       "  </tbody>\n",
       "</table>\n",
       "</div>"
      ],
      "text/plain": [
       "             Rel Prob      Prob\n",
       "Red          0.501976  0.650701\n",
       "Blue        -0.110375  0.124752\n",
       "Orange       0.056214  0.074627\n",
       "Dark Blue   -0.027217  0.050687\n",
       "Dark Green  -0.009781  0.029879\n",
       "Light Green -0.003276  0.017971\n",
       "Black       -0.254703  0.014418\n",
       "Dark Red    -0.010636  0.012027\n",
       "Yellow      -0.001523  0.011225\n",
       "Light Blue  -0.069720  0.008183\n",
       "Dark Grey   -0.044997  0.003162\n",
       "Brown       -0.010639  0.002109\n",
       "Light Grey  -0.015323  0.000258"
      ]
     },
     "execution_count": 34,
     "metadata": {},
     "output_type": "execute_result"
    }
   ],
   "source": [
    "prof_ino[\"cat1\"]"
   ]
  },
  {
   "cell_type": "markdown",
   "metadata": {},
   "source": [
    "# Data Summary Table"
   ]
  },
  {
   "cell_type": "code",
   "execution_count": null,
   "metadata": {},
   "outputs": [],
   "source": []
  }
 ],
 "metadata": {
  "kernelspec": {
   "display_name": "pyro",
   "language": "python",
   "name": "pyro"
  },
  "language_info": {
   "codemirror_mode": {
    "name": "ipython",
    "version": 3
   },
   "file_extension": ".py",
   "mimetype": "text/x-python",
   "name": "python",
   "nbconvert_exporter": "python",
   "pygments_lexer": "ipython3",
   "version": "3.7.7"
  }
 },
 "nbformat": 4,
 "nbformat_minor": 2
}
