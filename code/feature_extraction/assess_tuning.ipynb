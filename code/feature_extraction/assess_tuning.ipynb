{
 "cells": [
  {
   "cell_type": "code",
   "execution_count": 1,
   "metadata": {},
   "outputs": [],
   "source": [
    "name = \"abbott-labs\"\n",
    "\n",
    "bgval=255\n",
    "subsample=10000\n",
    "erosion_radius=3\n",
    "pc_cutoff=2.5 # 3 before seemed okay\n",
    "name_low_pc_score=0.7\n",
    "name_high_pc_score=0.6 # prev val 0.6 was pretty good\n",
    "low_pc_score=0.85\n",
    "high_pc_score=0.8\n",
    "i_score=0.99\n",
    "o_score=0.85\n",
    "amp_score=0.6\n",
    "top_tolerance=0.05 \n",
    "region_cutoff_perc=0.001\n",
    "mark_eps_frac=0.0001 # mark_eps = 15\n",
    "mark_frac_cutoff=0.005 # this was 0.01\n",
    "min_dist_corners=5\n",
    "entropy_disk_size=20\n",
    "grey_thresh=0.9\n",
    "qmr_cutoff=0.9\n",
    "pc_diff_limit=2.0"
   ]
  },
  {
   "cell_type": "code",
   "execution_count": 2,
   "metadata": {},
   "outputs": [],
   "source": [
    "# DEFINING ONE SUPER EXTRACTION FUNCTION WITH THE TUNING PARAMETERS EXPLICITLY DEFINED\n",
    "\n",
    "import os\n",
    "import warnings\n",
    "import numpy as np\n",
    "import pandas as pd\n",
    "import math\n",
    "\n",
    "from matplotlib import pyplot as plt\n",
    "%matplotlib inline\n",
    "\n",
    "from PIL import Image\n",
    "\n",
    "from skimage import measure, io, color, feature, morphology\n",
    "from skimage.transform import resize, rescale\n",
    "from skimage.measure import label, regionprops\n",
    "from skimage.color import label2rgb\n",
    "from skimage.morphology import convex_hull_image, disk\n",
    "from skimage.filters.rank import entropy\n",
    "\n",
    "from scipy.stats import mode\n",
    "import scipy.misc\n",
    "\n",
    "from sklearn.cluster import DBSCAN, KMeans\n",
    "\n",
    "from collections import OrderedDict\n",
    "\n",
    "try:\n",
    "    os.chdir(\"/media/ryan/hdd/Dropbox/1_proj/logos/code/extract_features/\")\n",
    "except:\n",
    "    os.chdir(\"/Users/ryan/Dropbox/1_proj/logos/code/extract_features/\")\n",
    "\n",
    "from segmentation_functions import *\n",
    "\n",
    "try:\n",
    "    os.chdir(\"/media/ryan/hdd/Dropbox/1_proj/logos/\")\n",
    "except:\n",
    "    os.chdir(\"/Users/ryan/Dropbox/1_proj/logos/\")"
   ]
  },
  {
   "cell_type": "code",
   "execution_count": 3,
   "metadata": {},
   "outputs": [],
   "source": [
    "img = io.imread(\"data/new_sources/logos/\" + name + \".png\")\n",
    "fontdf = pd.read_csv(\"data/labeled_fonts_amp_wide.csv\")\n",
    "fontmat = fontdf.iloc[:,0:625].values.astype('float')"
   ]
  },
  {
   "cell_type": "code",
   "execution_count": 4,
   "metadata": {},
   "outputs": [
    {
     "data": {
      "text/plain": [
       "<matplotlib.image.AxesImage at 0x1c13736550>"
      ]
     },
     "execution_count": 4,
     "metadata": {},
     "output_type": "execute_result"
    },
    {
     "data": {
      "image/png": "[encoded data removed]",
      "text/plain": [
       "<matplotlib.figure.Figure at 0x103147780>"
      ]
     },
     "metadata": {},
     "output_type": "display_data"
    }
   ],
   "source": [
    "### Pre-process the logo:  ----------------------------------------------------------------------\n",
    "\n",
    "img = standardize(img)\n",
    "img = remove_white_bg(img)\n",
    "img = add_padding(img, bgval=bgval)\n",
    "\n",
    "plt.imshow(img)"
   ]
  },
  {
   "cell_type": "code",
   "execution_count": 5,
   "metadata": {},
   "outputs": [
    {
     "data": {
      "text/plain": [
       "(-0.5, 399.5, 162.5, -0.5)"
      ]
     },
     "execution_count": 5,
     "metadata": {},
     "output_type": "execute_result"
    },
    {
     "data": {
      "image/png": "[encoded data removed]",
      "text/plain": [
       "<matplotlib.figure.Figure at 0x103112898>"
      ]
     },
     "metadata": {},
     "output_type": "display_data"
    }
   ],
   "source": [
    "### Segment the image and isolate characters  ----------------------------------------------------------------------\n",
    "\n",
    "# Segment the image by color regions:\n",
    "\n",
    "quantized, centers, color_df = hsv_segmentation(img, name=name, subsample=subsample)\n",
    "small_feats, feat_cols, areas, fracs, regionalized = extract_features(quantized, centers, region_cutoff_perc=region_cutoff_perc)\n",
    "\n",
    "\n",
    "plt.imshow(regionalized, cmap=\"nipy_spectral\")\n",
    "plt.axis('off')"
   ]
  },
  {
   "cell_type": "code",
   "execution_count": 6,
   "metadata": {},
   "outputs": [
    {
     "data": {
      "image/png": "[encoded data removed]",
      "text/plain": [
       "<matplotlib.figure.Figure at 0x1c12b2fac8>"
      ]
     },
     "metadata": {},
     "output_type": "display_data"
    },
    {
     "data": {
      "image/png": "[encoded data removed]",
      "text/plain": [
       "<matplotlib.figure.Figure at 0x1c12b15358>"
      ]
     },
     "metadata": {},
     "output_type": "display_data"
    },
    {
     "data": {
      "image/png": "[encoded data removed]",
      "text/plain": [
       "<matplotlib.figure.Figure at 0x1c12a93208>"
      ]
     },
     "metadata": {},
     "output_type": "display_data"
    },
    {
     "data": {
      "image/png": "[encoded data removed]",
      "text/plain": [
       "<matplotlib.figure.Figure at 0x1c12c56f28>"
      ]
     },
     "metadata": {},
     "output_type": "display_data"
    },
    {
     "data": {
      "image/png": "[encoded data removed]",
      "text/plain": [
       "<matplotlib.figure.Figure at 0x1c12a98a20>"
      ]
     },
     "metadata": {},
     "output_type": "display_data"
    },
    {
     "data": {
      "image/png": "[encoded data removed]",
      "text/plain": [
       "<matplotlib.figure.Figure at 0x1c12f3aba8>"
      ]
     },
     "metadata": {},
     "output_type": "display_data"
    }
   ],
   "source": [
    "# Match features to fonts:\n",
    "\n",
    "is_char, char_match, remaining_letters = detect_chars(small_feats, fontdf, name=name, \n",
    "                                                      pc_cutoff=pc_cutoff, \n",
    "                                                      name_low_pc_score=name_low_pc_score, \n",
    "                                                      name_high_pc_score=name_high_pc_score, \n",
    "                                                      low_pc_score=low_pc_score, high_pc_score=high_pc_score, \n",
    "                                                      i_score=i_score, \n",
    "                                                      o_score=o_score,\n",
    "                                                      amp_score=amp_score,\n",
    "                                                      top_tolerance=top_tolerance,\n",
    "                                                     pc_diff_limit=pc_diff_limit)\n",
    "\n",
    "letters_found = fontdf['letter'][char_match[is_char]].as_matrix()\n",
    "if letters_found.size > 0:\n",
    "    l = 0\n",
    "    for s in range(small_feats.shape[2]):\n",
    "        if is_char[s]:\n",
    "            plt.figure(figsize=(1,1))\n",
    "            plt.title(letters_found[l])\n",
    "            plt.imshow(small_feats[:,:,s], interpolation='nearest', cmap='gray')\n",
    "            l += 1"
   ]
  },
  {
   "cell_type": "markdown",
   "metadata": {},
   "source": [
    "Explore the intricacies of detect chars, i.e. what the scores are:"
   ]
  },
  {
   "cell_type": "code",
   "execution_count": 7,
   "metadata": {},
   "outputs": [
    {
     "data": {
      "image/png": "[encoded data removed]",
      "text/plain": [
       "<matplotlib.figure.Figure at 0x1c12a7cb00>"
      ]
     },
     "metadata": {},
     "output_type": "display_data"
    },
    {
     "data": {
      "image/png": "[encoded data removed]",
      "text/plain": [
       "<matplotlib.figure.Figure at 0x1c13090ef0>"
      ]
     },
     "metadata": {},
     "output_type": "display_data"
    },
    {
     "data": {
      "image/png": "[encoded data removed]",
      "text/plain": [
       "<matplotlib.figure.Figure at 0x1c132b0ef0>"
      ]
     },
     "metadata": {},
     "output_type": "display_data"
    },
    {
     "data": {
      "image/png": "[encoded data removed]",
      "text/plain": [
       "<matplotlib.figure.Figure at 0x1c13416a90>"
      ]
     },
     "metadata": {},
     "output_type": "display_data"
    },
    {
     "data": {
      "image/png": "[encoded data removed]",
      "text/plain": [
       "<matplotlib.figure.Figure at 0x1c1343b390>"
      ]
     },
     "metadata": {},
     "output_type": "display_data"
    },
    {
     "data": {
      "image/png": "[encoded data removed]",
      "text/plain": [
       "<matplotlib.figure.Figure at 0x1c13460e10>"
      ]
     },
     "metadata": {},
     "output_type": "display_data"
    },
    {
     "data": {
      "image/png": "[encoded data removed]",
      "text/plain": [
       "<matplotlib.figure.Figure at 0x1c13486b70>"
      ]
     },
     "metadata": {},
     "output_type": "display_data"
    },
    {
     "data": {
      "image/png": "[encoded data removed]",
      "text/plain": [
       "<matplotlib.figure.Figure at 0x101d1c7f0>"
      ]
     },
     "metadata": {},
     "output_type": "display_data"
    },
    {
     "data": {
      "image/png": "[encoded data removed]",
      "text/plain": [
       "<matplotlib.figure.Figure at 0x1c12f53940>"
      ]
     },
     "metadata": {},
     "output_type": "display_data"
    },
    {
     "data": {
      "image/png": "[encoded data removed]",
      "text/plain": [
       "<matplotlib.figure.Figure at 0x1c12b0e748>"
      ]
     },
     "metadata": {},
     "output_type": "display_data"
    },
    {
     "data": {
      "image/png": "[encoded data removed]",
      "text/plain": [
       "<matplotlib.figure.Figure at 0x1c12f5c780>"
      ]
     },
     "metadata": {},
     "output_type": "display_data"
    },
    {
     "data": {
      "image/png": "[encoded data removed]",
      "text/plain": [
       "<matplotlib.figure.Figure at 0x1c12b15d30>"
      ]
     },
     "metadata": {},
     "output_type": "display_data"
    },
    {
     "data": {
      "image/png": "[encoded data removed]",
      "text/plain": [
       "<matplotlib.figure.Figure at 0x1c12b2d588>"
      ]
     },
     "metadata": {},
     "output_type": "display_data"
    },
    {
     "data": {
      "image/png": "[encoded data removed]",
      "text/plain": [
       "<matplotlib.figure.Figure at 0x1c12c4ee80>"
      ]
     },
     "metadata": {},
     "output_type": "display_data"
    }
   ],
   "source": [
    "nfeats = small_feats.shape[2]\n",
    "\n",
    "tm = np.array([[np.corrcoef(small_feats[:,:,j].flatten(),\n",
    "                            fontmat[i,:].reshape(25,25).flatten())[0,1]\n",
    "                for i in range(fontmat.shape[0])]\n",
    "               for j in range(nfeats)])\n",
    "\n",
    "scores = np.amax(tm, axis=1)\n",
    "assignments = np.argmax(tm, axis=1)\n",
    "pc_actual = np.array([perimetric_complexity(small_feats[:,:,s]) for s in range(nfeats)])\n",
    "\n",
    "max_letter = fontdf['letter'].as_matrix()[assignments]\n",
    "top_indices = [np.where(tm[s,:] > np.max(tm[s,:])-top_tolerance)[0] for s in range(nfeats)]\n",
    "top_scores = [tm[s,:][top_indices[s]] for s in range(nfeats)]\n",
    "top_letters = [fontdf['letter'].as_matrix()[top_indices[s]][np.argsort(-top_scores[s])] \n",
    "               for s in range(nfeats)]\n",
    "\n",
    "assigned_pc = [perimetric_complexity(fontmat[assignments[s],:].reshape((25,25))) \n",
    "               for s in range(small_feats.shape[2])]\n",
    "pc_diff = np.abs(pc_actual - assigned_pc)\n",
    "\n",
    "for s in range(small_feats.shape[2]):\n",
    "    plt.figure(figsize=(3,1))\n",
    "    plt.title(np.round(pc_actual[s],2).astype('str') + \" - \" + \n",
    "              np.round(scores[s],2).astype('str') + \" - \" + \n",
    "              max_letter[s] + \" - \" + np.round(pc_diff[s],2).astype('str'))\n",
    "    plt.imshow(np.hstack([small_feats[:,:,s],\n",
    "                          np.zeros((25,5)),\n",
    "                          fontmat[assignments[s],:].reshape((25,25))]), \n",
    "               interpolation='nearest', cmap='gray')"
   ]
  },
  {
   "cell_type": "code",
   "execution_count": 8,
   "metadata": {},
   "outputs": [
    {
     "data": {
      "text/plain": [
       "([array([0.61772117, 0.6494297 , 0.63081983, 0.60958996]),\n",
       "  array([0.74709113, 0.72101974, 0.71214324, 0.73057305, 0.71224476,\n",
       "         0.72923405, 0.71632429, 0.71192266, 0.72512407, 0.72333177,\n",
       "         0.7412104 , 0.74580826, 0.73141805, 0.71585545, 0.75173836,\n",
       "         0.76084687, 0.73307711, 0.71343838, 0.73277265, 0.71126008,\n",
       "         0.72360458]),\n",
       "  array([0.90056276, 0.87485279, 0.92265047, 0.89464232, 0.90056276]),\n",
       "  array([0.90438485, 0.91601762, 0.91876445, 0.90438485]),\n",
       "  array([0.90850075, 0.92522427, 0.91076866, 0.90850075]),\n",
       "  array([0.82892028, 0.87400657]),\n",
       "  array([0.87127733, 0.90740728]),\n",
       "  array([0.86207533, 0.89415123]),\n",
       "  array([0.62824237, 0.59673907, 0.61719081, 0.62232836, 0.59120289]),\n",
       "  array([0.88630205, 0.89626248, 0.92572695, 0.90451642, 0.87857372,\n",
       "         0.8777422 ]),\n",
       "  array([0.28240876, 0.28532601, 0.32978069, 0.30961648, 0.28030877]),\n",
       "  array([0.64951905]),\n",
       "  array([0.28240876, 0.28532601, 0.32978069, 0.30961648, 0.28030877]),\n",
       "  array([0.28240876, 0.28532601, 0.32978069, 0.30961648, 0.28030877])],\n",
       " [array(['o', 'd', 'c', 'a'], dtype=object),\n",
       "  array(['i', 'i', 'a', 'i', 'a', 'i', '1', 'a', 'a', 'a', 'i', 'i', '1',\n",
       "         'k', 'i', 'i', 'i', 'i', 'i', 'h', 'i'], dtype=object),\n",
       "  array(['i', 'i', 'i', 'i', 'i'], dtype=object),\n",
       "  array(['i', 'i', 'i', 'i'], dtype=object),\n",
       "  array(['i', 'i', 'i', 'i'], dtype=object),\n",
       "  array(['a', 'a'], dtype=object),\n",
       "  array(['b', 'b'], dtype=object),\n",
       "  array(['b', 'b'], dtype=object),\n",
       "  array(['u', 'a', 'u', 'u', 'a'], dtype=object),\n",
       "  array(['o', '0', 'o', 'o', '0', 'o'], dtype=object),\n",
       "  array(['h', 'h', 'h', 'h', 'h'], dtype=object),\n",
       "  array(['l'], dtype=object),\n",
       "  array(['h', 'h', 'h', 'h', 'h'], dtype=object),\n",
       "  array(['h', 'h', 'h', 'h', 'h'], dtype=object)])"
      ]
     },
     "execution_count": 8,
     "metadata": {},
     "output_type": "execute_result"
    }
   ],
   "source": [
    "top_scores, top_letters"
   ]
  },
  {
   "cell_type": "code",
   "execution_count": 9,
   "metadata": {},
   "outputs": [
    {
     "data": {
      "text/plain": [
       "<matplotlib.image.AxesImage at 0x102ade6a0>"
      ]
     },
     "execution_count": 9,
     "metadata": {},
     "output_type": "execute_result"
    },
    {
     "data": {
      "image/png": "[encoded data removed]",
      "text/plain": [
       "<matplotlib.figure.Figure at 0x1031475c0>"
      ]
     },
     "metadata": {},
     "output_type": "display_data"
    }
   ],
   "source": [
    "# Isolate the part of the image that corresponds to the characters:\n",
    "\n",
    "allchars = np.isin(regionalized-1, np.where(is_char))\n",
    "\n",
    "plt.imshow(allchars, interpolation='nearest', cmap='gray')"
   ]
  },
  {
   "cell_type": "code",
   "execution_count": 10,
   "metadata": {},
   "outputs": [
    {
     "data": {
      "text/plain": [
       "['t', 't', '-', 'b', 's']"
      ]
     },
     "execution_count": 10,
     "metadata": {},
     "output_type": "execute_result"
    }
   ],
   "source": [
    "remaining_letters"
   ]
  },
  {
   "cell_type": "code",
   "execution_count": 11,
   "metadata": {},
   "outputs": [
    {
     "data": {
      "text/plain": [
       "<matplotlib.image.AxesImage at 0x102b1be80>"
      ]
     },
     "execution_count": 11,
     "metadata": {},
     "output_type": "execute_result"
    },
    {
     "data": {
      "image/png": "[encoded data removed]",
      "text/plain": [
       "<matplotlib.figure.Figure at 0x101ca4d30>"
      ]
     },
     "metadata": {},
     "output_type": "display_data"
    }
   ],
   "source": [
    "# Isolate the remainder, which should be the marks:\n",
    "\n",
    "marks = np.copy(regionalized)\n",
    "if np.sum(is_char) > 0:\n",
    "    for j in np.nditer(np.where(is_char)[0]):\n",
    "        ch = convex_hull_image(((regionalized-1)==j).astype('float'))\n",
    "        border_regions, region_counts = np.unique(regionalized[np.bitwise_xor(morphology.dilation(ch, selem=disk(3)), ch)], return_counts=True)\n",
    "        fill = border_regions[np.argmax(region_counts)]\n",
    "        marks[ch] = fill\n",
    "\n",
    "plt.imshow(marks, interpolation='nearest', cmap=\"nipy_spectral\")"
   ]
  },
  {
   "cell_type": "code",
   "execution_count": 12,
   "metadata": {},
   "outputs": [
    {
     "data": {
      "text/plain": [
       "<matplotlib.image.AxesImage at 0x1c12bc0b00>"
      ]
     },
     "execution_count": 12,
     "metadata": {},
     "output_type": "execute_result"
    },
    {
     "data": {
      "image/png": "[encoded data removed]",
      "text/plain": [
       "<matplotlib.figure.Figure at 0x102b0aa90>"
      ]
     },
     "metadata": {},
     "output_type": "display_data"
    }
   ],
   "source": [
    "# Apply erosion to try to separate stuck-together characters:\n",
    "\n",
    "eroded_labels = np.zeros_like(marks)\n",
    "if np.sum(marks) > 0:\n",
    "    cur_max_lab = 0\n",
    "    for mr in np.unique(marks[marks>0]):\n",
    "        mr_eroded_labeled = label(morphology.erosion((marks==mr).astype('bool'), selem=morphology.disk(erosion_radius)))\n",
    "        mr_eroded_labeled[mr_eroded_labeled > 0] = cur_max_lab + mr_eroded_labeled[mr_eroded_labeled > 0]\n",
    "        cur_max_lab = np.max(mr_eroded_labeled)\n",
    "        eroded_labels += mr_eroded_labeled\n",
    "        \n",
    "        \n",
    "plt.figure()\n",
    "plt.imshow(eroded_labels, interpolation='nearest')"
   ]
  },
  {
   "cell_type": "code",
   "execution_count": 13,
   "metadata": {},
   "outputs": [
    {
     "data": {
      "image/png": "[encoded data removed]",
      "text/plain": [
       "<matplotlib.figure.Figure at 0x101d15c88>"
      ]
     },
     "metadata": {},
     "output_type": "display_data"
    },
    {
     "data": {
      "image/png": "[encoded data removed]",
      "text/plain": [
       "<matplotlib.figure.Figure at 0x1c12d6d860>"
      ]
     },
     "metadata": {},
     "output_type": "display_data"
    },
    {
     "data": {
      "image/png": "[encoded data removed]",
      "text/plain": [
       "<matplotlib.figure.Figure at 0x1c12e2f588>"
      ]
     },
     "metadata": {},
     "output_type": "display_data"
    }
   ],
   "source": [
    "if np.sum(eroded_labels) > 0:\n",
    "    eroded_segmentation = np.zeros((25,25,np.max(eroded_labels)))\n",
    "    for lab in range(1,np.max(eroded_labels)+1):\n",
    "        eroded_segmentation[:,:,lab-1] = make_small_feature(remove_segmentation_bg(\n",
    "            morphology.dilation(eroded_labels==lab, selem=morphology.disk(erosion_radius))))\n",
    "        plt.figure(figsize=(1,1))\n",
    "        plt.imshow(eroded_segmentation[:,:,lab-1], interpolation='nearest', cmap='gray')"
   ]
  },
  {
   "cell_type": "code",
   "execution_count": 14,
   "metadata": {},
   "outputs": [
    {
     "data": {
      "image/png": "[encoded data removed]",
      "text/plain": [
       "<matplotlib.figure.Figure at 0x1c12e377f0>"
      ]
     },
     "metadata": {},
     "output_type": "display_data"
    },
    {
     "data": {
      "image/png": "[encoded data removed]",
      "text/plain": [
       "<matplotlib.figure.Figure at 0x1c12bada90>"
      ]
     },
     "metadata": {},
     "output_type": "display_data"
    }
   ],
   "source": [
    "if np.sum(eroded_labels) > 0:\n",
    "    eroded_chars, eroded_match, remaining_letters = detect_chars(eroded_segmentation, fontdf=fontdf, name=name, \n",
    "                                                                 remaining_letters=remaining_letters,\n",
    "                                                                 pc_cutoff=pc_cutoff, \n",
    "                                                                 name_low_pc_score=name_low_pc_score, \n",
    "                                                                 name_high_pc_score=name_high_pc_score,\n",
    "                                                                 low_pc_score=low_pc_score, \n",
    "                                                                 high_pc_score=high_pc_score, \n",
    "                                                                 i_score=i_score, \n",
    "                                                                 o_score=o_score,\n",
    "                                                                 amp_score=amp_score,\n",
    "                                                                 top_tolerance=top_tolerance,\n",
    "                                                                 pc_diff_limit=pc_diff_limit)\n",
    "    \n",
    "    letters_found = fontdf['letter'][eroded_match[eroded_chars]].as_matrix()\n",
    "    if letters_found.size > 0:\n",
    "        l = 0\n",
    "        for s in range(eroded_segmentation.shape[2]):\n",
    "            if eroded_chars[s]:\n",
    "                plt.figure(figsize=(1,1))\n",
    "                plt.title(letters_found[l])\n",
    "                plt.imshow(eroded_segmentation[:,:,s], interpolation='nearest', cmap='gray')\n",
    "                l += 1"
   ]
  },
  {
   "cell_type": "code",
   "execution_count": 15,
   "metadata": {},
   "outputs": [
    {
     "data": {
      "image/png": "[encoded data removed]",
      "text/plain": [
       "<matplotlib.figure.Figure at 0x1c12d67160>"
      ]
     },
     "metadata": {},
     "output_type": "display_data"
    },
    {
     "data": {
      "image/png": "[encoded data removed]",
      "text/plain": [
       "<matplotlib.figure.Figure at 0x1c12d897f0>"
      ]
     },
     "metadata": {},
     "output_type": "display_data"
    },
    {
     "data": {
      "image/png": "[encoded data removed]",
      "text/plain": [
       "<matplotlib.figure.Figure at 0x1c13140400>"
      ]
     },
     "metadata": {},
     "output_type": "display_data"
    }
   ],
   "source": [
    "if np.sum(eroded_labels) > 0:\n",
    "    small_feats = eroded_segmentation\n",
    "\n",
    "    nfeats = small_feats.shape[2]\n",
    "\n",
    "    tm = np.array([[np.corrcoef(small_feats[:,:,j].flatten(),\n",
    "                                fontmat[i,:].reshape(25,25).flatten())[0,1]\n",
    "                    for i in range(fontmat.shape[0])]\n",
    "                   for j in range(nfeats)])\n",
    "\n",
    "    scores = np.amax(tm, axis=1)\n",
    "    assignments = np.argmax(tm, axis=1)\n",
    "    pc_actual = np.array([perimetric_complexity(small_feats[:,:,s]) for s in range(nfeats)])\n",
    "\n",
    "    max_letter = fontdf['letter'].as_matrix()[assignments]\n",
    "    top_indices = [np.where(tm[s,:] > np.max(tm[s,:])-0.025)[0] for s in range(nfeats)]\n",
    "    top_scores = [tm[s,:][top_indices[s]] for s in range(nfeats)]\n",
    "    top_letters = [fontdf['letter'].as_matrix()[top_indices[s]][np.argsort(-top_scores[s])] for s in range(nfeats)]\n",
    "\n",
    "    assigned_pc = [perimetric_complexity(fontmat[assignments[s],:].reshape((25,25))) \n",
    "               for s in range(small_feats.shape[2])]\n",
    "    pc_diff = np.abs(pc_actual - assigned_pc)\n",
    "\n",
    "    for s in range(small_feats.shape[2]):\n",
    "        plt.figure(figsize=(3,1))\n",
    "        plt.title(np.round(pc_actual[s],2).astype('str') + \" - \" + \n",
    "                  np.round(scores[s],2).astype('str') + \" - \" + \n",
    "                  max_letter[s] + \" - \" + np.round(pc_diff[s],2).astype('str'))\n",
    "        plt.imshow(np.hstack([small_feats[:,:,s],\n",
    "                              np.zeros((25,5)),\n",
    "                              fontmat[assignments[s],:].reshape((25,25))]), \n",
    "                   interpolation='nearest', cmap='gray')"
   ]
  },
  {
   "cell_type": "code",
   "execution_count": 16,
   "metadata": {},
   "outputs": [
    {
     "data": {
      "text/plain": [
       "<matplotlib.image.AxesImage at 0x1c1319aeb8>"
      ]
     },
     "execution_count": 16,
     "metadata": {},
     "output_type": "execute_result"
    },
    {
     "data": {
      "image/png": "[encoded data removed]",
      "text/plain": [
       "<matplotlib.figure.Figure at 0x102b115f8>"
      ]
     },
     "metadata": {},
     "output_type": "display_data"
    },
    {
     "data": {
      "image/png": "[encoded data removed]",
      "text/plain": [
       "<matplotlib.figure.Figure at 0x102ae9630>"
      ]
     },
     "metadata": {},
     "output_type": "display_data"
    }
   ],
   "source": [
    "if np.sum(eroded_labels) > 0:\n",
    "    for lab in (np.where(eroded_chars)[0]):\n",
    "        ch = convex_hull_image(morphology.dilation(eroded_labels==(lab+1), selem=morphology.disk(erosion_radius+2)))\n",
    "        border_regions, region_counts = np.unique(marks[np.bitwise_xor(morphology.dilation(ch, selem=disk(3)), ch)], return_counts=True)\n",
    "        fill = border_regions[np.argmax(region_counts)]\n",
    "        marks[ch] = fill\n",
    "        allchars[morphology.dilation(eroded_labels==(lab+1), selem=morphology.disk(erosion_radius))] = 1\n",
    "\n",
    "plt.figure()\n",
    "plt.imshow(marks)\n",
    "plt.figure()\n",
    "plt.imshow(allchars, interpolation='nearest', cmap='gray')"
   ]
  },
  {
   "cell_type": "code",
   "execution_count": 17,
   "metadata": {},
   "outputs": [
    {
     "data": {
      "text/plain": [
       "<matplotlib.image.AxesImage at 0x1c12d5a860>"
      ]
     },
     "execution_count": 17,
     "metadata": {},
     "output_type": "execute_result"
    },
    {
     "data": {
      "image/png": "[encoded data removed]",
      "text/plain": [
       "<matplotlib.figure.Figure at 0x1c1343b940>"
      ]
     },
     "metadata": {},
     "output_type": "display_data"
    }
   ],
   "source": [
    "# Re-zero out background regions:\n",
    "qbg = detect_quantized_bg(quantized)\n",
    "quantized = add_quantized_padding(quantized, bgval=qbg, pad_size=20)\n",
    "\n",
    "for mr in np.unique(marks[marks>0]):\n",
    "    qmr = quantized[marks==mr]\n",
    "    if np.sum(qmr==qbg)/qmr.size > qmr_cutoff:\n",
    "        marks[marks==mr] = 0\n",
    "\n",
    "plt.figure()\n",
    "plt.imshow(marks)"
   ]
  },
  {
   "cell_type": "code",
   "execution_count": 18,
   "metadata": {},
   "outputs": [
    {
     "data": {
      "text/plain": [
       "(-0.5, 399.5, 162.5, -0.5)"
      ]
     },
     "execution_count": 18,
     "metadata": {},
     "output_type": "execute_result"
    },
    {
     "data": {
      "image/png": "[encoded data removed]",
      "text/plain": [
       "<matplotlib.figure.Figure at 0x1c12d83550>"
      ]
     },
     "metadata": {},
     "output_type": "display_data"
    },
    {
     "data": {
      "image/png": "[encoded data removed]",
      "text/plain": [
       "<matplotlib.figure.Figure at 0x1c12aa8160>"
      ]
     },
     "metadata": {},
     "output_type": "display_data"
    },
    {
     "data": {
      "image/png": "[encoded data removed]",
      "text/plain": [
       "<matplotlib.figure.Figure at 0x1c13476400>"
      ]
     },
     "metadata": {},
     "output_type": "display_data"
    }
   ],
   "source": [
    "# Cluster the marks based on position, and eliminate very small outliers:\n",
    "\n",
    "mark_eps = np.max((quantized.size*mark_eps_frac, 15))\n",
    "\n",
    "mark_pix = np.transpose(np.vstack(np.where(marks > 0)))\n",
    "\n",
    "mark_clusters = DBSCAN(algorithm='ball_tree', eps=mark_eps, min_samples=1) \n",
    "mark_clusters.fit(mark_pix)\n",
    "\n",
    "mark_segments = np.copy(marks)\n",
    "mark_segments[mark_segments > 0] = mark_clusters.labels_+1\n",
    "\n",
    "h,w = img.shape[0:2]\n",
    "img_size = h*w\n",
    "\n",
    "mark_fracs = np.array([np.sum(mark_segments == s) / img_size for s in range(np.max(mark_segments)+1)])\n",
    "\n",
    "big_marks = np.zeros_like(mark_segments)\n",
    "index = 0\n",
    "for s in range(np.max(mark_segments)+1):\n",
    "    if mark_fracs[s] > mark_frac_cutoff: \n",
    "        big_marks[mark_segments==s] = index\n",
    "        index += 1\n",
    "\n",
    "        \n",
    "plt.figure(figsize=(10,40))\n",
    "plt.imshow(regionalized, cmap=\"nipy_spectral\")\n",
    "plt.axis('off')\n",
    "\n",
    "plt.figure(figsize=(10,40))\n",
    "plt.imshow(big_marks, cmap=\"nipy_spectral\")\n",
    "plt.axis('off')\n",
    "\n",
    "plt.figure(figsize=(10,40))\n",
    "plt.imshow(allchars, interpolation='nearest', cmap='gray')\n",
    "plt.axis('off')\n"
   ]
  },
  {
   "cell_type": "code",
   "execution_count": 19,
   "metadata": {},
   "outputs": [
    {
     "data": {
      "text/plain": [
       "15.0"
      ]
     },
     "execution_count": 19,
     "metadata": {},
     "output_type": "execute_result"
    }
   ],
   "source": [
    "mark_eps"
   ]
  },
  {
   "cell_type": "code",
   "execution_count": 20,
   "metadata": {},
   "outputs": [
    {
     "data": {
      "text/plain": [
       "(-0.5, 799.5, 325.5, -0.5)"
      ]
     },
     "execution_count": 20,
     "metadata": {},
     "output_type": "execute_result"
    },
    {
     "data": {
      "image/png": "[encoded data removed]",
      "text/plain": [
       "<matplotlib.figure.Figure at 0x1c12d837b8>"
      ]
     },
     "metadata": {},
     "output_type": "display_data"
    }
   ],
   "source": [
    "plt.figure(figsize=(40,50))\n",
    "plt.imshow(np.vstack([np.hstack([np.zeros((allchars.shape[0],np.floor(allchars.shape[1]/2.0).astype('int'))),\n",
    "                                 regionalized,\n",
    "                                 np.zeros((allchars.shape[0],np.ceil(allchars.shape[1]/2.0).astype('int')))]),\n",
    "                      np.hstack([allchars, big_marks])]),\n",
    "          cmap=\"nipy_spectral\")\n",
    "plt.axis('off')"
   ]
  }
 ],
 "metadata": {
  "kernelspec": {
   "display_name": "New Cluster (sk0.19)",
   "language": "python",
   "name": "newcluster"
  },
  "language_info": {
   "codemirror_mode": {
    "name": "ipython",
    "version": 3
   },
   "file_extension": ".py",
   "mimetype": "text/x-python",
   "name": "python",
   "nbconvert_exporter": "python",
   "pygments_lexer": "ipython3",
   "version": "3.5.4"
  }
 },
 "nbformat": 4,
 "nbformat_minor": 2
}
