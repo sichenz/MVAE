{
 "cells": [
  {
   "cell_type": "code",
   "execution_count": 3,
   "metadata": {},
   "outputs": [],
   "source": [
    "import os\n",
    "import warnings\n",
    "import numpy as np\n",
    "import pandas as pd\n",
    "import math\n",
    "from matplotlib import pyplot as plt\n",
    "%matplotlib inline\n",
    "\n",
    "from PIL import Image\n",
    "from skimage import measure, io, color\n",
    "from skimage.transform import resize, rescale\n",
    "from skimage.measure import label, regionprops\n",
    "from skimage.color import label2rgb\n",
    "from skimage.morphology import convex_hull_image\n",
    "from scipy.stats import mode\n",
    "from sklearn.cluster import DBSCAN, KMeans\n",
    "\n",
    "try:\n",
    "    os.chdir(\"/media/ryan/hdd/Dropbox/1_proj/logos/\")\n",
    "except:\n",
    "    os.chdir(\"/Users/ryan/Dropbox/1_proj/logos/\")"
   ]
  },
  {
   "cell_type": "markdown",
   "metadata": {},
   "source": [
    "### Helper functions:"
   ]
  },
  {
   "cell_type": "code",
   "execution_count": 4,
   "metadata": {},
   "outputs": [],
   "source": [
    "def alpha_to_color(image, color=(255, 255, 255)):\n",
    "    \"\"\"Alpha composite an RGBA Image with a specified color.\n",
    "\n",
    "    Simpler, faster version than the solutions above.\n",
    "\n",
    "    Source: http://stackoverflow.com/a/9459208/284318\n",
    "\n",
    "    Keyword Arguments:\n",
    "    image -- PIL RGBA Image object\n",
    "    color -- Tuple r, g, b (default 255, 255, 255)\n",
    "\n",
    "    \"\"\"\n",
    "    image.load()  # needed for split()\n",
    "    background = Image.new('RGB', image.size, color)\n",
    "    background.paste(image, mask=image.split()[3])  # 3 is the alpha channel\n",
    "    return background\n",
    "\n",
    "\n",
    "def standardize(image):\n",
    "    if len(image.shape)==2:\n",
    "        image = color.gray2rgb(image)\n",
    "\n",
    "    if len(image.shape)>3:\n",
    "        image = image[:,:,:,0]\n",
    "\n",
    "    if image.shape[2]==4:\n",
    "        image = Image.fromarray(image)\n",
    "        image = alpha_to_color(image)\n",
    "        image = np.array(image)\n",
    "        \n",
    "    return image\n",
    "\n",
    "\n",
    "def remove_white_bg(img):\n",
    "    \n",
    "    img_gray = color.rgb2gray(img)\n",
    "    \n",
    "    h, w = tuple(img_gray.shape)\n",
    "\n",
    "    keep_row = np.zeros(h, dtype='Bool')\n",
    "    for row in range(h):\n",
    "        keep_row[row] = (np.sum(np.sum(img_gray[row,:]<0.98,axis=0))>0)\n",
    "\n",
    "    keep_col = np.ones(w, dtype='Bool')\n",
    "    for col in range(w):\n",
    "        keep_col[col] = (np.sum(np.sum(img_gray[:,col]<0.98,axis=0))>0)\n",
    "\n",
    "    img_nobg = img[keep_row,:]\n",
    "    img_nobg = img_nobg[:,keep_col]\n",
    "    \n",
    "    return img_nobg\n",
    "\n",
    "\n",
    "def remove_segmentation_bg(img):\n",
    "      \n",
    "    h, w = tuple(img.shape)\n",
    "\n",
    "    keep_row = np.zeros(h, dtype='Bool')\n",
    "    for row in range(h):\n",
    "        keep_row[row] = (np.sum(img[row,:])>0)\n",
    "\n",
    "    keep_col = np.ones(w, dtype='Bool')\n",
    "    for col in range(w):\n",
    "        keep_col[col] = (np.sum(img[:,col])>0)\n",
    "\n",
    "    img_nobg = img[keep_row,:]\n",
    "    img_nobg = img_nobg[:,keep_col]\n",
    "    \n",
    "    return img_nobg\n",
    "\n",
    "\n",
    "def add_padding(img, bgval, pad_size=20):\n",
    "    side_pad = np.full((img.shape[0], pad_size, 3), bgval, dtype='uint8')\n",
    "    tb_pad = np.full((pad_size, img.shape[1] + 2*pad_size, 3), bgval, dtype='uint8')\n",
    "    padded_img = np.vstack((tb_pad, np.hstack((side_pad, img, side_pad)), tb_pad))\n",
    "    return padded_img\n",
    "\n",
    "\n",
    "def add_quantized_padding(img, bgval=0, pad_size=20):\n",
    "    side_pad = np.full((img.shape[0], pad_size), bgval, dtype='uint8')\n",
    "    tb_pad = np.full((pad_size, img.shape[1] + 2*pad_size), bgval, dtype='uint8')\n",
    "    padded_img = np.vstack((tb_pad, np.hstack((side_pad, img, side_pad)), tb_pad))\n",
    "    return padded_img\n",
    "\n",
    "\n",
    "def detect_quantized_bg(img):\n",
    "    from scipy.stats import mode\n",
    "    corners = np.vstack((np.vstack(img[:10,:10]),np.vstack(img[:10,-10:]),np.vstack(img[-10:,:10]),np.vstack(img[-10:,-10:])))\n",
    "    rowsums = np.sum(corners, axis=1)\n",
    "    return mode(corners.flatten())[0][0]\n",
    "\n",
    "\n",
    "def rescale_img(img, tot_pix=10000):\n",
    "    h, w = tuple(img.shape[0:2])\n",
    "    scale_factor = (h*w) / tot_pix\n",
    "    return resize(img, (np.ceil(h / np.sqrt(scale_factor)).astype('uint8'), np.ceil(w / np.sqrt(scale_factor)).astype('uint8')))\n",
    "\n",
    "\n",
    "def make_small_feature(feature, end_size = 25, max_size = 100.):\n",
    "\n",
    "    h, w = tuple(feature.shape[0:2])\n",
    "\n",
    "    if w==h:\n",
    "        resized = resize(feature, (max_size, max_size))\n",
    "\n",
    "    if w>h: \n",
    "        scale_factor = w/max_size\n",
    "        resized = resize(feature, (np.ceil(h/scale_factor), max_size)) \n",
    "\n",
    "        padding_amount = max_size - np.ceil(h/scale_factor)\n",
    "        top_pad = np.floor(padding_amount/2)\n",
    "        bottom_pad = np.ceil(padding_amount/2)\n",
    "\n",
    "        resized = np.concatenate([np.zeros((int(top_pad),int(max_size))), \n",
    "                                    resized, \n",
    "                                    np.zeros((int(bottom_pad),int(max_size)))], axis=0)\n",
    "\n",
    "    if h>w: \n",
    "        scale_factor = h/max_size\n",
    "        resized = resize(feature, (max_size, np.ceil(w/scale_factor))) \n",
    "\n",
    "        padding_amount = max_size - np.ceil(w/scale_factor)\n",
    "        left_pad = np.floor(padding_amount/2)\n",
    "        right_pad = np.ceil(padding_amount/2)\n",
    "\n",
    "        resized = np.concatenate([np.zeros((int(max_size),int(left_pad))), \n",
    "                                    resized, \n",
    "                                    np.zeros((int(max_size),int(right_pad)))], axis=1)\n",
    "\n",
    "    resized = resize(resized, (end_size, end_size))\n",
    "    return resized"
   ]
  },
  {
   "cell_type": "markdown",
   "metadata": {},
   "source": [
    "### Reuse binary extractor:"
   ]
  },
  {
   "cell_type": "code",
   "execution_count": 5,
   "metadata": {},
   "outputs": [],
   "source": [
    "def extract_features_from_binary(quantized, style, end_size=25):\n",
    "\n",
    "    h, w = quantized.shape    \n",
    "    quantized = add_quantized_padding(quantized)\n",
    "\n",
    "    sub_labels = label((quantized == 1))\n",
    "\n",
    "    areas = np.array([region.area for region in regionprops(sub_labels)])\n",
    "    dot_size = np.sort(areas)[1]\n",
    "    if style=='glyphic':\n",
    "        dot_size = 0\n",
    "\n",
    "    index = 1\n",
    "    for i in range(1,np.max(sub_labels)+1):\n",
    "        if areas[i-1] > dot_size:\n",
    "            if index==1:\n",
    "                segmentation = np.expand_dims((sub_labels == i), 2)\n",
    "            else:\n",
    "                segmentation = np.append(segmentation, np.expand_dims((sub_labels == i), 2), axis=2)\n",
    "            index += 1\n",
    "\n",
    "    small_features = np.empty((end_size, end_size, 1))\n",
    "    for r in range(segmentation.shape[2]):\n",
    "        cur_small_feat = make_small_feature(remove_segmentation_bg(segmentation[:,:,r]), end_size = end_size)\n",
    "        if np.any(cur_small_feat < 0.999):\n",
    "            small_features = np.append(small_features, np.expand_dims(cur_small_feat, axis=2), axis=2)\n",
    "        \n",
    "    return small_features[:,:,1:]"
   ]
  },
  {
   "cell_type": "code",
   "execution_count": 15,
   "metadata": {},
   "outputs": [
    {
     "name": "stderr",
     "output_type": "stream",
     "text": [
      "/Users/ryan/anaconda3/envs/newcluster/lib/python3.5/site-packages/ipykernel_launcher.py:40: DeprecationWarning: Numeric-style type codes are deprecated and will result in an error in the future.\n",
      "/Users/ryan/anaconda3/envs/newcluster/lib/python3.5/site-packages/skimage/transform/_warps.py:84: UserWarning: The default mode, 'constant', will be changed to 'reflect' in skimage 0.15.\n",
      "  warn(\"The default mode, 'constant', will be changed to 'reflect' in \"\n"
     ]
    },
    {
     "ename": "ValueError",
     "evalue": "all the input arrays must have same number of dimensions",
     "output_type": "error",
     "traceback": [
      "\u001b[0;31m---------------------------------------------------------------------------\u001b[0m",
      "\u001b[0;31mValueError\u001b[0m                                Traceback (most recent call last)",
      "\u001b[0;32m<ipython-input-15-82f7a0aabceb>\u001b[0m in \u001b[0;36m<module>\u001b[0;34m()\u001b[0m\n\u001b[1;32m      2\u001b[0m \u001b[0mtest\u001b[0m \u001b[0;34m=\u001b[0m \u001b[0mstandardize\u001b[0m\u001b[0;34m(\u001b[0m\u001b[0mtest\u001b[0m\u001b[0;34m)\u001b[0m\u001b[0;34m\u001b[0m\u001b[0m\n\u001b[1;32m      3\u001b[0m \u001b[0mtest\u001b[0m \u001b[0;34m=\u001b[0m \u001b[0mremove_white_bg\u001b[0m\u001b[0;34m(\u001b[0m\u001b[0mtest\u001b[0m\u001b[0;34m)\u001b[0m\u001b[0;34m\u001b[0m\u001b[0m\n\u001b[0;32m----> 4\u001b[0;31m \u001b[0mplt\u001b[0m\u001b[0;34m.\u001b[0m\u001b[0mimshow\u001b[0m\u001b[0;34m(\u001b[0m\u001b[0mmake_small_feature\u001b[0m\u001b[0;34m(\u001b[0m\u001b[0mtest\u001b[0m\u001b[0;34m,\u001b[0m \u001b[0mend_size\u001b[0m\u001b[0;34m=\u001b[0m\u001b[0;36m25\u001b[0m\u001b[0;34m)\u001b[0m\u001b[0;34m,\u001b[0m \u001b[0mcmap\u001b[0m\u001b[0;34m=\u001b[0m\u001b[0;34m'gray'\u001b[0m\u001b[0;34m)\u001b[0m\u001b[0;34m\u001b[0m\u001b[0m\n\u001b[0m",
      "\u001b[0;32m<ipython-input-4-5cb3e09718c5>\u001b[0m in \u001b[0;36mmake_small_feature\u001b[0;34m(feature, end_size, max_size)\u001b[0m\n\u001b[1;32m    126\u001b[0m         resized = np.concatenate([np.zeros((int(max_size),int(left_pad))), \n\u001b[1;32m    127\u001b[0m                                     \u001b[0mresized\u001b[0m\u001b[0;34m,\u001b[0m\u001b[0;34m\u001b[0m\u001b[0m\n\u001b[0;32m--> 128\u001b[0;31m                                     np.zeros((int(max_size),int(right_pad)))], axis=1)\n\u001b[0m\u001b[1;32m    129\u001b[0m \u001b[0;34m\u001b[0m\u001b[0m\n\u001b[1;32m    130\u001b[0m     \u001b[0mresized\u001b[0m \u001b[0;34m=\u001b[0m \u001b[0mresize\u001b[0m\u001b[0;34m(\u001b[0m\u001b[0mresized\u001b[0m\u001b[0;34m,\u001b[0m \u001b[0;34m(\u001b[0m\u001b[0mend_size\u001b[0m\u001b[0;34m,\u001b[0m \u001b[0mend_size\u001b[0m\u001b[0;34m)\u001b[0m\u001b[0;34m)\u001b[0m\u001b[0;34m\u001b[0m\u001b[0m\n",
      "\u001b[0;31mValueError\u001b[0m: all the input arrays must have same number of dimensions"
     ]
    }
   ],
   "source": [
    "test = io.imread(\"data/new_sources/font/amp/sans_amp_futura_light.png\")\n",
    "test = standardize(test)\n",
    "test = remove_white_bg(test)\n",
    "plt.imshow(test, cmap='gray')"
   ]
  },
  {
   "cell_type": "code",
   "execution_count": 16,
   "metadata": {},
   "outputs": [
    {
     "name": "stderr",
     "output_type": "stream",
     "text": [
      "/Users/ryan/anaconda3/envs/newcluster/lib/python3.5/site-packages/skimage/transform/_warps.py:84: UserWarning: The default mode, 'constant', will be changed to 'reflect' in skimage 0.15.\n",
      "  warn(\"The default mode, 'constant', will be changed to 'reflect' in \"\n"
     ]
    },
    {
     "data": {
      "text/plain": [
       "<matplotlib.image.AxesImage at 0x10955deb8>"
      ]
     },
     "execution_count": 16,
     "metadata": {},
     "output_type": "execute_result"
    },
    {
     "data": {
      "image/png": "[encoded data removed]",
      "text/plain": [
       "<matplotlib.figure.Figure at 0x1c1cbe5550>"
      ]
     },
     "metadata": {},
     "output_type": "display_data"
    }
   ],
   "source": [
    "binary_test = np.sum(test, axis=2) < 765\n",
    "plt.imshow(make_small_feature(binary_test, end_size=25), cmap='gray')"
   ]
  },
  {
   "cell_type": "markdown",
   "metadata": {},
   "source": [
    "## Do the extraction for all fonts:"
   ]
  },
  {
   "cell_type": "code",
   "execution_count": 71,
   "metadata": {},
   "outputs": [
    {
     "name": "stdout",
     "output_type": "stream",
     "text": [
      "\r",
      " 0 sans_amp_futura_bi.png     \n",
      "\r",
      " 1 sans_amp_futura_bold.png     \n"
     ]
    },
    {
     "name": "stderr",
     "output_type": "stream",
     "text": [
      "/Users/ryan/anaconda3/envs/newcluster/lib/python3.5/site-packages/skimage/transform/_warps.py:84: UserWarning: The default mode, 'constant', will be changed to 'reflect' in skimage 0.15.\n",
      "  warn(\"The default mode, 'constant', will be changed to 'reflect' in \"\n"
     ]
    },
    {
     "name": "stdout",
     "output_type": "stream",
     "text": [
      " 2 sans_amp_futura_cb.png     \n",
      " 3 sans_amp_futura_ci.png     \n",
      " 4 sans_amp_futura_co.png     \n",
      " 5 sans_amp_futura_italic.png     \n",
      " 6 sans_amp_futura_li.png     \n",
      " 7 sans_amp_futura_light.png     \n",
      " 8 sans_amp_futura_orig.png     \n",
      " 9 sans_amp_helvetica_bi.png     \n",
      " 10 sans_amp_helvetica_bold.png     \n",
      " 11 sans_amp_helvetica_cb.png     \n",
      " 12 sans_amp_helvetica_ci.png     \n",
      " 13 sans_amp_helvetica_co.png     \n",
      " 14 sans_amp_helvetica_italic.png     \n",
      " 15 sans_amp_helvetica_li.png     \n",
      " 16 sans_amp_helvetica_light.png     \n",
      " 17 sans_amp_helvetica_orig.png     \n",
      " 18 serif_amp_times_bi.png     \n",
      " 19 serif_amp_times_bold.png     \n",
      " 20 serif_amp_times_cb.png     \n",
      " 21 serif_amp_times_ci.png     \n",
      " 22 serif_amp_times_co.png     \n",
      " 23 serif_amp_times_italic.png     \n",
      " 24 serif_amp_times_orig.png     \n"
     ]
    }
   ],
   "source": [
    "import warnings\n",
    "warnings.filterwarnings(\"ignore\", category=DeprecationWarning) \n",
    "\n",
    "index = 0\n",
    "for font in os.listdir(\"data/new_sources/font/amp/\"):\n",
    "    if font == \".DS_Store\":\n",
    "        continue\n",
    "    \n",
    "    print(\"\\r\",index,font,\"    \")\n",
    "    font_fam = font.split((\".\"))[0]\n",
    "    ftype, style, family, ver = font_fam.split(\"_\")\n",
    "    \n",
    "    font_img = remove_white_bg(standardize(io.imread(\"data/new_sources/font/amp/\" + font)))\n",
    "    font_binary = np.sum(font_img, axis=2) < 765\n",
    "    \n",
    "    small_feature = make_small_feature(font_binary, end_size=25)\n",
    "    h, w = small_feature.shape\n",
    "    tempdf = pd.DataFrame(np.transpose(np.reshape(small_feature, (h*w, 1))))\n",
    "    tempdf['ftype'] = ftype\n",
    "    tempdf['style'] = style\n",
    "    tempdf['family'] = family\n",
    "    tempdf['ver'] = ver\n",
    "    tempdf['letter'] = '&'\n",
    "\n",
    "    if index==0:\n",
    "        fontdf = tempdf\n",
    "    else:\n",
    "        fontdf = pd.concat([fontdf, tempdf])\n",
    "    \n",
    "    index += 1\n",
    "    \n",
    "ampdf = fontdf"
   ]
  },
  {
   "cell_type": "code",
   "execution_count": 72,
   "metadata": {},
   "outputs": [
    {
     "data": {
      "text/plain": [
       "<matplotlib.image.AxesImage at 0x116baf518>"
      ]
     },
     "execution_count": 72,
     "metadata": {},
     "output_type": "execute_result"
    },
    {
     "data": {
      "image/png": "[encoded data removed]",
      "text/plain": [
       "<matplotlib.figure.Figure at 0x1c1b104a90>"
      ]
     },
     "metadata": {},
     "output_type": "display_data"
    }
   ],
   "source": [
    "plt.imshow(font_img)"
   ]
  },
  {
   "cell_type": "code",
   "execution_count": 73,
   "metadata": {},
   "outputs": [
    {
     "name": "stderr",
     "output_type": "stream",
     "text": [
      "/Users/ryan/anaconda3/envs/newcluster/lib/python3.5/site-packages/matplotlib/pyplot.py:528: RuntimeWarning: More than 20 figures have been opened. Figures created through the pyplot interface (`matplotlib.pyplot.figure`) are retained until explicitly closed and may consume too much memory. (To control this warning, see the rcParam `figure.max_open_warning`).\n",
      "  max_open_warning, RuntimeWarning)\n"
     ]
    },
    {
     "data": {
      "image/png": "[encoded data removed]",
      "text/plain": [
       "<matplotlib.figure.Figure at 0x116baf2b0>"
      ]
     },
     "metadata": {},
     "output_type": "display_data"
    },
    {
     "data": {
      "image/png": "[encoded data removed]",
      "text/plain": [
       "<matplotlib.figure.Figure at 0x1c1b020710>"
      ]
     },
     "metadata": {},
     "output_type": "display_data"
    },
    {
     "data": {
      "image/png": "[encoded data removed]",
      "text/plain": [
       "<matplotlib.figure.Figure at 0x1c1b03c400>"
      ]
     },
     "metadata": {},
     "output_type": "display_data"
    },
    {
     "data": {
      "image/png": "[encoded data removed]",
      "text/plain": [
       "<matplotlib.figure.Figure at 0x1c1b08ae80>"
      ]
     },
     "metadata": {},
     "output_type": "display_data"
    },
    {
     "data": {
      "image/png": "[encoded data removed]",
      "text/plain": [
       "<matplotlib.figure.Figure at 0x1c1b079f28>"
      ]
     },
     "metadata": {},
     "output_type": "display_data"
    },
    {
     "data": {
      "image/png": "[encoded data removed]",
      "text/plain": [
       "<matplotlib.figure.Figure at 0x116818e10>"
      ]
     },
     "metadata": {},
     "output_type": "display_data"
    },
    {
     "data": {
      "image/png": "[encoded data removed]",
      "text/plain": [
       "<matplotlib.figure.Figure at 0x116aedeb8>"
      ]
     },
     "metadata": {},
     "output_type": "display_data"
    },
    {
     "data": {
      "image/png": "[encoded data removed]",
      "text/plain": [
       "<matplotlib.figure.Figure at 0x116761400>"
      ]
     },
     "metadata": {},
     "output_type": "display_data"
    },
    {
     "data": {
      "image/png": "[encoded data removed]",
      "text/plain": [
       "<matplotlib.figure.Figure at 0x1166fae10>"
      ]
     },
     "metadata": {},
     "output_type": "display_data"
    },
    {
     "data": {
      "image/png": "[encoded data removed]",
      "text/plain": [
       "<matplotlib.figure.Figure at 0x1c1afe3ba8>"
      ]
     },
     "metadata": {},
     "output_type": "display_data"
    },
    {
     "data": {
      "image/png": "[encoded data removed]",
      "text/plain": [
       "<matplotlib.figure.Figure at 0x1c1cd0d978>"
      ]
     },
     "metadata": {},
     "output_type": "display_data"
    },
    {
     "data": {
      "image/png": "[encoded data removed]",
      "text/plain": [
       "<matplotlib.figure.Figure at 0x116751a90>"
      ]
     },
     "metadata": {},
     "output_type": "display_data"
    },
    {
     "data": {
      "image/png": "[encoded data removed]",
      "text/plain": [
       "<matplotlib.figure.Figure at 0x116d4e0f0>"
      ]
     },
     "metadata": {},
     "output_type": "display_data"
    },
    {
     "data": {
      "image/png": "[encoded data removed]",
      "text/plain": [
       "<matplotlib.figure.Figure at 0x1167032b0>"
      ]
     },
     "metadata": {},
     "output_type": "display_data"
    },
    {
     "data": {
      "image/png": "[encoded data removed]",
      "text/plain": [
       "<matplotlib.figure.Figure at 0x117247cf8>"
      ]
     },
     "metadata": {},
     "output_type": "display_data"
    },
    {
     "data": {
      "image/png": "[encoded data removed]",
      "text/plain": [
       "<matplotlib.figure.Figure at 0x1166ff630>"
      ]
     },
     "metadata": {},
     "output_type": "display_data"
    },
    {
     "data": {
      "image/png": "[encoded data removed]",
      "text/plain": [
       "<matplotlib.figure.Figure at 0x1c1afec198>"
      ]
     },
     "metadata": {},
     "output_type": "display_data"
    },
    {
     "data": {
      "image/png": "[encoded data removed]",
      "text/plain": [
       "<matplotlib.figure.Figure at 0x116d35c50>"
      ]
     },
     "metadata": {},
     "output_type": "display_data"
    },
    {
     "data": {
      "image/png": "[encoded data removed]",
      "text/plain": [
       "<matplotlib.figure.Figure at 0x1c1c938ba8>"
      ]
     },
     "metadata": {},
     "output_type": "display_data"
    },
    {
     "data": {
      "image/png": "[encoded data removed]",
      "text/plain": [
       "<matplotlib.figure.Figure at 0x1c1c94a8d0>"
      ]
     },
     "metadata": {},
     "output_type": "display_data"
    },
    {
     "data": {
      "image/png": "[encoded data removed]",
      "text/plain": [
       "<matplotlib.figure.Figure at 0x116bdf518>"
      ]
     },
     "metadata": {},
     "output_type": "display_data"
    },
    {
     "data": {
      "image/png": "[encoded data removed]",
      "text/plain": [
       "<matplotlib.figure.Figure at 0x116ba14e0>"
      ]
     },
     "metadata": {},
     "output_type": "display_data"
    },
    {
     "data": {
      "image/png": "[encoded data removed]",
      "text/plain": [
       "<matplotlib.figure.Figure at 0x1c1b072278>"
      ]
     },
     "metadata": {},
     "output_type": "display_data"
    },
    {
     "data": {
      "image/png": "[encoded data removed]",
      "text/plain": [
       "<matplotlib.figure.Figure at 0x1c1b062e80>"
      ]
     },
     "metadata": {},
     "output_type": "display_data"
    },
    {
     "data": {
      "image/png": "[encoded data removed]",
      "text/plain": [
       "<matplotlib.figure.Figure at 0x1c1b196240>"
      ]
     },
     "metadata": {},
     "output_type": "display_data"
    }
   ],
   "source": [
    "ampmat = ampdf.iloc[:,:625].as_matrix()\n",
    "for s in range(ampmat.shape[0]):\n",
    "    plt.figure(figsize=(1,1))\n",
    "    plt.imshow(ampmat[s,:].reshape((25,25)))\n",
    "    plt.axis('off')"
   ]
  },
  {
   "cell_type": "code",
   "execution_count": 39,
   "metadata": {},
   "outputs": [
    {
     "data": {
      "text/html": [
       "<div>\n",
       "<style scoped>\n",
       "    .dataframe tbody tr th:only-of-type {\n",
       "        vertical-align: middle;\n",
       "    }\n",
       "\n",
       "    .dataframe tbody tr th {\n",
       "        vertical-align: top;\n",
       "    }\n",
       "\n",
       "    .dataframe thead th {\n",
       "        text-align: right;\n",
       "    }\n",
       "</style>\n",
       "<table border=\"1\" class=\"dataframe\">\n",
       "  <thead>\n",
       "    <tr style=\"text-align: right;\">\n",
       "      <th></th>\n",
       "      <th>0</th>\n",
       "      <th>1</th>\n",
       "      <th>2</th>\n",
       "      <th>3</th>\n",
       "      <th>4</th>\n",
       "      <th>5</th>\n",
       "      <th>6</th>\n",
       "      <th>7</th>\n",
       "      <th>8</th>\n",
       "      <th>9</th>\n",
       "      <th>...</th>\n",
       "      <th>620</th>\n",
       "      <th>621</th>\n",
       "      <th>622</th>\n",
       "      <th>623</th>\n",
       "      <th>624</th>\n",
       "      <th>ftype</th>\n",
       "      <th>style</th>\n",
       "      <th>family</th>\n",
       "      <th>ver</th>\n",
       "      <th>letter</th>\n",
       "    </tr>\n",
       "  </thead>\n",
       "  <tbody>\n",
       "    <tr>\n",
       "      <th>0</th>\n",
       "      <td>0.0</td>\n",
       "      <td>0.0</td>\n",
       "      <td>0.0</td>\n",
       "      <td>0.0</td>\n",
       "      <td>0.0</td>\n",
       "      <td>0.0</td>\n",
       "      <td>0.0</td>\n",
       "      <td>0.0</td>\n",
       "      <td>0.0</td>\n",
       "      <td>0.26</td>\n",
       "      <td>...</td>\n",
       "      <td>0.26</td>\n",
       "      <td>0.5075</td>\n",
       "      <td>0.2475</td>\n",
       "      <td>0.0</td>\n",
       "      <td>0.0</td>\n",
       "      <td>sans</td>\n",
       "      <td>amp</td>\n",
       "      <td>futura</td>\n",
       "      <td>bi</td>\n",
       "      <td>&amp;</td>\n",
       "    </tr>\n",
       "    <tr>\n",
       "      <th>0</th>\n",
       "      <td>0.0</td>\n",
       "      <td>0.0</td>\n",
       "      <td>0.0</td>\n",
       "      <td>0.0</td>\n",
       "      <td>0.0</td>\n",
       "      <td>0.0</td>\n",
       "      <td>0.0</td>\n",
       "      <td>0.0</td>\n",
       "      <td>0.0</td>\n",
       "      <td>0.26</td>\n",
       "      <td>...</td>\n",
       "      <td>0.26</td>\n",
       "      <td>0.5075</td>\n",
       "      <td>0.2475</td>\n",
       "      <td>0.0</td>\n",
       "      <td>0.0</td>\n",
       "      <td>sans</td>\n",
       "      <td>amp</td>\n",
       "      <td>futura</td>\n",
       "      <td>bold</td>\n",
       "      <td>&amp;</td>\n",
       "    </tr>\n",
       "    <tr>\n",
       "      <th>0</th>\n",
       "      <td>0.0</td>\n",
       "      <td>0.0</td>\n",
       "      <td>0.0</td>\n",
       "      <td>0.0</td>\n",
       "      <td>0.0</td>\n",
       "      <td>0.0</td>\n",
       "      <td>0.0</td>\n",
       "      <td>0.0</td>\n",
       "      <td>0.0</td>\n",
       "      <td>0.26</td>\n",
       "      <td>...</td>\n",
       "      <td>0.26</td>\n",
       "      <td>0.5075</td>\n",
       "      <td>0.2475</td>\n",
       "      <td>0.0</td>\n",
       "      <td>0.0</td>\n",
       "      <td>sans</td>\n",
       "      <td>amp</td>\n",
       "      <td>futura</td>\n",
       "      <td>cb</td>\n",
       "      <td>&amp;</td>\n",
       "    </tr>\n",
       "    <tr>\n",
       "      <th>0</th>\n",
       "      <td>0.0</td>\n",
       "      <td>0.0</td>\n",
       "      <td>0.0</td>\n",
       "      <td>0.0</td>\n",
       "      <td>0.0</td>\n",
       "      <td>0.0</td>\n",
       "      <td>0.0</td>\n",
       "      <td>0.0</td>\n",
       "      <td>0.0</td>\n",
       "      <td>0.26</td>\n",
       "      <td>...</td>\n",
       "      <td>0.26</td>\n",
       "      <td>0.5075</td>\n",
       "      <td>0.2475</td>\n",
       "      <td>0.0</td>\n",
       "      <td>0.0</td>\n",
       "      <td>sans</td>\n",
       "      <td>amp</td>\n",
       "      <td>futura</td>\n",
       "      <td>ci</td>\n",
       "      <td>&amp;</td>\n",
       "    </tr>\n",
       "    <tr>\n",
       "      <th>0</th>\n",
       "      <td>0.0</td>\n",
       "      <td>0.0</td>\n",
       "      <td>0.0</td>\n",
       "      <td>0.0</td>\n",
       "      <td>0.0</td>\n",
       "      <td>0.0</td>\n",
       "      <td>0.0</td>\n",
       "      <td>0.0</td>\n",
       "      <td>0.0</td>\n",
       "      <td>0.26</td>\n",
       "      <td>...</td>\n",
       "      <td>0.26</td>\n",
       "      <td>0.5075</td>\n",
       "      <td>0.2475</td>\n",
       "      <td>0.0</td>\n",
       "      <td>0.0</td>\n",
       "      <td>sans</td>\n",
       "      <td>amp</td>\n",
       "      <td>futura</td>\n",
       "      <td>co</td>\n",
       "      <td>&amp;</td>\n",
       "    </tr>\n",
       "    <tr>\n",
       "      <th>0</th>\n",
       "      <td>0.0</td>\n",
       "      <td>0.0</td>\n",
       "      <td>0.0</td>\n",
       "      <td>0.0</td>\n",
       "      <td>0.0</td>\n",
       "      <td>0.0</td>\n",
       "      <td>0.0</td>\n",
       "      <td>0.0</td>\n",
       "      <td>0.0</td>\n",
       "      <td>0.26</td>\n",
       "      <td>...</td>\n",
       "      <td>0.26</td>\n",
       "      <td>0.5075</td>\n",
       "      <td>0.2475</td>\n",
       "      <td>0.0</td>\n",
       "      <td>0.0</td>\n",
       "      <td>sans</td>\n",
       "      <td>amp</td>\n",
       "      <td>futura</td>\n",
       "      <td>italic</td>\n",
       "      <td>&amp;</td>\n",
       "    </tr>\n",
       "    <tr>\n",
       "      <th>0</th>\n",
       "      <td>0.0</td>\n",
       "      <td>0.0</td>\n",
       "      <td>0.0</td>\n",
       "      <td>0.0</td>\n",
       "      <td>0.0</td>\n",
       "      <td>0.0</td>\n",
       "      <td>0.0</td>\n",
       "      <td>0.0</td>\n",
       "      <td>0.0</td>\n",
       "      <td>0.26</td>\n",
       "      <td>...</td>\n",
       "      <td>0.26</td>\n",
       "      <td>0.5075</td>\n",
       "      <td>0.2475</td>\n",
       "      <td>0.0</td>\n",
       "      <td>0.0</td>\n",
       "      <td>sans</td>\n",
       "      <td>amp</td>\n",
       "      <td>futura</td>\n",
       "      <td>li</td>\n",
       "      <td>&amp;</td>\n",
       "    </tr>\n",
       "    <tr>\n",
       "      <th>0</th>\n",
       "      <td>0.0</td>\n",
       "      <td>0.0</td>\n",
       "      <td>0.0</td>\n",
       "      <td>0.0</td>\n",
       "      <td>0.0</td>\n",
       "      <td>0.0</td>\n",
       "      <td>0.0</td>\n",
       "      <td>0.0</td>\n",
       "      <td>0.0</td>\n",
       "      <td>0.26</td>\n",
       "      <td>...</td>\n",
       "      <td>0.26</td>\n",
       "      <td>0.5075</td>\n",
       "      <td>0.2475</td>\n",
       "      <td>0.0</td>\n",
       "      <td>0.0</td>\n",
       "      <td>sans</td>\n",
       "      <td>amp</td>\n",
       "      <td>futura</td>\n",
       "      <td>light</td>\n",
       "      <td>&amp;</td>\n",
       "    </tr>\n",
       "    <tr>\n",
       "      <th>0</th>\n",
       "      <td>0.0</td>\n",
       "      <td>0.0</td>\n",
       "      <td>0.0</td>\n",
       "      <td>0.0</td>\n",
       "      <td>0.0</td>\n",
       "      <td>0.0</td>\n",
       "      <td>0.0</td>\n",
       "      <td>0.0</td>\n",
       "      <td>0.0</td>\n",
       "      <td>0.26</td>\n",
       "      <td>...</td>\n",
       "      <td>0.26</td>\n",
       "      <td>0.5075</td>\n",
       "      <td>0.2475</td>\n",
       "      <td>0.0</td>\n",
       "      <td>0.0</td>\n",
       "      <td>sans</td>\n",
       "      <td>amp</td>\n",
       "      <td>futura</td>\n",
       "      <td>orig</td>\n",
       "      <td>&amp;</td>\n",
       "    </tr>\n",
       "    <tr>\n",
       "      <th>0</th>\n",
       "      <td>0.0</td>\n",
       "      <td>0.0</td>\n",
       "      <td>0.0</td>\n",
       "      <td>0.0</td>\n",
       "      <td>0.0</td>\n",
       "      <td>0.0</td>\n",
       "      <td>0.0</td>\n",
       "      <td>0.0</td>\n",
       "      <td>0.0</td>\n",
       "      <td>0.26</td>\n",
       "      <td>...</td>\n",
       "      <td>0.26</td>\n",
       "      <td>0.5075</td>\n",
       "      <td>0.2475</td>\n",
       "      <td>0.0</td>\n",
       "      <td>0.0</td>\n",
       "      <td>sans</td>\n",
       "      <td>amp</td>\n",
       "      <td>helvetica</td>\n",
       "      <td>bi</td>\n",
       "      <td>&amp;</td>\n",
       "    </tr>\n",
       "    <tr>\n",
       "      <th>0</th>\n",
       "      <td>0.0</td>\n",
       "      <td>0.0</td>\n",
       "      <td>0.0</td>\n",
       "      <td>0.0</td>\n",
       "      <td>0.0</td>\n",
       "      <td>0.0</td>\n",
       "      <td>0.0</td>\n",
       "      <td>0.0</td>\n",
       "      <td>0.0</td>\n",
       "      <td>0.26</td>\n",
       "      <td>...</td>\n",
       "      <td>0.26</td>\n",
       "      <td>0.5075</td>\n",
       "      <td>0.2475</td>\n",
       "      <td>0.0</td>\n",
       "      <td>0.0</td>\n",
       "      <td>sans</td>\n",
       "      <td>amp</td>\n",
       "      <td>helvetica</td>\n",
       "      <td>bold</td>\n",
       "      <td>&amp;</td>\n",
       "    </tr>\n",
       "    <tr>\n",
       "      <th>0</th>\n",
       "      <td>0.0</td>\n",
       "      <td>0.0</td>\n",
       "      <td>0.0</td>\n",
       "      <td>0.0</td>\n",
       "      <td>0.0</td>\n",
       "      <td>0.0</td>\n",
       "      <td>0.0</td>\n",
       "      <td>0.0</td>\n",
       "      <td>0.0</td>\n",
       "      <td>0.26</td>\n",
       "      <td>...</td>\n",
       "      <td>0.26</td>\n",
       "      <td>0.5075</td>\n",
       "      <td>0.2475</td>\n",
       "      <td>0.0</td>\n",
       "      <td>0.0</td>\n",
       "      <td>sans</td>\n",
       "      <td>amp</td>\n",
       "      <td>helvetica</td>\n",
       "      <td>cb</td>\n",
       "      <td>&amp;</td>\n",
       "    </tr>\n",
       "    <tr>\n",
       "      <th>0</th>\n",
       "      <td>0.0</td>\n",
       "      <td>0.0</td>\n",
       "      <td>0.0</td>\n",
       "      <td>0.0</td>\n",
       "      <td>0.0</td>\n",
       "      <td>0.0</td>\n",
       "      <td>0.0</td>\n",
       "      <td>0.0</td>\n",
       "      <td>0.0</td>\n",
       "      <td>0.26</td>\n",
       "      <td>...</td>\n",
       "      <td>0.26</td>\n",
       "      <td>0.5075</td>\n",
       "      <td>0.2475</td>\n",
       "      <td>0.0</td>\n",
       "      <td>0.0</td>\n",
       "      <td>sans</td>\n",
       "      <td>amp</td>\n",
       "      <td>helvetica</td>\n",
       "      <td>ci</td>\n",
       "      <td>&amp;</td>\n",
       "    </tr>\n",
       "    <tr>\n",
       "      <th>0</th>\n",
       "      <td>0.0</td>\n",
       "      <td>0.0</td>\n",
       "      <td>0.0</td>\n",
       "      <td>0.0</td>\n",
       "      <td>0.0</td>\n",
       "      <td>0.0</td>\n",
       "      <td>0.0</td>\n",
       "      <td>0.0</td>\n",
       "      <td>0.0</td>\n",
       "      <td>0.26</td>\n",
       "      <td>...</td>\n",
       "      <td>0.26</td>\n",
       "      <td>0.5075</td>\n",
       "      <td>0.2475</td>\n",
       "      <td>0.0</td>\n",
       "      <td>0.0</td>\n",
       "      <td>sans</td>\n",
       "      <td>amp</td>\n",
       "      <td>helvetica</td>\n",
       "      <td>co</td>\n",
       "      <td>&amp;</td>\n",
       "    </tr>\n",
       "    <tr>\n",
       "      <th>0</th>\n",
       "      <td>0.0</td>\n",
       "      <td>0.0</td>\n",
       "      <td>0.0</td>\n",
       "      <td>0.0</td>\n",
       "      <td>0.0</td>\n",
       "      <td>0.0</td>\n",
       "      <td>0.0</td>\n",
       "      <td>0.0</td>\n",
       "      <td>0.0</td>\n",
       "      <td>0.26</td>\n",
       "      <td>...</td>\n",
       "      <td>0.26</td>\n",
       "      <td>0.5075</td>\n",
       "      <td>0.2475</td>\n",
       "      <td>0.0</td>\n",
       "      <td>0.0</td>\n",
       "      <td>sans</td>\n",
       "      <td>amp</td>\n",
       "      <td>helvetica</td>\n",
       "      <td>italic</td>\n",
       "      <td>&amp;</td>\n",
       "    </tr>\n",
       "    <tr>\n",
       "      <th>0</th>\n",
       "      <td>0.0</td>\n",
       "      <td>0.0</td>\n",
       "      <td>0.0</td>\n",
       "      <td>0.0</td>\n",
       "      <td>0.0</td>\n",
       "      <td>0.0</td>\n",
       "      <td>0.0</td>\n",
       "      <td>0.0</td>\n",
       "      <td>0.0</td>\n",
       "      <td>0.26</td>\n",
       "      <td>...</td>\n",
       "      <td>0.26</td>\n",
       "      <td>0.5075</td>\n",
       "      <td>0.2475</td>\n",
       "      <td>0.0</td>\n",
       "      <td>0.0</td>\n",
       "      <td>sans</td>\n",
       "      <td>amp</td>\n",
       "      <td>helvetica</td>\n",
       "      <td>li</td>\n",
       "      <td>&amp;</td>\n",
       "    </tr>\n",
       "    <tr>\n",
       "      <th>0</th>\n",
       "      <td>0.0</td>\n",
       "      <td>0.0</td>\n",
       "      <td>0.0</td>\n",
       "      <td>0.0</td>\n",
       "      <td>0.0</td>\n",
       "      <td>0.0</td>\n",
       "      <td>0.0</td>\n",
       "      <td>0.0</td>\n",
       "      <td>0.0</td>\n",
       "      <td>0.26</td>\n",
       "      <td>...</td>\n",
       "      <td>0.26</td>\n",
       "      <td>0.5075</td>\n",
       "      <td>0.2475</td>\n",
       "      <td>0.0</td>\n",
       "      <td>0.0</td>\n",
       "      <td>sans</td>\n",
       "      <td>amp</td>\n",
       "      <td>helvetica</td>\n",
       "      <td>light</td>\n",
       "      <td>&amp;</td>\n",
       "    </tr>\n",
       "    <tr>\n",
       "      <th>0</th>\n",
       "      <td>0.0</td>\n",
       "      <td>0.0</td>\n",
       "      <td>0.0</td>\n",
       "      <td>0.0</td>\n",
       "      <td>0.0</td>\n",
       "      <td>0.0</td>\n",
       "      <td>0.0</td>\n",
       "      <td>0.0</td>\n",
       "      <td>0.0</td>\n",
       "      <td>0.26</td>\n",
       "      <td>...</td>\n",
       "      <td>0.26</td>\n",
       "      <td>0.5075</td>\n",
       "      <td>0.2475</td>\n",
       "      <td>0.0</td>\n",
       "      <td>0.0</td>\n",
       "      <td>sans</td>\n",
       "      <td>amp</td>\n",
       "      <td>helvetica</td>\n",
       "      <td>orig</td>\n",
       "      <td>&amp;</td>\n",
       "    </tr>\n",
       "    <tr>\n",
       "      <th>0</th>\n",
       "      <td>0.0</td>\n",
       "      <td>0.0</td>\n",
       "      <td>0.0</td>\n",
       "      <td>0.0</td>\n",
       "      <td>0.0</td>\n",
       "      <td>0.0</td>\n",
       "      <td>0.0</td>\n",
       "      <td>0.0</td>\n",
       "      <td>0.0</td>\n",
       "      <td>0.26</td>\n",
       "      <td>...</td>\n",
       "      <td>0.26</td>\n",
       "      <td>0.5075</td>\n",
       "      <td>0.2475</td>\n",
       "      <td>0.0</td>\n",
       "      <td>0.0</td>\n",
       "      <td>serif</td>\n",
       "      <td>amp</td>\n",
       "      <td>times</td>\n",
       "      <td>bi</td>\n",
       "      <td>&amp;</td>\n",
       "    </tr>\n",
       "    <tr>\n",
       "      <th>0</th>\n",
       "      <td>0.0</td>\n",
       "      <td>0.0</td>\n",
       "      <td>0.0</td>\n",
       "      <td>0.0</td>\n",
       "      <td>0.0</td>\n",
       "      <td>0.0</td>\n",
       "      <td>0.0</td>\n",
       "      <td>0.0</td>\n",
       "      <td>0.0</td>\n",
       "      <td>0.26</td>\n",
       "      <td>...</td>\n",
       "      <td>0.26</td>\n",
       "      <td>0.5075</td>\n",
       "      <td>0.2475</td>\n",
       "      <td>0.0</td>\n",
       "      <td>0.0</td>\n",
       "      <td>serif</td>\n",
       "      <td>amp</td>\n",
       "      <td>times</td>\n",
       "      <td>bold</td>\n",
       "      <td>&amp;</td>\n",
       "    </tr>\n",
       "    <tr>\n",
       "      <th>0</th>\n",
       "      <td>0.0</td>\n",
       "      <td>0.0</td>\n",
       "      <td>0.0</td>\n",
       "      <td>0.0</td>\n",
       "      <td>0.0</td>\n",
       "      <td>0.0</td>\n",
       "      <td>0.0</td>\n",
       "      <td>0.0</td>\n",
       "      <td>0.0</td>\n",
       "      <td>0.26</td>\n",
       "      <td>...</td>\n",
       "      <td>0.26</td>\n",
       "      <td>0.5075</td>\n",
       "      <td>0.2475</td>\n",
       "      <td>0.0</td>\n",
       "      <td>0.0</td>\n",
       "      <td>serif</td>\n",
       "      <td>amp</td>\n",
       "      <td>times</td>\n",
       "      <td>cb</td>\n",
       "      <td>&amp;</td>\n",
       "    </tr>\n",
       "    <tr>\n",
       "      <th>0</th>\n",
       "      <td>0.0</td>\n",
       "      <td>0.0</td>\n",
       "      <td>0.0</td>\n",
       "      <td>0.0</td>\n",
       "      <td>0.0</td>\n",
       "      <td>0.0</td>\n",
       "      <td>0.0</td>\n",
       "      <td>0.0</td>\n",
       "      <td>0.0</td>\n",
       "      <td>0.26</td>\n",
       "      <td>...</td>\n",
       "      <td>0.26</td>\n",
       "      <td>0.5075</td>\n",
       "      <td>0.2475</td>\n",
       "      <td>0.0</td>\n",
       "      <td>0.0</td>\n",
       "      <td>serif</td>\n",
       "      <td>amp</td>\n",
       "      <td>times</td>\n",
       "      <td>ci</td>\n",
       "      <td>&amp;</td>\n",
       "    </tr>\n",
       "    <tr>\n",
       "      <th>0</th>\n",
       "      <td>0.0</td>\n",
       "      <td>0.0</td>\n",
       "      <td>0.0</td>\n",
       "      <td>0.0</td>\n",
       "      <td>0.0</td>\n",
       "      <td>0.0</td>\n",
       "      <td>0.0</td>\n",
       "      <td>0.0</td>\n",
       "      <td>0.0</td>\n",
       "      <td>0.26</td>\n",
       "      <td>...</td>\n",
       "      <td>0.26</td>\n",
       "      <td>0.5075</td>\n",
       "      <td>0.2475</td>\n",
       "      <td>0.0</td>\n",
       "      <td>0.0</td>\n",
       "      <td>serif</td>\n",
       "      <td>amp</td>\n",
       "      <td>times</td>\n",
       "      <td>co</td>\n",
       "      <td>&amp;</td>\n",
       "    </tr>\n",
       "    <tr>\n",
       "      <th>0</th>\n",
       "      <td>0.0</td>\n",
       "      <td>0.0</td>\n",
       "      <td>0.0</td>\n",
       "      <td>0.0</td>\n",
       "      <td>0.0</td>\n",
       "      <td>0.0</td>\n",
       "      <td>0.0</td>\n",
       "      <td>0.0</td>\n",
       "      <td>0.0</td>\n",
       "      <td>0.26</td>\n",
       "      <td>...</td>\n",
       "      <td>0.26</td>\n",
       "      <td>0.5075</td>\n",
       "      <td>0.2475</td>\n",
       "      <td>0.0</td>\n",
       "      <td>0.0</td>\n",
       "      <td>serif</td>\n",
       "      <td>amp</td>\n",
       "      <td>times</td>\n",
       "      <td>italic</td>\n",
       "      <td>&amp;</td>\n",
       "    </tr>\n",
       "    <tr>\n",
       "      <th>0</th>\n",
       "      <td>0.0</td>\n",
       "      <td>0.0</td>\n",
       "      <td>0.0</td>\n",
       "      <td>0.0</td>\n",
       "      <td>0.0</td>\n",
       "      <td>0.0</td>\n",
       "      <td>0.0</td>\n",
       "      <td>0.0</td>\n",
       "      <td>0.0</td>\n",
       "      <td>0.26</td>\n",
       "      <td>...</td>\n",
       "      <td>0.26</td>\n",
       "      <td>0.5075</td>\n",
       "      <td>0.2475</td>\n",
       "      <td>0.0</td>\n",
       "      <td>0.0</td>\n",
       "      <td>serif</td>\n",
       "      <td>amp</td>\n",
       "      <td>times</td>\n",
       "      <td>orig</td>\n",
       "      <td>&amp;</td>\n",
       "    </tr>\n",
       "  </tbody>\n",
       "</table>\n",
       "<p>25 rows × 630 columns</p>\n",
       "</div>"
      ],
      "text/plain": [
       "     0    1    2    3    4    5    6    7    8     9   ...     620     621  \\\n",
       "0  0.0  0.0  0.0  0.0  0.0  0.0  0.0  0.0  0.0  0.26   ...    0.26  0.5075   \n",
       "0  0.0  0.0  0.0  0.0  0.0  0.0  0.0  0.0  0.0  0.26   ...    0.26  0.5075   \n",
       "0  0.0  0.0  0.0  0.0  0.0  0.0  0.0  0.0  0.0  0.26   ...    0.26  0.5075   \n",
       "0  0.0  0.0  0.0  0.0  0.0  0.0  0.0  0.0  0.0  0.26   ...    0.26  0.5075   \n",
       "0  0.0  0.0  0.0  0.0  0.0  0.0  0.0  0.0  0.0  0.26   ...    0.26  0.5075   \n",
       "0  0.0  0.0  0.0  0.0  0.0  0.0  0.0  0.0  0.0  0.26   ...    0.26  0.5075   \n",
       "0  0.0  0.0  0.0  0.0  0.0  0.0  0.0  0.0  0.0  0.26   ...    0.26  0.5075   \n",
       "0  0.0  0.0  0.0  0.0  0.0  0.0  0.0  0.0  0.0  0.26   ...    0.26  0.5075   \n",
       "0  0.0  0.0  0.0  0.0  0.0  0.0  0.0  0.0  0.0  0.26   ...    0.26  0.5075   \n",
       "0  0.0  0.0  0.0  0.0  0.0  0.0  0.0  0.0  0.0  0.26   ...    0.26  0.5075   \n",
       "0  0.0  0.0  0.0  0.0  0.0  0.0  0.0  0.0  0.0  0.26   ...    0.26  0.5075   \n",
       "0  0.0  0.0  0.0  0.0  0.0  0.0  0.0  0.0  0.0  0.26   ...    0.26  0.5075   \n",
       "0  0.0  0.0  0.0  0.0  0.0  0.0  0.0  0.0  0.0  0.26   ...    0.26  0.5075   \n",
       "0  0.0  0.0  0.0  0.0  0.0  0.0  0.0  0.0  0.0  0.26   ...    0.26  0.5075   \n",
       "0  0.0  0.0  0.0  0.0  0.0  0.0  0.0  0.0  0.0  0.26   ...    0.26  0.5075   \n",
       "0  0.0  0.0  0.0  0.0  0.0  0.0  0.0  0.0  0.0  0.26   ...    0.26  0.5075   \n",
       "0  0.0  0.0  0.0  0.0  0.0  0.0  0.0  0.0  0.0  0.26   ...    0.26  0.5075   \n",
       "0  0.0  0.0  0.0  0.0  0.0  0.0  0.0  0.0  0.0  0.26   ...    0.26  0.5075   \n",
       "0  0.0  0.0  0.0  0.0  0.0  0.0  0.0  0.0  0.0  0.26   ...    0.26  0.5075   \n",
       "0  0.0  0.0  0.0  0.0  0.0  0.0  0.0  0.0  0.0  0.26   ...    0.26  0.5075   \n",
       "0  0.0  0.0  0.0  0.0  0.0  0.0  0.0  0.0  0.0  0.26   ...    0.26  0.5075   \n",
       "0  0.0  0.0  0.0  0.0  0.0  0.0  0.0  0.0  0.0  0.26   ...    0.26  0.5075   \n",
       "0  0.0  0.0  0.0  0.0  0.0  0.0  0.0  0.0  0.0  0.26   ...    0.26  0.5075   \n",
       "0  0.0  0.0  0.0  0.0  0.0  0.0  0.0  0.0  0.0  0.26   ...    0.26  0.5075   \n",
       "0  0.0  0.0  0.0  0.0  0.0  0.0  0.0  0.0  0.0  0.26   ...    0.26  0.5075   \n",
       "\n",
       "      622  623  624  ftype  style     family     ver  letter  \n",
       "0  0.2475  0.0  0.0   sans    amp     futura      bi       &  \n",
       "0  0.2475  0.0  0.0   sans    amp     futura    bold       &  \n",
       "0  0.2475  0.0  0.0   sans    amp     futura      cb       &  \n",
       "0  0.2475  0.0  0.0   sans    amp     futura      ci       &  \n",
       "0  0.2475  0.0  0.0   sans    amp     futura      co       &  \n",
       "0  0.2475  0.0  0.0   sans    amp     futura  italic       &  \n",
       "0  0.2475  0.0  0.0   sans    amp     futura      li       &  \n",
       "0  0.2475  0.0  0.0   sans    amp     futura   light       &  \n",
       "0  0.2475  0.0  0.0   sans    amp     futura    orig       &  \n",
       "0  0.2475  0.0  0.0   sans    amp  helvetica      bi       &  \n",
       "0  0.2475  0.0  0.0   sans    amp  helvetica    bold       &  \n",
       "0  0.2475  0.0  0.0   sans    amp  helvetica      cb       &  \n",
       "0  0.2475  0.0  0.0   sans    amp  helvetica      ci       &  \n",
       "0  0.2475  0.0  0.0   sans    amp  helvetica      co       &  \n",
       "0  0.2475  0.0  0.0   sans    amp  helvetica  italic       &  \n",
       "0  0.2475  0.0  0.0   sans    amp  helvetica      li       &  \n",
       "0  0.2475  0.0  0.0   sans    amp  helvetica   light       &  \n",
       "0  0.2475  0.0  0.0   sans    amp  helvetica    orig       &  \n",
       "0  0.2475  0.0  0.0  serif    amp      times      bi       &  \n",
       "0  0.2475  0.0  0.0  serif    amp      times    bold       &  \n",
       "0  0.2475  0.0  0.0  serif    amp      times      cb       &  \n",
       "0  0.2475  0.0  0.0  serif    amp      times      ci       &  \n",
       "0  0.2475  0.0  0.0  serif    amp      times      co       &  \n",
       "0  0.2475  0.0  0.0  serif    amp      times  italic       &  \n",
       "0  0.2475  0.0  0.0  serif    amp      times    orig       &  \n",
       "\n",
       "[25 rows x 630 columns]"
      ]
     },
     "execution_count": 39,
     "metadata": {},
     "output_type": "execute_result"
    }
   ],
   "source": [
    "ampdf"
   ]
  },
  {
   "cell_type": "code",
   "execution_count": 74,
   "metadata": {},
   "outputs": [],
   "source": [
    "fontdf = pd.read_csv(\"data/labeled_fonts.csv\")\n",
    "fontdf = fontdf.loc[fontdf.letter!='-'] "
   ]
  },
  {
   "cell_type": "code",
   "execution_count": 75,
   "metadata": {},
   "outputs": [],
   "source": [
    "ampdf.columns = ampdf.columns.values.astype('str')"
   ]
  },
  {
   "cell_type": "code",
   "execution_count": 76,
   "metadata": {},
   "outputs": [],
   "source": [
    "fontdf = pd.concat([fontdf,ampdf])"
   ]
  },
  {
   "cell_type": "code",
   "execution_count": 77,
   "metadata": {},
   "outputs": [],
   "source": [
    "fontdf.to_csv(\"data/labeled_fonts_amp.csv\", index=False)"
   ]
  },
  {
   "cell_type": "code",
   "execution_count": null,
   "metadata": {},
   "outputs": [],
   "source": []
  }
 ],
 "metadata": {
  "anaconda-cloud": {},
  "kernelspec": {
   "display_name": "New Cluster (sk0.19)",
   "language": "python",
   "name": "newcluster"
  },
  "language_info": {
   "codemirror_mode": {
    "name": "ipython",
    "version": 3
   },
   "file_extension": ".py",
   "mimetype": "text/x-python",
   "name": "python",
   "nbconvert_exporter": "python",
   "pygments_lexer": "ipython3",
   "version": "3.5.4"
  }
 },
 "nbformat": 4,
 "nbformat_minor": 1
}
