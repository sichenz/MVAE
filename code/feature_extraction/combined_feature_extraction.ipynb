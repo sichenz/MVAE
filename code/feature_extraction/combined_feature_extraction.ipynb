{
 "cells": [
  {
   "cell_type": "markdown",
   "metadata": {},
   "source": [
    "# Full Feature Extraction Routine\n",
    "\n",
    "In this notebook, I will finalize the feature extraction algorithm, and link each part to the existing literature on logos and design, where relevant. \n",
    "\n",
    "## Preliminary: load required functions"
   ]
  },
  {
   "cell_type": "code",
   "execution_count": 1,
   "metadata": {},
   "outputs": [],
   "source": [
    "import os\n",
    "import warnings\n",
    "import numpy as np\n",
    "import pandas as pd\n",
    "import math\n",
    "from matplotlib import pyplot as plt\n",
    "%matplotlib inline\n",
    "\n",
    "from PIL import Image\n",
    "\n",
    "from skimage import measure, io, color, feature, morphology\n",
    "from skimage.transform import resize, rescale\n",
    "from skimage.measure import label, regionprops\n",
    "from skimage.color import label2rgb\n",
    "from skimage.morphology import convex_hull_image, disk\n",
    "from skimage.filters.rank import entropy\n",
    "\n",
    "from scipy.stats import mode\n",
    "from sklearn.cluster import DBSCAN, KMeans\n",
    "\n",
    "from collections import OrderedDict\n",
    "\n",
    "try:\n",
    "    os.chdir(\"/media/ryan/hdd/Dropbox/1_proj/logos/code/extract_features/\")\n",
    "except:\n",
    "    os.chdir(\"/Users/ryan/Dropbox/1_proj/logos/code/extract_features/\")\n",
    "\n",
    "from segmentation_functions import *\n",
    "\n",
    "try:\n",
    "    os.chdir(\"/media/ryan/hdd/Dropbox/1_proj/logos/\")\n",
    "except:\n",
    "    os.chdir(\"/Users/ryan/Dropbox/1_proj/logos/\")"
   ]
  },
  {
   "cell_type": "markdown",
   "metadata": {},
   "source": [
    "## Load and pre-process the logo:"
   ]
  },
  {
   "cell_type": "code",
   "execution_count": 2,
   "metadata": {},
   "outputs": [
    {
     "data": {
      "text/plain": [
       "name                                                          amgen\n",
       "include                                                           0\n",
       "url                                           http://www.amgen.com/\n",
       "brand_identity    Amgen is one of the world's leading biotechnol...\n",
       "source                                                           BD\n",
       "cb_id                                                       amgen-2\n",
       "cb_desc           Amgen is one of the world's leading biotechnol...\n",
       "logo_file                                                 amgen.jpg\n",
       "logo_url           http://www.columbia.edu/~rtd2118/logos/amgen.jpg\n",
       "Name: 43, dtype: object"
      ]
     },
     "execution_count": 2,
     "metadata": {},
     "output_type": "execute_result"
    }
   ],
   "source": [
    "logodata = pd.read_csv(\"data/new_sources/final_cleaned.csv\")\n",
    "logodata.iloc[43,:]"
   ]
  },
  {
   "cell_type": "code",
   "execution_count": 3,
   "metadata": {},
   "outputs": [
    {
     "data": {
      "image/png": "[encoded data removed]",
      "text/plain": [
       "<matplotlib.figure.Figure at 0x110dfe748>"
      ]
     },
     "metadata": {},
     "output_type": "display_data"
    }
   ],
   "source": [
    "logo = 'abbott-labs.png'\n",
    "name = logo.split(\".\")[0]\n",
    "\n",
    "img = io.imread(\"data/new_sources/logos/\" + logo)\n",
    "img = standardize(img)\n",
    "img = remove_white_bg(img)\n",
    "img = add_padding(img, bgval=255)\n",
    "#img = np.floor(255*rescale_img(img, tot_pix=20000)).astype('uint8')\n",
    "\n",
    "fig = plt.figure()\n",
    "plt.imshow(img)\n",
    "plt.tick_params(axis='both', which='both', bottom='off', top='off', \n",
    "                labelbottom='off', right='off', left='off', labelleft='off')"
   ]
  },
  {
   "cell_type": "markdown",
   "metadata": {},
   "source": [
    "## Segment the image and isolate characters\n",
    "\n",
    "In this version, we will first segment by color. Then we will template match with the font dictionary, and isolate anything that resembles a character. Then we will study the remainder, which should correspond to marks."
   ]
  },
  {
   "cell_type": "markdown",
   "metadata": {},
   "source": [
    "*Segment the image by color regions:*"
   ]
  },
  {
   "cell_type": "code",
   "execution_count": 4,
   "metadata": {},
   "outputs": [
    {
     "data": {
      "text/html": [
       "<div>\n",
       "<table border=\"1\" class=\"dataframe\">\n",
       "  <thead>\n",
       "    <tr style=\"text-align: right;\">\n",
       "      <th></th>\n",
       "      <th>name</th>\n",
       "      <th>area</th>\n",
       "      <th>frac</th>\n",
       "      <th>r</th>\n",
       "      <th>g</th>\n",
       "      <th>b</th>\n",
       "    </tr>\n",
       "  </thead>\n",
       "  <tbody>\n",
       "    <tr>\n",
       "      <th>0</th>\n",
       "      <td>name</td>\n",
       "      <td>4531</td>\n",
       "      <td>0.102326</td>\n",
       "      <td>1.311410</td>\n",
       "      <td>150.069080</td>\n",
       "      <td>215.018318</td>\n",
       "    </tr>\n",
       "    <tr>\n",
       "      <th>1</th>\n",
       "      <td>name</td>\n",
       "      <td>34734</td>\n",
       "      <td>0.784417</td>\n",
       "      <td>254.302499</td>\n",
       "      <td>254.526429</td>\n",
       "      <td>254.630880</td>\n",
       "    </tr>\n",
       "    <tr>\n",
       "      <th>2</th>\n",
       "      <td>name</td>\n",
       "      <td>4173</td>\n",
       "      <td>0.094241</td>\n",
       "      <td>2.889049</td>\n",
       "      <td>2.889049</td>\n",
       "      <td>2.889049</td>\n",
       "    </tr>\n",
       "    <tr>\n",
       "      <th>3</th>\n",
       "      <td>name</td>\n",
       "      <td>842</td>\n",
       "      <td>0.019015</td>\n",
       "      <td>139.399050</td>\n",
       "      <td>164.022565</td>\n",
       "      <td>176.038005</td>\n",
       "    </tr>\n",
       "  </tbody>\n",
       "</table>\n",
       "</div>"
      ],
      "text/plain": [
       "   name   area      frac           r           g           b\n",
       "0  name   4531  0.102326    1.311410  150.069080  215.018318\n",
       "1  name  34734  0.784417  254.302499  254.526429  254.630880\n",
       "2  name   4173  0.094241    2.889049    2.889049    2.889049\n",
       "3  name    842  0.019015  139.399050  164.022565  176.038005"
      ]
     },
     "execution_count": 4,
     "metadata": {},
     "output_type": "execute_result"
    }
   ],
   "source": [
    "quantized, centers, color_df = hsv_segmentation(img, name=\"name\")\n",
    "small_feats, feat_cols, areas, fracs, regionalized = extract_features(quantized, centers)\n",
    "\n",
    "color_df"
   ]
  },
  {
   "cell_type": "markdown",
   "metadata": {},
   "source": [
    "In a separate file, these colors will be clustered and made into a color dictionary. Note that there has been a huge amount of research about color and color preferences, in marketing and psychology. For example, Deng et al. (2010) study preferences for color combinations, showing that people tend to prefer similar colors in a logo, but with an accent color, and that people prefer a small number of colors. Other work by Kareklas et al. (2014) shows that people have an automatic preference for white over black in ads, and Semin and Palma (2014) find that white is perceived as feminine, while black is perceived as masculine. Note that this may also be turned into a feature, as the percentage of white space in the logo, later on. \n",
    "\n",
    "Note that something we are not currently doing is looking much at HSV properties, but a lot of work, for example by Valdez and Mehrabian (1994), does study HSV dimensions."
   ]
  },
  {
   "cell_type": "markdown",
   "metadata": {},
   "source": [
    "*Look at what small features are isolated:*"
   ]
  },
  {
   "cell_type": "code",
   "execution_count": 5,
   "metadata": {},
   "outputs": [
    {
     "data": {
      "image/png": "[encoded data removed]",
      "text/plain": [
       "<matplotlib.figure.Figure at 0x110f129b0>"
      ]
     },
     "metadata": {},
     "output_type": "display_data"
    },
    {
     "data": {
      "image/png": "[encoded data removed]",
      "text/plain": [
       "<matplotlib.figure.Figure at 0x11123d7f0>"
      ]
     },
     "metadata": {},
     "output_type": "display_data"
    },
    {
     "data": {
      "image/png": "[encoded data removed]",
      "text/plain": [
       "<matplotlib.figure.Figure at 0x11125ae48>"
      ]
     },
     "metadata": {},
     "output_type": "display_data"
    },
    {
     "data": {
      "image/png": "[encoded data removed]",
      "text/plain": [
       "<matplotlib.figure.Figure at 0x111113518>"
      ]
     },
     "metadata": {},
     "output_type": "display_data"
    },
    {
     "data": {
      "image/png": "[encoded data removed]",
      "text/plain": [
       "<matplotlib.figure.Figure at 0x1110ca668>"
      ]
     },
     "metadata": {},
     "output_type": "display_data"
    },
    {
     "data": {
      "image/png": "[encoded data removed]",
      "text/plain": [
       "<matplotlib.figure.Figure at 0x1112a99b0>"
      ]
     },
     "metadata": {},
     "output_type": "display_data"
    }
   ],
   "source": [
    "for s in range(small_feats.shape[2]):\n",
    "    plt.figure(figsize=(1,1))\n",
    "    plt.imshow(small_feats[:,:,s], cmap='gray')\n",
    "    plt.axis('off')"
   ]
  },
  {
   "cell_type": "markdown",
   "metadata": {},
   "source": [
    "*Load the font dictionary:*"
   ]
  },
  {
   "cell_type": "code",
   "execution_count": 6,
   "metadata": {},
   "outputs": [],
   "source": [
    "fontdf = pd.read_csv(\"data/labeled_fonts_amp_wide.csv\")\n",
    "fontmat = fontdf.iloc[:,0:625].values.astype('float')"
   ]
  },
  {
   "cell_type": "markdown",
   "metadata": {},
   "source": [
    "*Match features to fonts:*"
   ]
  },
  {
   "cell_type": "code",
   "execution_count": 7,
   "metadata": {},
   "outputs": [],
   "source": [
    "is_char, char_match, otherthing = detect_chars(small_feats, fontdf, name=name)"
   ]
  },
  {
   "cell_type": "markdown",
   "metadata": {},
   "source": [
    "In computing this match, we are matching each feature to a member of the font dictionary in `fontdf`. This process tracks various features of the fonts, including an approximate font family (including generic families like serif/sans), a font class (from the ATypI classification scheme), font style (italics or normal), font spacing (condensed or not), and font weight (bold or not). Font is something that is focal for designers, and has also been studied in the literature. Doyle and Bottomley (2006) published a paper giving a bit of an overview, where the main takeaway appears to be that the font should match the brand. More interesting for this project is Henderson et al. (2004), where they describe fonts both in terms of the traits described above (weight, spacing, style, etc.), and also in terms of more abstract dimensions (elaborateness, naturalness, harmony). Their work links the explicit aspects of font to a bunch of subdimensions, which may be useful for us. They also give nice examples toward the end."
   ]
  },
  {
   "cell_type": "code",
   "execution_count": 8,
   "metadata": {},
   "outputs": [
    {
     "data": {
      "text/html": [
       "<div>\n",
       "<table border=\"1\" class=\"dataframe\">\n",
       "  <thead>\n",
       "    <tr style=\"text-align: right;\">\n",
       "      <th></th>\n",
       "      <th>name</th>\n",
       "      <th>match</th>\n",
       "      <th>ftype</th>\n",
       "      <th>style</th>\n",
       "      <th>family</th>\n",
       "      <th>ver</th>\n",
       "      <th>letter</th>\n",
       "    </tr>\n",
       "  </thead>\n",
       "  <tbody>\n",
       "    <tr>\n",
       "      <th>4206</th>\n",
       "      <td>abbott-labs</td>\n",
       "      <td>4206</td>\n",
       "      <td>serif</td>\n",
       "      <td>oldstyle</td>\n",
       "      <td>bembo</td>\n",
       "      <td>bold</td>\n",
       "      <td>a</td>\n",
       "    </tr>\n",
       "    <tr>\n",
       "      <th>3199</th>\n",
       "      <td>abbott-labs</td>\n",
       "      <td>3199</td>\n",
       "      <td>serif</td>\n",
       "      <td>clarendon</td>\n",
       "      <td>clarendon</td>\n",
       "      <td>bold</td>\n",
       "      <td>b</td>\n",
       "    </tr>\n",
       "    <tr>\n",
       "      <th>3199</th>\n",
       "      <td>abbott-labs</td>\n",
       "      <td>3199</td>\n",
       "      <td>serif</td>\n",
       "      <td>clarendon</td>\n",
       "      <td>clarendon</td>\n",
       "      <td>bold</td>\n",
       "      <td>b</td>\n",
       "    </tr>\n",
       "    <tr>\n",
       "      <th>3174</th>\n",
       "      <td>abbott-labs</td>\n",
       "      <td>3174</td>\n",
       "      <td>serif</td>\n",
       "      <td>clarendon</td>\n",
       "      <td>clarendon</td>\n",
       "      <td>bold</td>\n",
       "      <td>o</td>\n",
       "    </tr>\n",
       "  </tbody>\n",
       "</table>\n",
       "</div>"
      ],
      "text/plain": [
       "             name  match  ftype      style     family   ver letter\n",
       "4206  abbott-labs   4206  serif   oldstyle      bembo  bold      a\n",
       "3199  abbott-labs   3199  serif  clarendon  clarendon  bold      b\n",
       "3199  abbott-labs   3199  serif  clarendon  clarendon  bold      b\n",
       "3174  abbott-labs   3174  serif  clarendon  clarendon  bold      o"
      ]
     },
     "execution_count": 8,
     "metadata": {},
     "output_type": "execute_result"
    }
   ],
   "source": [
    "brand_font_df = fontdf.iloc[char_match[char_match < 9999.].astype('int'),625:]\n",
    "brand_font_df.insert(0, 'name', name)\n",
    "brand_font_df.insert(1, 'match', char_match[char_match < 9999.].astype('int'))\n",
    "\n",
    "brand_font_df"
   ]
  },
  {
   "cell_type": "markdown",
   "metadata": {},
   "source": [
    "*Isolate the part of the image that corresponds to the characters:*"
   ]
  },
  {
   "cell_type": "code",
   "execution_count": 9,
   "metadata": {},
   "outputs": [],
   "source": [
    "allchars = np.isin(regionalized-1, np.where(is_char))"
   ]
  },
  {
   "cell_type": "markdown",
   "metadata": {},
   "source": [
    "## Isolating the marks\n",
    "\n",
    "Note that in this step, we use the convex hull of the characters, not the characters themselves, to avoid leaving behind the \"insides\" of some letters like e, o, P, R, etc."
   ]
  },
  {
   "cell_type": "code",
   "execution_count": 10,
   "metadata": {},
   "outputs": [],
   "source": [
    "marks = np.copy(regionalized)\n",
    "if np.sum(is_char) > 0:\n",
    "    for j in np.nditer(np.where(is_char)):\n",
    "        ch = convex_hull_image(((regionalized-1)==j).astype('float'))\n",
    "        marks[ch] = 0"
   ]
  },
  {
   "cell_type": "markdown",
   "metadata": {},
   "source": [
    "*Plot the results:*"
   ]
  },
  {
   "cell_type": "code",
   "execution_count": 11,
   "metadata": {},
   "outputs": [
    {
     "data": {
      "text/plain": [
       "(-0.5, 399.5, 162.5, -0.5)"
      ]
     },
     "execution_count": 11,
     "metadata": {},
     "output_type": "execute_result"
    },
    {
     "data": {
      "image/png": "[encoded data removed]",
      "text/plain": [
       "<matplotlib.figure.Figure at 0x1041cc358>"
      ]
     },
     "metadata": {},
     "output_type": "display_data"
    },
    {
     "data": {
      "image/png": "[encoded data removed]",
      "text/plain": [
       "<matplotlib.figure.Figure at 0x1041cc9e8>"
      ]
     },
     "metadata": {},
     "output_type": "display_data"
    }
   ],
   "source": [
    "plt.figure()\n",
    "plt.imshow(allchars)\n",
    "plt.axis('off')\n",
    "\n",
    "plt.figure()\n",
    "plt.imshow(marks)\n",
    "plt.axis('off')"
   ]
  },
  {
   "cell_type": "markdown",
   "metadata": {},
   "source": [
    "### Erosion to separate characters\n",
    "\n",
    "One remaining problem is that we may have characters that are not totally separate, due to just how the font was set. For example, two letters touching or almost touching, like \"tu\" as typeset here.\n",
    "\n",
    "To try to separate these out, we can apply an erosion step, where we erode the remaining marks, and then try to template match again. "
   ]
  },
  {
   "cell_type": "code",
   "execution_count": 12,
   "metadata": {},
   "outputs": [
    {
     "data": {
      "text/plain": [
       "<matplotlib.image.AxesImage at 0x113315208>"
      ]
     },
     "execution_count": 12,
     "metadata": {},
     "output_type": "execute_result"
    },
    {
     "data": {
      "image/png": "[encoded data removed]",
      "text/plain": [
       "<matplotlib.figure.Figure at 0x11150f438>"
      ]
     },
     "metadata": {},
     "output_type": "display_data"
    }
   ],
   "source": [
    "eroded = morphology.erosion(marks>0, selem=morphology.disk(3)) # 3 is a tuning par (so is disk actually)\n",
    "eroded_labels = label(eroded)\n",
    "plt.imshow(eroded_labels)"
   ]
  },
  {
   "cell_type": "code",
   "execution_count": 13,
   "metadata": {},
   "outputs": [],
   "source": [
    "eroded_segmentation = np.zeros((25,25,np.max(eroded_labels)))\n",
    "for l in range(1,np.max(eroded_labels)):\n",
    "    eroded_segmentation[:,:,l] = make_small_feature(\n",
    "        remove_segmentation_bg(morphology.dilation(eroded_labels==l, \n",
    "                            selem=morphology.disk(3))))"
   ]
  },
  {
   "cell_type": "code",
   "execution_count": 14,
   "metadata": {},
   "outputs": [],
   "source": [
    "eroded_chars, eroded_match, otherthing = detect_chars(eroded_segmentation, fontdf=fontdf, name=name)"
   ]
  },
  {
   "cell_type": "code",
   "execution_count": 15,
   "metadata": {},
   "outputs": [],
   "source": [
    "font_add_df = fontdf.iloc[eroded_match[eroded_match < 9999.].astype('int'),625:]\n",
    "font_add_df.insert(0, 'name', name)\n",
    "font_add_df.insert(1, 'match', eroded_match[eroded_match < 9999.].astype('int'))\n",
    "\n",
    "brand_font_df = pd.concat([brand_font_df, font_add_df])"
   ]
  },
  {
   "cell_type": "code",
   "execution_count": 16,
   "metadata": {},
   "outputs": [
    {
     "data": {
      "text/html": [
       "<div>\n",
       "<table border=\"1\" class=\"dataframe\">\n",
       "  <thead>\n",
       "    <tr style=\"text-align: right;\">\n",
       "      <th></th>\n",
       "      <th>name</th>\n",
       "      <th>match</th>\n",
       "      <th>ftype</th>\n",
       "      <th>style</th>\n",
       "      <th>family</th>\n",
       "      <th>ver</th>\n",
       "      <th>letter</th>\n",
       "    </tr>\n",
       "  </thead>\n",
       "  <tbody>\n",
       "    <tr>\n",
       "      <th>4206</th>\n",
       "      <td>abbott-labs</td>\n",
       "      <td>4206</td>\n",
       "      <td>serif</td>\n",
       "      <td>oldstyle</td>\n",
       "      <td>bembo</td>\n",
       "      <td>bold</td>\n",
       "      <td>a</td>\n",
       "    </tr>\n",
       "    <tr>\n",
       "      <th>3199</th>\n",
       "      <td>abbott-labs</td>\n",
       "      <td>3199</td>\n",
       "      <td>serif</td>\n",
       "      <td>clarendon</td>\n",
       "      <td>clarendon</td>\n",
       "      <td>bold</td>\n",
       "      <td>b</td>\n",
       "    </tr>\n",
       "    <tr>\n",
       "      <th>3199</th>\n",
       "      <td>abbott-labs</td>\n",
       "      <td>3199</td>\n",
       "      <td>serif</td>\n",
       "      <td>clarendon</td>\n",
       "      <td>clarendon</td>\n",
       "      <td>bold</td>\n",
       "      <td>b</td>\n",
       "    </tr>\n",
       "    <tr>\n",
       "      <th>3174</th>\n",
       "      <td>abbott-labs</td>\n",
       "      <td>3174</td>\n",
       "      <td>serif</td>\n",
       "      <td>clarendon</td>\n",
       "      <td>clarendon</td>\n",
       "      <td>bold</td>\n",
       "      <td>o</td>\n",
       "    </tr>\n",
       "    <tr>\n",
       "      <th>4883</th>\n",
       "      <td>abbott-labs</td>\n",
       "      <td>4883</td>\n",
       "      <td>sans</td>\n",
       "      <td>geom-square</td>\n",
       "      <td>eurostile</td>\n",
       "      <td>wide</td>\n",
       "      <td>o</td>\n",
       "    </tr>\n",
       "    <tr>\n",
       "      <th>2470</th>\n",
       "      <td>abbott-labs</td>\n",
       "      <td>2470</td>\n",
       "      <td>serif</td>\n",
       "      <td>slab</td>\n",
       "      <td>rockwell</td>\n",
       "      <td>cb</td>\n",
       "      <td>t</td>\n",
       "    </tr>\n",
       "  </tbody>\n",
       "</table>\n",
       "</div>"
      ],
      "text/plain": [
       "             name  match  ftype        style     family   ver letter\n",
       "4206  abbott-labs   4206  serif     oldstyle      bembo  bold      a\n",
       "3199  abbott-labs   3199  serif    clarendon  clarendon  bold      b\n",
       "3199  abbott-labs   3199  serif    clarendon  clarendon  bold      b\n",
       "3174  abbott-labs   3174  serif    clarendon  clarendon  bold      o\n",
       "4883  abbott-labs   4883   sans  geom-square  eurostile  wide      o\n",
       "2470  abbott-labs   2470  serif         slab   rockwell    cb      t"
      ]
     },
     "execution_count": 16,
     "metadata": {},
     "output_type": "execute_result"
    }
   ],
   "source": [
    "brand_font_df"
   ]
  },
  {
   "cell_type": "code",
   "execution_count": 17,
   "metadata": {},
   "outputs": [
    {
     "data": {
      "text/plain": [
       "<matplotlib.image.AxesImage at 0x1137dc0b8>"
      ]
     },
     "execution_count": 17,
     "metadata": {},
     "output_type": "execute_result"
    },
    {
     "data": {
      "image/png": "[encoded data removed]",
      "text/plain": [
       "<matplotlib.figure.Figure at 0x11333c828>"
      ]
     },
     "metadata": {},
     "output_type": "display_data"
    },
    {
     "data": {
      "image/png": "[encoded data removed]",
      "text/plain": [
       "<matplotlib.figure.Figure at 0x11152a828>"
      ]
     },
     "metadata": {},
     "output_type": "display_data"
    }
   ],
   "source": [
    "for l in range(np.max(eroded_labels)):\n",
    "    if eroded_chars[l]:\n",
    "        marks[morphology.dilation(eroded_labels==l, selem=morphology.disk(5))] = 0\n",
    "        allchars[morphology.dilation(eroded_labels==l, selem=morphology.disk(3))] = 1\n",
    "\n",
    "plt.figure()\n",
    "plt.imshow(marks)\n",
    "\n",
    "plt.figure()\n",
    "plt.imshow(allchars)"
   ]
  },
  {
   "cell_type": "markdown",
   "metadata": {},
   "source": [
    "## Features of the marks\n",
    "\n",
    "Now, we will take the marks that have been isolated by the above extractor, and compute a set of features describing those marks.\n",
    "\n",
    "First, let's cluster the marks based on position, and eliminate very small outliers:"
   ]
  },
  {
   "cell_type": "code",
   "execution_count": 18,
   "metadata": {},
   "outputs": [
    {
     "data": {
      "text/plain": [
       "<matplotlib.image.AxesImage at 0x121550f60>"
      ]
     },
     "execution_count": 18,
     "metadata": {},
     "output_type": "execute_result"
    },
    {
     "data": {
      "image/png": "[encoded data removed]",
      "text/plain": [
       "<matplotlib.figure.Figure at 0x1137e72b0>"
      ]
     },
     "metadata": {},
     "output_type": "display_data"
    }
   ],
   "source": [
    "mark_pix = np.transpose(np.vstack(np.where(marks > 0)))\n",
    "\n",
    "mark_clusters = DBSCAN(algorithm='ball_tree', eps=15, min_samples=1) \n",
    "# NOTE: eps is a tuning parameter\n",
    "\n",
    "mark_clusters.fit(mark_pix)\n",
    "\n",
    "mark_segments = np.copy(marks)\n",
    "mark_segments[mark_segments > 0] = mark_clusters.labels_+1\n",
    "\n",
    "h,w = img.shape[0:2]\n",
    "img_size = h*w\n",
    "\n",
    "mark_fracs = np.array([np.sum(mark_segments == s) / img_size for s in range(np.max(mark_segments)+1)])\n",
    "\n",
    "big_marks = np.zeros_like(mark_segments)\n",
    "index = 0\n",
    "for s in range(np.max(mark_segments)+1):\n",
    "    if mark_fracs[s] > 0.01:\n",
    "        big_marks[mark_segments==s] = index\n",
    "        index += 1\n",
    "        \n",
    "plt.imshow(big_marks)"
   ]
  },
  {
   "cell_type": "markdown",
   "metadata": {},
   "source": [
    "These just isolate the parts of the regionalized and original images corresponding to the big marks:"
   ]
  },
  {
   "cell_type": "code",
   "execution_count": 19,
   "metadata": {},
   "outputs": [],
   "source": [
    "h,w = big_marks.shape\n",
    "big_marks_regionalized = np.zeros((h,w,np.max(big_marks)))\n",
    "for m in range(np.max(big_marks)):\n",
    "    temp = np.copy(regionalized)\n",
    "    temp[big_marks != m+1] = 0\n",
    "    big_marks_regionalized[:,:,m] = temp"
   ]
  },
  {
   "cell_type": "code",
   "execution_count": 20,
   "metadata": {},
   "outputs": [],
   "source": [
    "h,w = big_marks.shape\n",
    "big_marks_orig = np.zeros((h,w,3,np.max(big_marks))).astype('uint8')\n",
    "for m in range(np.max(big_marks)):\n",
    "    temp = np.copy(add_padding(img, bgval=255, pad_size=20))\n",
    "    temp[big_marks != m+1] = 255\n",
    "    big_marks_orig[:,:,:,m] = temp"
   ]
  },
  {
   "cell_type": "markdown",
   "metadata": {},
   "source": [
    "We could print the following to test if it's working:"
   ]
  },
  {
   "cell_type": "code",
   "execution_count": 21,
   "metadata": {},
   "outputs": [
    {
     "data": {
      "text/plain": [
       "<matplotlib.image.AxesImage at 0x1217aee80>"
      ]
     },
     "execution_count": 21,
     "metadata": {},
     "output_type": "execute_result"
    },
    {
     "data": {
      "image/png": "[encoded data removed]",
      "text/plain": [
       "<matplotlib.figure.Figure at 0x121561a58>"
      ]
     },
     "metadata": {},
     "output_type": "display_data"
    }
   ],
   "source": [
    "plt.imshow(np.hstack([big_marks, allchars]))"
   ]
  },
  {
   "cell_type": "code",
   "execution_count": 22,
   "metadata": {},
   "outputs": [],
   "source": [
    "import scipy.misc\n",
    "\n",
    "scipy.misc.imsave('data/test_extraction/'+name+'.jpg', 1-np.hstack([big_marks, allchars]))"
   ]
  },
  {
   "cell_type": "markdown",
   "metadata": {},
   "source": [
    "Now, we compute a bunch of descriptors on each of the big marks. I will first demonstrate the extraction on one of the marks, then write a loop that combines everything. I will also point to literature where relevant.\n",
    "\n",
    "**NOTE: Many of these same feature extractors will be used again when looking at the logo as a whole, where the same justification can be applied.**"
   ]
  },
  {
   "cell_type": "markdown",
   "metadata": {},
   "source": [
    "First, there is still some final processing that should be done, to compute things later on:"
   ]
  },
  {
   "cell_type": "markdown",
   "metadata": {},
   "source": [
    "*Compute the location of the characters (this will be used later on):*"
   ]
  },
  {
   "cell_type": "code",
   "execution_count": 23,
   "metadata": {},
   "outputs": [],
   "source": [
    "chars = np.isin(regionalized-1, np.where(is_char))\n",
    "\n",
    "h,w = regionalized.shape\n",
    "\n",
    "\n",
    "h_charfirstp = 0\n",
    "h_charlastp = w\n",
    "v_charfirstp = 0\n",
    "v_charlastp = h\n",
    "\n",
    "for i in range(w):\n",
    "    if np.sum(allchars[:,i])>0:\n",
    "        h_charfirstp = i\n",
    "        break\n",
    "\n",
    "for i in reversed(range(w)):\n",
    "    if np.sum(allchars[:,i])>0:\n",
    "        h_charlastp = i\n",
    "        break\n",
    "\n",
    "for j in range(h):\n",
    "    if np.sum(allchars[j,:])>0:\n",
    "        v_charfirstp = j\n",
    "        break\n",
    "\n",
    "for j in reversed(range(h)):\n",
    "    if np.sum(allchars[j,:])>0:\n",
    "        v_charlastp = j\n",
    "        break\n",
    "            \n",
    "if np.sum(is_char) > 0:\n",
    "    h_charpos = (h_charfirstp+h_charlastp)/2./w\n",
    "    v_charpos = (v_charfirstp+v_charlastp)/2./h\n",
    "else: \n",
    "    h_charpos = 0.5\n",
    "    v_charpos = 0.5"
   ]
  },
  {
   "cell_type": "markdown",
   "metadata": {},
   "source": [
    "Some basic properties of the mark in question:"
   ]
  },
  {
   "cell_type": "code",
   "execution_count": 24,
   "metadata": {},
   "outputs": [
    {
     "data": {
      "text/plain": [
       "0.014001806684733513"
      ]
     },
     "execution_count": 24,
     "metadata": {},
     "output_type": "execute_result"
    }
   ],
   "source": [
    "m = 1\n",
    "\n",
    "# Binarized version of the mark:\n",
    "binmark = (big_marks==m)\n",
    "\n",
    "# Which of the original regions correspond to this mark?\n",
    "whichregions = np.unique(regionalized[binmark])\n",
    "\n",
    "# Mark's fraction of the total image:\n",
    "frac = np.sum(big_marks==m)/img_size\n",
    "\n",
    "frac"
   ]
  },
  {
   "cell_type": "markdown",
   "metadata": {},
   "source": [
    "### Convex hull of the mark:\n",
    "\n",
    "The convex hull of the mark conveys the sort of \"structure\" of the mark. This relates to a number of things in the literature, like the predominance of global features over local features (Navon 1977), and the \"types\" that have been found in package design from the work of Orth and Malkewitz (2008), where they study a bunch of dimensions of package design, including some described below based on Henderson and Cote (2004), but others including size and weight, and position (also described subsequently)."
   ]
  },
  {
   "cell_type": "code",
   "execution_count": 25,
   "metadata": {},
   "outputs": [
    {
     "data": {
      "text/plain": [
       "<matplotlib.image.AxesImage at 0x121d7c978>"
      ]
     },
     "execution_count": 25,
     "metadata": {},
     "output_type": "execute_result"
    },
    {
     "data": {
      "image/png": "[encoded data removed]",
      "text/plain": [
       "<matplotlib.figure.Figure at 0x1217d6f60>"
      ]
     },
     "metadata": {},
     "output_type": "display_data"
    }
   ],
   "source": [
    "# Convex hull of the mark:\n",
    "ch = convex_hull_image(binmark)\n",
    "plt.imshow(ch)"
   ]
  },
  {
   "cell_type": "markdown",
   "metadata": {},
   "source": [
    "### Complexity of the mark:\n",
    "\n",
    "In the following chunks, I will extract information about the complexity of the mark. Again, many of these same descriptors will be used for the logo as a whole, so I will not repeat those later when looking at holistic logo properties.\n",
    "\n",
    "Complexity has been studied in a number of previous papers, starting from Henderson and Cote (1998), where \"elaborate\" was one of their key dimensions of logo design, with complexity being a subdimension. Note that the other subdimensions were \"active\" and \"depth\" which can be approximately captured with other features. Another one of Henderson and Cote's primary dimensions was natural, which is the degree to which the design depicts commonly experienced objects. This is not explicitly captured by complexity (especially given complexity is a subdimension of another one of their constructs), yet natural designs are, in many cases, more \"complex\" than non-natural ones, especially in logos (think branch of a tree versus a bunch of triangles). Van der Lans et al. use basically the same framework for studying logo design responses. \n",
    "\n",
    "Pieters et al. (2010) also study complexity, but in advertising. They come up with two subdimensions of complexity: feature complexity and design complexity. Feature complexity relates to color and edges, which they measure using variance at the pixel level. Design complexity is similar to elaborateness above, and measured by looking at quantity of objects, irregularity of objects, dissimilarity of objects, detail of objects, asymmetry of object arrangement, and irregularity of object arrangement.\n",
    "\n",
    "Here, we will compute a number of metrics of complexity, providing a proxy to some of these ideas. First, we can look at the number of colors, isolated from the above DBSCAN-based clustering/color quantization:\n",
    "\n"
   ]
  },
  {
   "cell_type": "code",
   "execution_count": 26,
   "metadata": {},
   "outputs": [
    {
     "data": {
      "text/plain": [
       "1"
      ]
     },
     "execution_count": 26,
     "metadata": {},
     "output_type": "execute_result"
    }
   ],
   "source": [
    "# Number of colors in the mark:\n",
    "ncolors = np.unique(feat_cols[whichregions-1], axis=0).shape[0]\n",
    "ncolors"
   ]
  },
  {
   "cell_type": "markdown",
   "metadata": {},
   "source": [
    "We can also look at features of the mark itself, like how many subcomponents it has, and the perimetric complexity of those components (perimetric complexity is computed from the ratio of the number pixels on the perimeter of the object and the area of the interior; see, for instance, this article from the *Mathematica journal* http://www.mathematica-journal.com/data/uploads/2012/02/Watson.pdf):"
   ]
  },
  {
   "cell_type": "code",
   "execution_count": 27,
   "metadata": {},
   "outputs": [
    {
     "data": {
      "text/plain": [
       "(1, 5.1340304223192046)"
      ]
     },
     "execution_count": 27,
     "metadata": {},
     "output_type": "execute_result"
    }
   ],
   "source": [
    "# Number of subregions in the mark?\n",
    "nregions = whichregions.size\n",
    "\n",
    "# Perimetric complexity of the mark:\n",
    "pcm = perimetric_complexity(remove_segmentation_bg(binmark).astype(\"float\"))\n",
    "\n",
    "nregions, pcm"
   ]
  },
  {
   "cell_type": "markdown",
   "metadata": {},
   "source": [
    "We can also study things like the entropy of the mark, and the density of the mark, meaning what percentage of the mark is color versus background. These again get at things like the feature complexity of Pieters et al., the complexity and naturalness of Henderson and Cote, and even at some aspects of color described above, like the ratio of light and dark within the feature. Note that we compute these things WITHIN the convex hull of the feature, to minimize the degree that the background may influence these features (for example, a long ovular feature may have the same complexity as a circular feature, but if everything is shrunk to fit in a square or rectangle, one may have different densities based purely on the amount of background, which is irrelevant to the feature itself)."
   ]
  },
  {
   "cell_type": "code",
   "execution_count": 28,
   "metadata": {},
   "outputs": [
    {
     "data": {
      "text/plain": [
       "0.56672760511883002"
      ]
     },
     "execution_count": 28,
     "metadata": {},
     "output_type": "execute_result"
    }
   ],
   "source": [
    "# Density of the binarized mark within its hull:\n",
    "ch_density = np.sum(binmark[ch])/np.sum(ch)\n",
    "\n",
    "ch_density"
   ]
  },
  {
   "cell_type": "code",
   "execution_count": 29,
   "metadata": {},
   "outputs": [
    {
     "name": "stderr",
     "output_type": "stream",
     "text": [
      "/Users/ryan/anaconda3/envs/clusterenv/lib/python3.4/site-packages/skimage/util/dtype.py:110: UserWarning: Possible precision loss when converting from float64 to uint8\n",
      "  \"%s to %s\" % (dtypeobj_in, dtypeobj))\n"
     ]
    },
    {
     "data": {
      "text/plain": [
       "1.0516479504235483"
      ]
     },
     "execution_count": 29,
     "metadata": {},
     "output_type": "execute_result"
    }
   ],
   "source": [
    "# Entropy of the greyscale mark within its hull:\n",
    "graymark = color.rgb2gray(big_marks_orig[:,:,:,0])\n",
    "ch_entropy = np.mean(entropy(graymark, disk(5))[ch])\n",
    "\n",
    "ch_entropy"
   ]
  },
  {
   "cell_type": "markdown",
   "metadata": {},
   "source": [
    "### Symmetry\n",
    "\n",
    "Symmetry has been described by both Henderson and Cote, as a component of harmonious, and likewise by van der Lans et al. Moreover, symmetry is, to some degree, also a property of \"parallel\", another dimension of van der Lans et al. Thus, we can look within each mark, and compute the degree to which it is vertically and horizontally symmetric, but comparing the correlation between its vertical and horizontal halves (respectively):"
   ]
  },
  {
   "cell_type": "code",
   "execution_count": 30,
   "metadata": {},
   "outputs": [
    {
     "data": {
      "text/plain": [
       "(0.60662134693013336, 0.32442445792037994)"
      ]
     },
     "execution_count": 30,
     "metadata": {},
     "output_type": "execute_result"
    }
   ],
   "source": [
    "# Horizontal, vertical symmetry\n",
    "h_sym, v_sym = compute_symmetry(binmark)\n",
    "h_sym, v_sym"
   ]
  },
  {
   "cell_type": "markdown",
   "metadata": {},
   "source": [
    "### Repetition\n",
    "\n",
    "Repetition was also described in both Henderson and Cote and van der Lans et al. This proved a little more difficult to operationalize. I have come up with two proxies: the standard deviation of the sizes of the subcomponents of the mark, and the standard deviation of the perimetric complexities of the subcomponents of the mark. The reason being that many similar size subcomponents likely indicates that there is repetition in the mark, so a low standard deviation in sizes (actually, fractions of the total mark) should be indicative of that. Similarly, if two features are similar in nature, *regardless of rotation or size*, they should have similar perimetric complexities."
   ]
  },
  {
   "cell_type": "code",
   "execution_count": 31,
   "metadata": {},
   "outputs": [
    {
     "name": "stderr",
     "output_type": "stream",
     "text": [
      "/Users/ryan/anaconda3/envs/clusterenv/lib/python3.4/site-packages/skimage/util/dtype.py:110: UserWarning: Possible precision loss when converting from float64 to uint8\n",
      "  \"%s to %s\" % (dtypeobj_in, dtypeobj))\n"
     ]
    },
    {
     "data": {
      "text/plain": [
       "array([ 1.41040249,  1.42515241,  1.42515241, ...,  1.0831794 ,\n",
       "        1.0831794 ,  1.22139776])"
      ]
     },
     "execution_count": 31,
     "metadata": {},
     "output_type": "execute_result"
    }
   ],
   "source": [
    "entropy(graymark, disk(5))[ch]"
   ]
  },
  {
   "cell_type": "code",
   "execution_count": 32,
   "metadata": {},
   "outputs": [
    {
     "data": {
      "text/plain": [
       "(0.0, 0.0)"
      ]
     },
     "execution_count": 32,
     "metadata": {},
     "output_type": "execute_result"
    }
   ],
   "source": [
    "# Repetition metrics:\n",
    "if nregions > 1:\n",
    "    rep_frac = np.std([np.sum(regionalized==i)/np.sum(binmark) for i in whichregions])\n",
    "    rep_pcm = np.std([perimetric_complexity(add_quantized_padding(\n",
    "        remove_segmentation_bg(regionalized==i),pad_size=5).astype(\"float\")) for i in whichregions])\n",
    "else:\n",
    "    rep_frac = 0.\n",
    "    rep_pcm = 0.\n",
    "\n",
    "rep_frac, rep_pcm"
   ]
  },
  {
   "cell_type": "markdown",
   "metadata": {},
   "source": [
    "Note that the scales of these are different: the fractions take values between 0 and 1, so we expect this to be very close to zero for subcomponents all of the same size. The complexities take positive values, but not of a restricted range."
   ]
  },
  {
   "cell_type": "markdown",
   "metadata": {},
   "source": [
    "### Position of the mark:\n",
    "\n",
    "Position of the mark both has to do with the actual perception of position, and of the orientation of the logo as a whole. Cian et al. (2014) found that logos can evoke the idea of movement by positioning of the logo elements, and by the horizontal orientation of th elogo, which in turn affects consumers' engagement and attitude. Schlosser et al. (2016) found that upward diagonals convey greater activity than downward diagonals, leading to more favorable evaluations, efficacy beliefs, and post-consumption satisfaction.\n",
    "\n",
    "In other domains, there is also related work. For example, Chae and Hoegg find that cultures that read left to right also prefer product positioning from left to right. In the packaging literature, Deng and Kahn (2016) find that the location of the product image on packaging influences the item's perceived weight. Earlier, in advertising, Meyers-Levy and Peracchio (1992) found that looking up versus straight on at an ad influences favorability judgments. \n",
    "\n",
    "By computing the position of the mark on the logo as a whole, we can get at some of these things. We can also use these measures, relative to the text, to see the orientation of the mark relative to the logo."
   ]
  },
  {
   "cell_type": "code",
   "execution_count": 33,
   "metadata": {},
   "outputs": [
    {
     "data": {
      "text/plain": [
       "(0.85625, 0.6104294478527608)"
      ]
     },
     "execution_count": 33,
     "metadata": {},
     "output_type": "execute_result"
    }
   ],
   "source": [
    "# Position of the mark:\n",
    "h,w = regionalized.shape\n",
    "\n",
    "h_firstp = 0\n",
    "h_lastp = w\n",
    "v_firstp = 0\n",
    "v_lastp = h\n",
    "\n",
    "for i in range(w):\n",
    "    if np.sum(binmark[:,i])>0:\n",
    "        h_firstp = i\n",
    "        break\n",
    "\n",
    "for i in reversed(range(w)):\n",
    "    if np.sum(binmark[:,i])>0:\n",
    "        h_lastp = i\n",
    "        break\n",
    "\n",
    "for j in range(h):\n",
    "    if np.sum(binmark[j,:])>0:\n",
    "        v_firstp = j\n",
    "        break\n",
    "\n",
    "for j in reversed(range(h)):\n",
    "    if np.sum(binmark[j,:])>0:\n",
    "        v_lastp = j\n",
    "        break\n",
    "\n",
    "if np.sum(binmark) > 0:\n",
    "    h_pos = (h_firstp+h_lastp)/2./w\n",
    "    v_pos = (v_firstp+v_lastp)/2./h\n",
    "else: \n",
    "    h_pos = 0.5\n",
    "    v_pos = 0.5\n",
    "\n",
    "(h_pos, v_pos)"
   ]
  },
  {
   "cell_type": "markdown",
   "metadata": {},
   "source": [
    "### Position of the mark relative to the text"
   ]
  },
  {
   "cell_type": "markdown",
   "metadata": {},
   "source": [
    "Again speaking to issues of orientation and such, we can compute where the mark is relative to the text. There are two ways to do this: either just compare the average positions of the two (e.g. `h_pos < h_charpos` implies the mark is to the left of the text), or look for absolute position rules (e.g. `h_lastp < h_charfirstp` implies that the entire mark is to the left of all of the characters). I will refer to the first as `avg_left` and the latter as `abs_left`. To assess average position, I will use a cutoff window of 0.2: if the absolute difference between the two mean positions is greater than 0.2, then the condition will be true."
   ]
  },
  {
   "cell_type": "code",
   "execution_count": 34,
   "metadata": {},
   "outputs": [],
   "source": [
    "avg_left = False\n",
    "avg_right = False\n",
    "avg_top = False\n",
    "avg_bot = False\n",
    "\n",
    "abs_left = False\n",
    "abs_right = False\n",
    "abs_top = False\n",
    "abs_bot = False\n",
    "\n",
    "if (h_charpos - h_pos) > 0.2:\n",
    "    avg_left = True\n",
    "elif (h_pos - h_charpos) > 0.2:\n",
    "    avg_right = True\n",
    "    \n",
    "if (v_charpos - v_pos) > 0.2:\n",
    "    avg_top = True\n",
    "elif (v_pos - v_charpos) > 0.2:\n",
    "    avg_bot = True\n",
    "    \n",
    "if h_lastp < h_charfirstp:\n",
    "    abs_left = True\n",
    "elif h_firstp > h_charlastp:\n",
    "    abs_right = True\n",
    "    \n",
    "if v_lastp < v_charfirstp:\n",
    "    abs_top = True\n",
    "elif v_firstp > v_charlastp:\n",
    "    abs_bot = True"
   ]
  },
  {
   "cell_type": "code",
   "execution_count": 35,
   "metadata": {},
   "outputs": [
    {
     "data": {
      "text/plain": [
       "(False, True, False, False)"
      ]
     },
     "execution_count": 35,
     "metadata": {},
     "output_type": "execute_result"
    }
   ],
   "source": [
    "avg_left, avg_right, avg_top, avg_bot"
   ]
  },
  {
   "cell_type": "code",
   "execution_count": 36,
   "metadata": {},
   "outputs": [
    {
     "data": {
      "text/plain": [
       "(False, True, False, False)"
      ]
     },
     "execution_count": 36,
     "metadata": {},
     "output_type": "execute_result"
    }
   ],
   "source": [
    "abs_left, abs_right, abs_top, abs_bot"
   ]
  },
  {
   "cell_type": "code",
   "execution_count": 37,
   "metadata": {},
   "outputs": [
    {
     "data": {
      "text/plain": [
       "(79, 121)"
      ]
     },
     "execution_count": 37,
     "metadata": {},
     "output_type": "execute_result"
    }
   ],
   "source": [
    "v_firstp, v_charlastp"
   ]
  },
  {
   "cell_type": "markdown",
   "metadata": {},
   "source": [
    "### Proportion and horizontal orientation\n",
    "\n",
    "Proportion is another thing that has been studied in Henderson and Cote (1998) and van der Lans (2009): we can operationalize proportion by looking at the aspect ratio of the mark (that is, the ratio of the width to the height). This also speaks, in some way, to horizontal orientation."
   ]
  },
  {
   "cell_type": "code",
   "execution_count": 38,
   "metadata": {},
   "outputs": [
    {
     "data": {
      "text/plain": [
       "0.75609756097560976"
      ]
     },
     "execution_count": 38,
     "metadata": {},
     "output_type": "execute_result"
    }
   ],
   "source": [
    "# Aspect ratio of the mark:\n",
    "ar = np.abs(h_firstp-h_lastp)/np.abs(v_firstp-v_lastp)\n",
    "ar"
   ]
  },
  {
   "cell_type": "markdown",
   "metadata": {},
   "source": [
    "### Angularity \n",
    "\n",
    "Angularity of features is another thing that has been described at length in the literature: Walsh et al. (2010) finds that moving from an angular to a round logo produces mixed responses in consumers, while Jiang et al. find that the mere circularity or angularity of the logo affects perceptions of hardness or softness. We can operationalize angularity via the number of corners:"
   ]
  },
  {
   "cell_type": "code",
   "execution_count": 39,
   "metadata": {},
   "outputs": [
    {
     "data": {
      "text/plain": [
       "20"
      ]
     },
     "execution_count": 39,
     "metadata": {},
     "output_type": "execute_result"
    }
   ],
   "source": [
    "# Number of corners in the mark:\n",
    "ncorners = feature.corner_peaks(feature.corner_harris(binmark)).shape[0]\n",
    "ncorners"
   ]
  },
  {
   "cell_type": "markdown",
   "metadata": {},
   "source": [
    "### Orientation and diagonals\n",
    "\n",
    "Several papers have discussed the idea of conveying movement: Cian et al., discussed already above, finds that a horizontal orientation can affect consumers evaluations. More recently, Schlosser at al. (2016) finds that upward diagonals convey greater activity, leading to differences in evaluations of the logo.\n",
    "\n",
    "In this section, we try to more generally capture directionality or orientation, using the gradients of the image, to characterize the percentage of edge pixels falling in one of four buckets: downward diagonal, vertical, upward diagonal, horizontal."
   ]
  },
  {
   "cell_type": "code",
   "execution_count": 40,
   "metadata": {},
   "outputs": [
    {
     "data": {
      "text/plain": [
       "array([ 0.05989583,  0.515625  ,  0.12239583,  0.30208333])"
      ]
     },
     "execution_count": 40,
     "metadata": {},
     "output_type": "execute_result"
    }
   ],
   "source": [
    "# Gradient information to capture orientation:\n",
    "grad_mean, grad_bins = gradient_info(binmark)\n",
    "(down_diag, vert, up_diag, hor) = grad_bins\n",
    "grad_bins"
   ]
  },
  {
   "cell_type": "markdown",
   "metadata": {},
   "source": [
    "## Combining and saving all of the mark features: "
   ]
  },
  {
   "cell_type": "code",
   "execution_count": 41,
   "metadata": {},
   "outputs": [],
   "source": [
    "marks = pd.DataFrame()\n",
    "mark_features = pd.DataFrame()\n",
    "mark_hulls = pd.DataFrame()\n",
    "\n",
    "for m in (np.arange(np.max(big_marks))+1):\n",
    "\n",
    "    # Binarized version of the mark:\n",
    "    binmark = (big_marks==m)\n",
    "    \n",
    "    # Save the mark:\n",
    "    std_mark = make_small_feature(remove_segmentation_bg(binmark), end_size = 25)\n",
    "    mark_df = pd.DataFrame(np.reshape(make_small_feature(remove_segmentation_bg(binmark), end_size = 25), (1,(25*25))))\n",
    "    mark_df.insert(0, 'name', name)\n",
    "    mark_df.insert(1, 'index', m)\n",
    "    marks = pd.concat([marks, mark_df])\n",
    "    \n",
    "    # Which of the original regions correspond to this mark?\n",
    "    whichregions = np.unique(regionalized[binmark])\n",
    "    \n",
    "    # Bumber of colors in the mark:\n",
    "    ncolors = np.unique(feat_cols[whichregions-1], axis=0).shape[0]\n",
    "    \n",
    "    # Number of subregions in the mark?\n",
    "    nregions = whichregions.size\n",
    "    \n",
    "    # Mark's fraction of the total image:\n",
    "    frac = np.sum(big_marks==m)/img_size\n",
    "    \n",
    "    # Perimetric complexity of the mark:\n",
    "    pcm = perimetric_complexity(remove_segmentation_bg(binmark).astype(\"float\"))\n",
    "    \n",
    "    # Horizontal, vertical symmetry\n",
    "    h_sym, v_sym = compute_symmetry(binmark)\n",
    "    \n",
    "    # Repetition metrics:\n",
    "    if nregions > 1:\n",
    "        rep_frac = np.std([np.sum(regionalized==i)/np.sum(binmark) for i in whichregions])\n",
    "        rep_pcm = np.std([perimetric_complexity(add_quantized_padding(\n",
    "            remove_segmentation_bg(regionalized==i),pad_size=5).astype(\"float\")) for i in whichregions])\n",
    "    else:\n",
    "        rep_frac = 0.\n",
    "        rep_pcm = 0.\n",
    "        \n",
    "    # Position of the mark:\n",
    "    h,w = regionalized.shape\n",
    "    \n",
    "    ## horizontal position:\n",
    "    for i in range(w):\n",
    "        if np.sum(binmark[:,i])>0:\n",
    "            h_firstp = i\n",
    "            break\n",
    "\n",
    "    for i in reversed(range(w)):\n",
    "        if np.sum(binmark[:,i])>0:\n",
    "            h_lastp = i\n",
    "            break\n",
    "            \n",
    "    h_pos = (h_firstp+h_lastp)/2./w\n",
    "\n",
    "    ## vertical position:\n",
    "    for j in range(h):\n",
    "        if np.sum(binmark[j,:])>0:\n",
    "            v_firstp = j\n",
    "            break\n",
    "            \n",
    "    for j in reversed(range(h)):\n",
    "        if np.sum(binmark[j,:])>0:\n",
    "            v_lastp = j\n",
    "            break\n",
    "\n",
    "    v_pos = (v_firstp+v_lastp)/2./h\n",
    "    \n",
    "    # Relative position:\n",
    "    avg_left = False\n",
    "    avg_right = False\n",
    "    avg_top = False\n",
    "    avg_bot = False\n",
    "\n",
    "    abs_left = False\n",
    "    abs_right = False\n",
    "    abs_top = False\n",
    "    abs_bot = False\n",
    "\n",
    "    if (h_charpos - h_pos) > 0.2:\n",
    "        avg_left = True\n",
    "    elif (h_pos - h_charpos) > 0.2:\n",
    "        avg_right = True\n",
    "\n",
    "    if (v_charpos - v_pos) > 0.2:\n",
    "        avg_top = True\n",
    "    elif (v_pos - v_charpos) > 0.2:\n",
    "        avg_bot = True\n",
    "\n",
    "    if h_lastp < h_charfirstp:\n",
    "        abs_left = True\n",
    "    elif h_firstp > h_charlastp:\n",
    "        abs_right = True\n",
    "\n",
    "    if v_lastp < v_charfirstp:\n",
    "        abs_top = True\n",
    "    elif v_firstp > v_charlastp:\n",
    "        abs_bot = True\n",
    "    \n",
    "    # Convex hull of the mark:\n",
    "    ch = convex_hull_image(binmark)\n",
    "    \n",
    "    # Save the convex hull:\n",
    "    ch_df = pd.DataFrame(np.reshape(make_small_feature(remove_segmentation_bg(ch), end_size = 25), (1,25*25)))\n",
    "    ch_df.insert(0, 'name', name)\n",
    "    ch_df.insert(1, 'index', m)\n",
    "    mark_hulls = pd.concat([mark_hulls, ch_df])\n",
    "    \n",
    "    # Density of the mark within its hull:\n",
    "    ch_density = np.sum(binmark[ch])/np.sum(ch)\n",
    "    \n",
    "    # Entropy of the mark within its hull:\n",
    "    ch_entropy = np.mean(entropy(binmark, disk(5))[ch])\n",
    "\n",
    "    # Aspect ratio of the mark:\n",
    "    ar = np.abs(h_firstp-h_lastp)/np.abs(v_firstp-v_lastp)\n",
    "    \n",
    "    # Number of corners in the mark:\n",
    "    ncorners = feature.corner_peaks(feature.corner_harris(binmark)).shape[0]\n",
    "    \n",
    "    # Gradient information to capture orientation:\n",
    "    grad_mean, grad_bins = gradient_info(binmark)\n",
    "    (down_diag, vert, up_diag, hor) = grad_bins\n",
    "    \n",
    "    features_df = pd.DataFrame({'name':name,\n",
    "                                'index':m,\n",
    "                                'ncolors':ncolors,\n",
    "                                'nregions':nregions,\n",
    "                                'frac':frac,\n",
    "                                'pcm':pcm,\n",
    "                                'h_sym':h_sym,\n",
    "                                'v_sym':v_sym,\n",
    "                                'rep_frac':rep_frac,\n",
    "                                'rep_pcm':rep_pcm,\n",
    "                                'h_pos':h_pos,\n",
    "                                'v_pos':v_pos,\n",
    "                                'avg_left':avg_left,\n",
    "                                'avg_right':avg_right,\n",
    "                                'avg_top':avg_top,\n",
    "                                'avg_bot':avg_bot,\n",
    "                                'abs_left':abs_left,\n",
    "                                'abs_right':abs_right,\n",
    "                                'abs_top':abs_top,\n",
    "                                'abs_bot':abs_bot,\n",
    "                                'ch_density':ch_density,\n",
    "                                'ch_entropy':ch_entropy,\n",
    "                                'ar':ar,\n",
    "                                'ncorners':ncorners,\n",
    "                                'down_diag':down_diag,\n",
    "                                'vert':vert,\n",
    "                                'up_diag':up_diag,\n",
    "                                'hor':hor}, \n",
    "                              index=[m], \n",
    "                              columns=['name','index','ncolors','nregions',\n",
    "                                       'frac','pcm','h_sym','v_sym','rep_frac', \n",
    "                                       'rep_pcm','h_pos','v_pos',\n",
    "                                       'avg_left','avg_right','avg_top','avg_bot',\n",
    "                                       'abs_left','abs_right','abs_top','abs_bot',\n",
    "                                       'ch_density','ch_entropy','ar','ncorners',\n",
    "                                       'down_diag','vert','up_diag','hor'])\n",
    "    mark_features = pd.concat([mark_features,features_df])"
   ]
  },
  {
   "cell_type": "code",
   "execution_count": 42,
   "metadata": {},
   "outputs": [
    {
     "data": {
      "text/html": [
       "<div>\n",
       "<table border=\"1\" class=\"dataframe\">\n",
       "  <thead>\n",
       "    <tr style=\"text-align: right;\">\n",
       "      <th></th>\n",
       "      <th>name</th>\n",
       "      <th>index</th>\n",
       "      <th>ncolors</th>\n",
       "      <th>nregions</th>\n",
       "      <th>frac</th>\n",
       "      <th>pcm</th>\n",
       "      <th>h_sym</th>\n",
       "      <th>v_sym</th>\n",
       "      <th>rep_frac</th>\n",
       "      <th>rep_pcm</th>\n",
       "      <th>...</th>\n",
       "      <th>abs_top</th>\n",
       "      <th>abs_bot</th>\n",
       "      <th>ch_density</th>\n",
       "      <th>ch_entropy</th>\n",
       "      <th>ar</th>\n",
       "      <th>ncorners</th>\n",
       "      <th>down_diag</th>\n",
       "      <th>vert</th>\n",
       "      <th>up_diag</th>\n",
       "      <th>hor</th>\n",
       "    </tr>\n",
       "  </thead>\n",
       "  <tbody>\n",
       "    <tr>\n",
       "      <th>1</th>\n",
       "      <td>abbott-labs</td>\n",
       "      <td>1</td>\n",
       "      <td>1</td>\n",
       "      <td>1</td>\n",
       "      <td>0.014002</td>\n",
       "      <td>5.13403</td>\n",
       "      <td>0.606621</td>\n",
       "      <td>0.324424</td>\n",
       "      <td>0</td>\n",
       "      <td>0</td>\n",
       "      <td>...</td>\n",
       "      <td>False</td>\n",
       "      <td>False</td>\n",
       "      <td>0.566728</td>\n",
       "      <td>0.780712</td>\n",
       "      <td>0.756098</td>\n",
       "      <td>20</td>\n",
       "      <td>0.059896</td>\n",
       "      <td>0.515625</td>\n",
       "      <td>0.122396</td>\n",
       "      <td>0.302083</td>\n",
       "    </tr>\n",
       "  </tbody>\n",
       "</table>\n",
       "<p>1 rows × 28 columns</p>\n",
       "</div>"
      ],
      "text/plain": [
       "          name  index  ncolors  nregions      frac      pcm     h_sym  \\\n",
       "1  abbott-labs      1        1         1  0.014002  5.13403  0.606621   \n",
       "\n",
       "      v_sym  rep_frac  rep_pcm    ...     abs_top  abs_bot ch_density  \\\n",
       "1  0.324424         0        0    ...       False    False   0.566728   \n",
       "\n",
       "  ch_entropy        ar ncorners down_diag      vert   up_diag       hor  \n",
       "1   0.780712  0.756098       20  0.059896  0.515625  0.122396  0.302083  \n",
       "\n",
       "[1 rows x 28 columns]"
      ]
     },
     "execution_count": 42,
     "metadata": {},
     "output_type": "execute_result"
    }
   ],
   "source": [
    "mark_features"
   ]
  },
  {
   "cell_type": "code",
   "execution_count": 43,
   "metadata": {},
   "outputs": [
    {
     "data": {
      "text/html": [
       "<div>\n",
       "<table border=\"1\" class=\"dataframe\">\n",
       "  <thead>\n",
       "    <tr style=\"text-align: right;\">\n",
       "      <th></th>\n",
       "      <th>name</th>\n",
       "      <th>index</th>\n",
       "      <th>0</th>\n",
       "      <th>1</th>\n",
       "      <th>2</th>\n",
       "      <th>3</th>\n",
       "      <th>4</th>\n",
       "      <th>5</th>\n",
       "      <th>6</th>\n",
       "      <th>7</th>\n",
       "      <th>...</th>\n",
       "      <th>615</th>\n",
       "      <th>616</th>\n",
       "      <th>617</th>\n",
       "      <th>618</th>\n",
       "      <th>619</th>\n",
       "      <th>620</th>\n",
       "      <th>621</th>\n",
       "      <th>622</th>\n",
       "      <th>623</th>\n",
       "      <th>624</th>\n",
       "    </tr>\n",
       "  </thead>\n",
       "  <tbody>\n",
       "    <tr>\n",
       "      <th>0</th>\n",
       "      <td>abbott-labs</td>\n",
       "      <td>1</td>\n",
       "      <td>0</td>\n",
       "      <td>0</td>\n",
       "      <td>0</td>\n",
       "      <td>0</td>\n",
       "      <td>0</td>\n",
       "      <td>0</td>\n",
       "      <td>0</td>\n",
       "      <td>0</td>\n",
       "      <td>...</td>\n",
       "      <td>1</td>\n",
       "      <td>1</td>\n",
       "      <td>1</td>\n",
       "      <td>0.55</td>\n",
       "      <td>0.222987</td>\n",
       "      <td>0</td>\n",
       "      <td>0</td>\n",
       "      <td>0</td>\n",
       "      <td>0</td>\n",
       "      <td>0</td>\n",
       "    </tr>\n",
       "  </tbody>\n",
       "</table>\n",
       "<p>1 rows × 627 columns</p>\n",
       "</div>"
      ],
      "text/plain": [
       "          name  index  0  1  2  3  4  5  6  7 ...   615  616  617   618  \\\n",
       "0  abbott-labs      1  0  0  0  0  0  0  0  0 ...     1    1    1  0.55   \n",
       "\n",
       "        619  620  621  622  623  624  \n",
       "0  0.222987    0    0    0    0    0  \n",
       "\n",
       "[1 rows x 627 columns]"
      ]
     },
     "execution_count": 43,
     "metadata": {},
     "output_type": "execute_result"
    }
   ],
   "source": [
    "marks"
   ]
  },
  {
   "cell_type": "code",
   "execution_count": 44,
   "metadata": {},
   "outputs": [
    {
     "data": {
      "text/html": [
       "<div>\n",
       "<table border=\"1\" class=\"dataframe\">\n",
       "  <thead>\n",
       "    <tr style=\"text-align: right;\">\n",
       "      <th></th>\n",
       "      <th>name</th>\n",
       "      <th>index</th>\n",
       "      <th>0</th>\n",
       "      <th>1</th>\n",
       "      <th>2</th>\n",
       "      <th>3</th>\n",
       "      <th>4</th>\n",
       "      <th>5</th>\n",
       "      <th>6</th>\n",
       "      <th>7</th>\n",
       "      <th>...</th>\n",
       "      <th>615</th>\n",
       "      <th>616</th>\n",
       "      <th>617</th>\n",
       "      <th>618</th>\n",
       "      <th>619</th>\n",
       "      <th>620</th>\n",
       "      <th>621</th>\n",
       "      <th>622</th>\n",
       "      <th>623</th>\n",
       "      <th>624</th>\n",
       "    </tr>\n",
       "  </thead>\n",
       "  <tbody>\n",
       "    <tr>\n",
       "      <th>0</th>\n",
       "      <td>abbott-labs</td>\n",
       "      <td>1</td>\n",
       "      <td>0</td>\n",
       "      <td>0</td>\n",
       "      <td>0</td>\n",
       "      <td>0</td>\n",
       "      <td>0</td>\n",
       "      <td>0</td>\n",
       "      <td>0</td>\n",
       "      <td>0</td>\n",
       "      <td>...</td>\n",
       "      <td>1</td>\n",
       "      <td>1</td>\n",
       "      <td>1</td>\n",
       "      <td>0.55</td>\n",
       "      <td>0.222987</td>\n",
       "      <td>0</td>\n",
       "      <td>0</td>\n",
       "      <td>0</td>\n",
       "      <td>0</td>\n",
       "      <td>0</td>\n",
       "    </tr>\n",
       "  </tbody>\n",
       "</table>\n",
       "<p>1 rows × 627 columns</p>\n",
       "</div>"
      ],
      "text/plain": [
       "          name  index  0  1  2  3  4  5  6  7 ...   615  616  617   618  \\\n",
       "0  abbott-labs      1  0  0  0  0  0  0  0  0 ...     1    1    1  0.55   \n",
       "\n",
       "        619  620  621  622  623  624  \n",
       "0  0.222987    0    0    0    0    0  \n",
       "\n",
       "[1 rows x 627 columns]"
      ]
     },
     "execution_count": 44,
     "metadata": {},
     "output_type": "execute_result"
    }
   ],
   "source": [
    "mark_hulls"
   ]
  },
  {
   "cell_type": "markdown",
   "metadata": {},
   "source": [
    "## Global Features\n",
    "\n",
    "Having both assessed the features of the fonts and of the marks, let's now compute some metrics for the logo as a whole. Many of these metrics will be similar to those used to assess the marks, and with similar justifications as above, so I will not repeat them here.\n",
    "\n",
    "To begin, we will look at summaries of the metrics computed above, to capture complexity, like how many marks there are, how many letters, how many regions, and how many distinct colors:"
   ]
  },
  {
   "cell_type": "code",
   "execution_count": 45,
   "metadata": {},
   "outputs": [
    {
     "data": {
      "text/plain": [
       "4"
      ]
     },
     "execution_count": 45,
     "metadata": {},
     "output_type": "execute_result"
    }
   ],
   "source": [
    "ncolors = color_df.shape[0]\n",
    "ncolors"
   ]
  },
  {
   "cell_type": "code",
   "execution_count": 46,
   "metadata": {},
   "outputs": [
    {
     "data": {
      "text/plain": [
       "1"
      ]
     },
     "execution_count": 46,
     "metadata": {},
     "output_type": "execute_result"
    }
   ],
   "source": [
    "nmarks = marks.shape[0]\n",
    "nmarks"
   ]
  },
  {
   "cell_type": "code",
   "execution_count": 47,
   "metadata": {},
   "outputs": [
    {
     "data": {
      "text/plain": [
       "6"
      ]
     },
     "execution_count": 47,
     "metadata": {},
     "output_type": "execute_result"
    }
   ],
   "source": [
    "nregions = np.max(regionalized)\n",
    "nregions"
   ]
  },
  {
   "cell_type": "markdown",
   "metadata": {},
   "source": [
    "We can also use the greyscale of the logo to compute metrics similar to the above, things like the entropy and perimetric complexity as a measures of complexity,"
   ]
  },
  {
   "cell_type": "code",
   "execution_count": 48,
   "metadata": {},
   "outputs": [
    {
     "data": {
      "text/plain": [
       "(1.4043095209572871, 27.985170646553495)"
      ]
     },
     "execution_count": 48,
     "metadata": {},
     "output_type": "execute_result"
    }
   ],
   "source": [
    "# Compute greyscale summaries:\n",
    "grey_img = color.rgb2grey(img)\n",
    "\n",
    "# Average local greyscale entropy:\n",
    "with warnings.catch_warnings():\n",
    "    warnings.simplefilter(\"ignore\")\n",
    "    grey_entropy = np.mean(entropy(remove_white_bg(grey_img), disk(20)))\n",
    "\n",
    "# Perimetric complexity:\n",
    "binary_img = (grey_img < 0.9).astype(\"float\")\n",
    "gpc = perimetric_complexity(binary_img)\n",
    "\n",
    "grey_entropy, gpc"
   ]
  },
  {
   "cell_type": "markdown",
   "metadata": {},
   "source": [
    "Again, to assess angularity, the number of corners (this time with an illustration):"
   ]
  },
  {
   "cell_type": "code",
   "execution_count": 49,
   "metadata": {},
   "outputs": [
    {
     "data": {
      "text/plain": [
       "33"
      ]
     },
     "execution_count": 49,
     "metadata": {},
     "output_type": "execute_result"
    }
   ],
   "source": [
    "# Total number of corners in the img:\n",
    "ncorners = feature.corner_peaks(feature.corner_harris(grey_img), min_distance=5).shape[0]\n",
    "ncorners"
   ]
  },
  {
   "cell_type": "code",
   "execution_count": 50,
   "metadata": {},
   "outputs": [
    {
     "data": {
      "image/png": "[encoded data removed]",
      "text/plain": [
       "<matplotlib.figure.Figure at 0x121d8f8d0>"
      ]
     },
     "metadata": {},
     "output_type": "display_data"
    }
   ],
   "source": [
    "coords = feature.corner_peaks(feature.corner_harris(binary_img), min_distance=5)\n",
    "\n",
    "fig, ax = plt.subplots()\n",
    "ax.imshow(img, interpolation='nearest', cmap=plt.cm.gray)\n",
    "ax.plot(coords[:, 1], coords[:, 0], '.r', markersize=7)\n",
    "plt.tick_params(axis='both', which='both', bottom='off', top='off', labelbottom='off', right='off', left='off', labelleft='off')"
   ]
  },
  {
   "cell_type": "markdown",
   "metadata": {},
   "source": [
    "As mentioned above, some work by Valdez and Mehrabian, as well as by Deng et al., shows that people have different reactions to the HSV dimensions. One easy statistic to compute, though may not be particularly useful, is the average HSV dimensions for the image as a whole (giving a notion of, for example, on average how light are the colors used, or how saturated---hue probably doesn't mean anything), or how variable saturation and lightness are across the image."
   ]
  },
  {
   "cell_type": "code",
   "execution_count": 51,
   "metadata": {},
   "outputs": [
    {
     "data": {
      "text/plain": [
       "(0.17633535008536785,\n",
       " 0.80620673871959447,\n",
       " 0.37462038654502156,\n",
       " 0.35364361048028231)"
      ]
     },
     "execution_count": 51,
     "metadata": {},
     "output_type": "execute_result"
    }
   ],
   "source": [
    "# HSV summaries:\n",
    "hsv_img = color.rgb2hsv(remove_white_bg(img))\n",
    "hsv_means = np.mean(hsv_img, axis=(0,1))\n",
    "mean_sat = hsv_means[1]\n",
    "mean_light = hsv_means[2]\n",
    "\n",
    "hsv_sds = np.std(hsv_img, axis=(0,1))\n",
    "sd_sat = hsv_sds[1]\n",
    "sd_light = hsv_sds[2]\n",
    "\n",
    "mean_sat, mean_light, sd_sat, sd_light"
   ]
  },
  {
   "cell_type": "markdown",
   "metadata": {},
   "source": [
    "Another metric of lightness (and perhaps of complexity) is the percentage of whitespace:"
   ]
  },
  {
   "cell_type": "code",
   "execution_count": 52,
   "metadata": {},
   "outputs": [
    {
     "data": {
      "image/png": "[encoded data removed]",
      "text/plain": [
       "<matplotlib.figure.Figure at 0x1217d6358>"
      ]
     },
     "metadata": {},
     "output_type": "display_data"
    }
   ],
   "source": [
    "plt.imshow(1-remove_segmentation_bg(binary_img), cmap=\"gray\")\n",
    "plt.tick_params(axis='both', which='both', bottom='off', top='off', \n",
    "                labelbottom='off', right='off', left='off', labelleft='off')"
   ]
  },
  {
   "cell_type": "code",
   "execution_count": 53,
   "metadata": {},
   "outputs": [
    {
     "data": {
      "text/plain": [
       "0.6057846598202824"
      ]
     },
     "execution_count": 53,
     "metadata": {},
     "output_type": "execute_result"
    }
   ],
   "source": [
    "perc_white = 1.0 - np.mean(remove_segmentation_bg(binary_img))\n",
    "perc_white"
   ]
  },
  {
   "cell_type": "markdown",
   "metadata": {},
   "source": [
    "We can also compute the symmetry of the logo as a whole:"
   ]
  },
  {
   "cell_type": "code",
   "execution_count": 54,
   "metadata": {},
   "outputs": [
    {
     "data": {
      "text/plain": [
       "(0.014511323699310548, 0.16545682646165241)"
      ]
     },
     "execution_count": 54,
     "metadata": {},
     "output_type": "execute_result"
    }
   ],
   "source": [
    "# Horizontal, vertical symmetry\n",
    "h_sym, v_sym = compute_symmetry(binary_img)\n",
    "h_sym, v_sym"
   ]
  },
  {
   "cell_type": "markdown",
   "metadata": {},
   "source": [
    "The aspect ratio of the logo as a whole:"
   ]
  },
  {
   "cell_type": "code",
   "execution_count": 55,
   "metadata": {},
   "outputs": [
    {
     "data": {
      "text/plain": [
       "3.7037037037037037"
      ]
     },
     "execution_count": 55,
     "metadata": {},
     "output_type": "execute_result"
    }
   ],
   "source": [
    "# Aspect ratio of the mark:\n",
    "h,w = remove_segmentation_bg(regionalized).shape\n",
    "ar = w/h\n",
    "ar"
   ]
  },
  {
   "cell_type": "markdown",
   "metadata": {},
   "source": [
    "Global orientation and diagonals:"
   ]
  },
  {
   "cell_type": "code",
   "execution_count": 56,
   "metadata": {},
   "outputs": [
    {
     "data": {
      "text/plain": [
       "array([ 0.07538995,  0.39745812,  0.08001155,  0.44714038])"
      ]
     },
     "execution_count": 56,
     "metadata": {},
     "output_type": "execute_result"
    }
   ],
   "source": [
    "# Gradient information to capture orientation:\n",
    "grad_mean, grad_bins = gradient_info(binary_img)\n",
    "(down_diag, vert, up_diag, hor) = grad_bins\n",
    "grad_bins"
   ]
  },
  {
   "cell_type": "markdown",
   "metadata": {},
   "source": [
    "Two things are worth noticing at this point:\n",
    "\n",
    "1. I think this measure for the logo as a whole is not as meaningful as it was for the mark in isolation, since many of the letters themselves have strong upward gradients\n",
    "\n",
    "2. Many of the local mark features can also be made into global features: for example, if there is only one mark, and it is to the left of the text versus the right of the text. This captures, to some degree, the orientation. If there is more than one mark (or some missed text that is captured as a \"mark\"), then we should decide the orientation based on the main mark.\n",
    "\n",
    "Thus, following up on point 2, we have another measure of orientation, looking at where the main (alt. max) mark (shortened as `mmark`) falls relative to the text:"
   ]
  },
  {
   "cell_type": "code",
   "execution_count": 57,
   "metadata": {},
   "outputs": [
    {
     "data": {
      "text/plain": [
       "(False, True, False, False, False, True, False, False)"
      ]
     },
     "execution_count": 57,
     "metadata": {},
     "output_type": "execute_result"
    }
   ],
   "source": [
    "(mmark_avgleft, mmark_avgright, mmark_avgtop, mmark_avgbot, mmark_absleft, mmark_absright, mmark_abstop, \n",
    " mmark_absbot) = mark_features.iloc[mark_features['frac'].idxmax()-1,:].loc['avg_left':'abs_bot']\n",
    "\n",
    "(mmark_avgleft, mmark_avgright, mmark_avgtop, mmark_avgbot, mmark_absleft, mmark_absright, mmark_abstop, \n",
    " mmark_absbot)"
   ]
  },
  {
   "cell_type": "markdown",
   "metadata": {},
   "source": [
    "Finally, we can still compute the hull and all of that:"
   ]
  },
  {
   "cell_type": "code",
   "execution_count": 58,
   "metadata": {},
   "outputs": [
    {
     "data": {
      "text/plain": [
       "(-0.5, 359.5, 122.5, -0.5)"
      ]
     },
     "execution_count": 58,
     "metadata": {},
     "output_type": "execute_result"
    },
    {
     "data": {
      "image/png": "[encoded data removed]",
      "text/plain": [
       "<matplotlib.figure.Figure at 0x121e85cf8>"
      ]
     },
     "metadata": {},
     "output_type": "display_data"
    }
   ],
   "source": [
    "hull = make_small_feature(convex_hull_image(binary_img))\n",
    "\n",
    "plt.figure()\n",
    "plt.imshow(convex_hull_image(binary_img), cmap=\"gray\")\n",
    "plt.axis('off')"
   ]
  },
  {
   "cell_type": "markdown",
   "metadata": {},
   "source": [
    "Computing the hull lets us group logos by their structure, and may capture again something similar to orientation."
   ]
  },
  {
   "cell_type": "code",
   "execution_count": 59,
   "metadata": {},
   "outputs": [
    {
     "data": {
      "image/png": "[encoded data removed]",
      "text/plain": [
       "<matplotlib.figure.Figure at 0x11117a5c0>"
      ]
     },
     "metadata": {},
     "output_type": "display_data"
    }
   ],
   "source": [
    "from skimage.feature import hog\n",
    "from skimage import data, exposure\n",
    "\n",
    "fd, hog_image = hog(grey_img, orientations=8, pixels_per_cell=(16, 16),\n",
    "                    cells_per_block=(1, 1), visualise=True)\n",
    "\n",
    "fig, (ax1, ax2) = plt.subplots(1, 2, figsize=(8, 4), sharex=True, sharey=True)\n",
    "\n",
    "ax1.axis('off')\n",
    "ax1.imshow(img, cmap=plt.cm.gray)\n",
    "ax1.set_title('Input image')\n",
    "\n",
    "# Rescale histogram for better display\n",
    "hog_image_rescaled = exposure.rescale_intensity(hog_image, in_range=(0, 10))\n",
    "\n",
    "ax2.axis('off')\n",
    "ax2.imshow(hog_image_rescaled, cmap=plt.cm.gray)\n",
    "ax2.set_title('Histogram of Oriented Gradients')\n",
    "plt.show()"
   ]
  },
  {
   "cell_type": "code",
   "execution_count": 60,
   "metadata": {},
   "outputs": [
    {
     "data": {
      "image/png": "[encoded data removed]",
      "text/plain": [
       "<matplotlib.figure.Figure at 0x11133fd30>"
      ]
     },
     "metadata": {},
     "output_type": "display_data"
    }
   ],
   "source": [
    "plt.imshow(hog_image_rescaled, cmap=\"hot\")\n",
    "plt.tick_params(axis='both', which='both', bottom='off', top='off', \n",
    "                labelbottom='off', right='off', left='off', labelleft='off')"
   ]
  },
  {
   "cell_type": "code",
   "execution_count": null,
   "metadata": {},
   "outputs": [],
   "source": []
  }
 ],
 "metadata": {
  "kernelspec": {
   "display_name": "Python (clusterenv)",
   "language": "python",
   "name": "clusterenv"
  },
  "language_info": {
   "codemirror_mode": {
    "name": "ipython",
    "version": 3
   },
   "file_extension": ".py",
   "mimetype": "text/x-python",
   "name": "python",
   "nbconvert_exporter": "python",
   "pygments_lexer": "ipython3",
   "version": "3.4.5"
  }
 },
 "nbformat": 4,
 "nbformat_minor": 2
}
